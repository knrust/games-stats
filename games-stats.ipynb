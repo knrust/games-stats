{
 "cells": [
  {
   "cell_type": "markdown",
   "metadata": {},
   "source": [
    "# Анализ рынка видеоигр"
   ]
  },
  {
   "cell_type": "markdown",
   "metadata": {},
   "source": [
    "**Имеются:**  исторические данные о продажах игр в период с 1980 по 2016 года, оценки пользователей и экспертов, жанры и платформы из открытых источников.\n",
    "\n",
    "**Необходимо:** провести первичный и статистический анализ рынка видеоигр, выявить определяющие успешность игры закономерности (это позволит сделать ставку на потенциально популярный продукт и спланировать рекламные кампании в сфере продаж видеоигр)\n"
   ]
  },
  {
   "cell_type": "markdown",
   "metadata": {},
   "source": [
    "## 1. Изучение общей информации"
   ]
  },
  {
   "cell_type": "code",
   "execution_count": 4,
   "metadata": {},
   "outputs": [],
   "source": [
    "import pandas as pd\n",
    "import numpy as np\n",
    "import matplotlib.pyplot as plt\n",
    "from scipy import stats as st\n",
    "import seaborn as sns \n",
    "import os\n",
    "import warnings\n",
    "warnings.filterwarnings('ignore')"
   ]
  },
  {
   "cell_type": "code",
   "execution_count": 5,
   "metadata": {},
   "outputs": [],
   "source": [
    "path1 = '/datasets/games.csv'\n",
    "path2 = 'C:\\\\Users\\\\admin\\\\Desktop\\\\analys\\\\games-stats\\\\games.csv'\n",
    "\n",
    "if os.path.exists(path1):\n",
    "    df = pd.read_csv(path1)\n",
    "elif os.path.exists(path2):\n",
    "    df = pd.read_csv(path2)"
   ]
  },
  {
   "cell_type": "code",
   "execution_count": 6,
   "metadata": {},
   "outputs": [
    {
     "data": {
      "text/html": [
       "<div>\n",
       "<style scoped>\n",
       "    .dataframe tbody tr th:only-of-type {\n",
       "        vertical-align: middle;\n",
       "    }\n",
       "\n",
       "    .dataframe tbody tr th {\n",
       "        vertical-align: top;\n",
       "    }\n",
       "\n",
       "    .dataframe thead th {\n",
       "        text-align: right;\n",
       "    }\n",
       "</style>\n",
       "<table border=\"1\" class=\"dataframe\">\n",
       "  <thead>\n",
       "    <tr style=\"text-align: right;\">\n",
       "      <th></th>\n",
       "      <th>Name</th>\n",
       "      <th>Platform</th>\n",
       "      <th>Year_of_Release</th>\n",
       "      <th>Genre</th>\n",
       "      <th>NA_sales</th>\n",
       "      <th>EU_sales</th>\n",
       "      <th>JP_sales</th>\n",
       "      <th>Other_sales</th>\n",
       "      <th>Critic_Score</th>\n",
       "      <th>User_Score</th>\n",
       "      <th>Rating</th>\n",
       "    </tr>\n",
       "  </thead>\n",
       "  <tbody>\n",
       "    <tr>\n",
       "      <th>0</th>\n",
       "      <td>Wii Sports</td>\n",
       "      <td>Wii</td>\n",
       "      <td>2006.0</td>\n",
       "      <td>Sports</td>\n",
       "      <td>41.36</td>\n",
       "      <td>28.96</td>\n",
       "      <td>3.77</td>\n",
       "      <td>8.45</td>\n",
       "      <td>76.0</td>\n",
       "      <td>8</td>\n",
       "      <td>E</td>\n",
       "    </tr>\n",
       "    <tr>\n",
       "      <th>1</th>\n",
       "      <td>Super Mario Bros.</td>\n",
       "      <td>NES</td>\n",
       "      <td>1985.0</td>\n",
       "      <td>Platform</td>\n",
       "      <td>29.08</td>\n",
       "      <td>3.58</td>\n",
       "      <td>6.81</td>\n",
       "      <td>0.77</td>\n",
       "      <td>NaN</td>\n",
       "      <td>NaN</td>\n",
       "      <td>NaN</td>\n",
       "    </tr>\n",
       "    <tr>\n",
       "      <th>2</th>\n",
       "      <td>Mario Kart Wii</td>\n",
       "      <td>Wii</td>\n",
       "      <td>2008.0</td>\n",
       "      <td>Racing</td>\n",
       "      <td>15.68</td>\n",
       "      <td>12.76</td>\n",
       "      <td>3.79</td>\n",
       "      <td>3.29</td>\n",
       "      <td>82.0</td>\n",
       "      <td>8.3</td>\n",
       "      <td>E</td>\n",
       "    </tr>\n",
       "    <tr>\n",
       "      <th>3</th>\n",
       "      <td>Wii Sports Resort</td>\n",
       "      <td>Wii</td>\n",
       "      <td>2009.0</td>\n",
       "      <td>Sports</td>\n",
       "      <td>15.61</td>\n",
       "      <td>10.93</td>\n",
       "      <td>3.28</td>\n",
       "      <td>2.95</td>\n",
       "      <td>80.0</td>\n",
       "      <td>8</td>\n",
       "      <td>E</td>\n",
       "    </tr>\n",
       "    <tr>\n",
       "      <th>4</th>\n",
       "      <td>Pokemon Red/Pokemon Blue</td>\n",
       "      <td>GB</td>\n",
       "      <td>1996.0</td>\n",
       "      <td>Role-Playing</td>\n",
       "      <td>11.27</td>\n",
       "      <td>8.89</td>\n",
       "      <td>10.22</td>\n",
       "      <td>1.00</td>\n",
       "      <td>NaN</td>\n",
       "      <td>NaN</td>\n",
       "      <td>NaN</td>\n",
       "    </tr>\n",
       "  </tbody>\n",
       "</table>\n",
       "</div>"
      ],
      "text/plain": [
       "                       Name Platform  Year_of_Release         Genre  NA_sales  \\\n",
       "0                Wii Sports      Wii           2006.0        Sports     41.36   \n",
       "1         Super Mario Bros.      NES           1985.0      Platform     29.08   \n",
       "2            Mario Kart Wii      Wii           2008.0        Racing     15.68   \n",
       "3         Wii Sports Resort      Wii           2009.0        Sports     15.61   \n",
       "4  Pokemon Red/Pokemon Blue       GB           1996.0  Role-Playing     11.27   \n",
       "\n",
       "   EU_sales  JP_sales  Other_sales  Critic_Score User_Score Rating  \n",
       "0     28.96      3.77         8.45          76.0          8      E  \n",
       "1      3.58      6.81         0.77           NaN        NaN    NaN  \n",
       "2     12.76      3.79         3.29          82.0        8.3      E  \n",
       "3     10.93      3.28         2.95          80.0          8      E  \n",
       "4      8.89     10.22         1.00           NaN        NaN    NaN  "
      ]
     },
     "execution_count": 6,
     "metadata": {},
     "output_type": "execute_result"
    }
   ],
   "source": [
    "df.head()"
   ]
  },
  {
   "cell_type": "code",
   "execution_count": 7,
   "metadata": {},
   "outputs": [
    {
     "name": "stdout",
     "output_type": "stream",
     "text": [
      "<class 'pandas.core.frame.DataFrame'>\n",
      "RangeIndex: 16715 entries, 0 to 16714\n",
      "Data columns (total 11 columns):\n",
      " #   Column           Non-Null Count  Dtype  \n",
      "---  ------           --------------  -----  \n",
      " 0   Name             16713 non-null  object \n",
      " 1   Platform         16715 non-null  object \n",
      " 2   Year_of_Release  16446 non-null  float64\n",
      " 3   Genre            16713 non-null  object \n",
      " 4   NA_sales         16715 non-null  float64\n",
      " 5   EU_sales         16715 non-null  float64\n",
      " 6   JP_sales         16715 non-null  float64\n",
      " 7   Other_sales      16715 non-null  float64\n",
      " 8   Critic_Score     8137 non-null   float64\n",
      " 9   User_Score       10014 non-null  object \n",
      " 10  Rating           9949 non-null   object \n",
      "dtypes: float64(6), object(5)\n",
      "memory usage: 1.4+ MB\n"
     ]
    }
   ],
   "source": [
    "df.info()"
   ]
  },
  {
   "cell_type": "markdown",
   "metadata": {},
   "source": [
    "Что по пропускам?"
   ]
  },
  {
   "cell_type": "code",
   "execution_count": 8,
   "metadata": {},
   "outputs": [
    {
     "data": {
      "text/plain": [
       "Name                  2\n",
       "Platform              0\n",
       "Year_of_Release     269\n",
       "Genre                 2\n",
       "NA_sales              0\n",
       "EU_sales              0\n",
       "JP_sales              0\n",
       "Other_sales           0\n",
       "Critic_Score       8578\n",
       "User_Score         6701\n",
       "Rating             6766\n",
       "dtype: int64"
      ]
     },
     "execution_count": 8,
     "metadata": {},
     "output_type": "execute_result"
    }
   ],
   "source": [
    "df.isna().sum()"
   ]
  },
  {
   "cell_type": "code",
   "execution_count": 9,
   "metadata": {},
   "outputs": [
    {
     "data": {
      "text/plain": [
       "Name                0.011965\n",
       "Platform            0.000000\n",
       "Year_of_Release     1.609333\n",
       "Genre               0.011965\n",
       "NA_sales            0.000000\n",
       "EU_sales            0.000000\n",
       "JP_sales            0.000000\n",
       "Other_sales         0.000000\n",
       "Critic_Score       51.319174\n",
       "User_Score         40.089740\n",
       "Rating             40.478612\n",
       "dtype: float64"
      ]
     },
     "execution_count": 9,
     "metadata": {},
     "output_type": "execute_result"
    }
   ],
   "source": [
    "100*df.isna().mean() # Доля пропусков в процентах"
   ]
  },
  {
   "cell_type": "code",
   "execution_count": 10,
   "metadata": {},
   "outputs": [
    {
     "data": {
      "text/plain": [
       "0"
      ]
     },
     "execution_count": 10,
     "metadata": {},
     "output_type": "execute_result"
    }
   ],
   "source": [
    "df.duplicated().sum() # Проверка на дубликаты"
   ]
  },
  {
   "cell_type": "markdown",
   "metadata": {},
   "source": [
    "Сколько игр в датасете?"
   ]
  },
  {
   "cell_type": "code",
   "execution_count": 11,
   "metadata": {},
   "outputs": [
    {
     "data": {
      "text/plain": [
       "11560"
      ]
     },
     "execution_count": 11,
     "metadata": {},
     "output_type": "execute_result"
    }
   ],
   "source": [
    "len(df.Name.unique())"
   ]
  },
  {
   "cell_type": "markdown",
   "metadata": {},
   "source": [
    "Взглянем предварительно на топы самых популярных значений."
   ]
  },
  {
   "cell_type": "code",
   "execution_count": 12,
   "metadata": {},
   "outputs": [
    {
     "data": {
      "text/plain": [
       "PS2     2161\n",
       "DS      2151\n",
       "PS3     1331\n",
       "Wii     1320\n",
       "X360    1262\n",
       "Name: Platform, dtype: int64"
      ]
     },
     "execution_count": 12,
     "metadata": {},
     "output_type": "execute_result"
    }
   ],
   "source": [
    "df.Platform.value_counts().head() # 5 самых популярных платформ"
   ]
  },
  {
   "cell_type": "code",
   "execution_count": 13,
   "metadata": {},
   "outputs": [
    {
     "data": {
      "text/plain": [
       "2008.0    1427\n",
       "2009.0    1426\n",
       "2010.0    1255\n",
       "2007.0    1197\n",
       "2011.0    1136\n",
       "Name: Year_of_Release, dtype: int64"
      ]
     },
     "execution_count": 13,
     "metadata": {},
     "output_type": "execute_result"
    }
   ],
   "source": [
    "df.Year_of_Release.value_counts().head() # 5 годов с самыми частыми релизами"
   ]
  },
  {
   "cell_type": "code",
   "execution_count": 14,
   "metadata": {},
   "outputs": [
    {
     "data": {
      "text/plain": [
       "Need for Speed: Most Wanted    12\n",
       "LEGO Marvel Super Heroes        9\n",
       "FIFA 14                         9\n",
       "Ratatouille                     9\n",
       "Madden NFL 07                   9\n",
       "Name: Name, dtype: int64"
      ]
     },
     "execution_count": 14,
     "metadata": {},
     "output_type": "execute_result"
    }
   ],
   "source": [
    "df.Name.value_counts().head() # 5 игр с самыми частыми релизами"
   ]
  },
  {
   "cell_type": "markdown",
   "metadata": {},
   "source": [
    "Учитывая, что у Need for Speed: Most Wanted был одноименный ремейк, полагаю, это и вывело игру в топ по релизам."
   ]
  },
  {
   "cell_type": "markdown",
   "metadata": {},
   "source": [
    "Какой временной диапазон охватываем?"
   ]
  },
  {
   "cell_type": "code",
   "execution_count": 15,
   "metadata": {},
   "outputs": [
    {
     "name": "stdout",
     "output_type": "stream",
     "text": [
      "Временной диапазон по датасету составляет 36.0 лет: с 1980.0 по 2016.0 года.\n"
     ]
    }
   ],
   "source": [
    "print('Временной диапазон по датасету составляет', \n",
    "      df.Year_of_Release.max()-df.Year_of_Release.min(),\n",
    "      'лет: с', df.Year_of_Release.min(),\n",
    "      'по', df.Year_of_Release.max(), 'года.')"
   ]
  },
  {
   "cell_type": "code",
   "execution_count": 16,
   "metadata": {},
   "outputs": [
    {
     "data": {
      "image/png": "[encoded data removed]",
      "text/plain": [
       "<Figure size 864x288 with 1 Axes>"
      ]
     },
     "metadata": {
      "needs_background": "light"
     },
     "output_type": "display_data"
    }
   ],
   "source": [
    "df.Year_of_Release.sort_values().plot(kind='hist',    # Выведем гистограмму по годам\n",
    "                                      bins=36, grid=True, \n",
    "                                      figsize=(12, 4), \n",
    "                                      title='Распределение по годам', \n",
    "                                      legend=True);"
   ]
  },
  {
   "cell_type": "code",
   "execution_count": 17,
   "metadata": {},
   "outputs": [
    {
     "data": {
      "text/plain": [
       "Action          3369\n",
       "Sports          2348\n",
       "Misc            1750\n",
       "Role-Playing    1498\n",
       "Shooter         1323\n",
       "Name: Genre, dtype: int64"
      ]
     },
     "execution_count": 17,
     "metadata": {},
     "output_type": "execute_result"
    }
   ],
   "source": [
    "df.Genre.value_counts().head() # 5 самых популярных жанров"
   ]
  },
  {
   "cell_type": "code",
   "execution_count": 18,
   "metadata": {},
   "outputs": [
    {
     "data": {
      "text/plain": [
       "E       3990\n",
       "T       2961\n",
       "M       1563\n",
       "E10+    1420\n",
       "EC         8\n",
       "RP         3\n",
       "K-A        3\n",
       "AO         1\n",
       "Name: Rating, dtype: int64"
      ]
     },
     "execution_count": 18,
     "metadata": {},
     "output_type": "execute_result"
    }
   ],
   "source": [
    "df.Rating.value_counts() # Возрастные рейтинг по мере популярности в порядке убывания"
   ]
  },
  {
   "cell_type": "markdown",
   "metadata": {},
   "source": [
    "Небольшое пояснение с Википедии в порядке убывания:\n",
    "- «E» («Everyone») — «Для всех»: Игра подходит для лиц от 6 лет\n",
    "- «T» («Teen») — «Подросткам»: от 13 лет\n",
    "- «M» («Mature») — «Для взрослых»: от 17 лет\n",
    "- «E10+» («Everyone 10 and older») — «Для всех от 10 лет и старше»\n",
    "- «EC» («Early childhood») — «Для детей младшего возраста»: до 3 лет\n",
    "- \"K-A\" (\"Kids to Adults\"): первоначальная версия «E»\n",
    "- «RP» («Rating Pending») — «Рейтинг ожидается». Для еще невыпущенных проектов.\n",
    "- «AO» («Adults Only 18+») — «Только для взрослых старше 18 лет»"
   ]
  },
  {
   "cell_type": "markdown",
   "metadata": {},
   "source": [
    "### Вывод"
   ]
  },
  {
   "cell_type": "markdown",
   "metadata": {},
   "source": [
    "В нашем распоряжении датасет об 11.5 тыс. видеоиграх: данные по продажам в трех регионах (Северная Америка, Евросоюз, Япония) и других, их возрастному рейтингу, журналистским и пользовательским оценкам. \n",
    "\n",
    "Нам необходимо выявить определяющие успешность игры закономерности, чтобы сделать ставку на потенциально популярный продукт и спланировать рекламные кампании. Мы планируем кампанию на 2017 год.\n",
    "\n",
    "Первое, на что бросаются глаза - объем датасета: в нем есть игры аж с 1890 года. При составлении плана на 2017 года, анализ старых игр может не дать нам полезного результата. На это стоит обратить внимание.\n",
    "\n",
    "В колонках с продажами много нулей - это может быть оправдано. В колонках рейтинга и оценок - много NaN'ов - нужно понять их причину. \n",
    "\n",
    "Датасет очевидно необходимо обработать: пропуски, именования столбцов, нулевые значения, изменить типы данных некоторых столбцов, просчитать новые метрики."
   ]
  },
  {
   "cell_type": "markdown",
   "metadata": {},
   "source": [
    "## 2. Предобработка данных"
   ]
  },
  {
   "cell_type": "code",
   "execution_count": 19,
   "metadata": {},
   "outputs": [
    {
     "name": "stdout",
     "output_type": "stream",
     "text": [
      "<class 'pandas.core.frame.DataFrame'>\n",
      "RangeIndex: 16715 entries, 0 to 16714\n",
      "Data columns (total 11 columns):\n",
      " #   Column           Non-Null Count  Dtype  \n",
      "---  ------           --------------  -----  \n",
      " 0   Name             16713 non-null  object \n",
      " 1   Platform         16715 non-null  object \n",
      " 2   Year_of_Release  16446 non-null  float64\n",
      " 3   Genre            16713 non-null  object \n",
      " 4   NA_sales         16715 non-null  float64\n",
      " 5   EU_sales         16715 non-null  float64\n",
      " 6   JP_sales         16715 non-null  float64\n",
      " 7   Other_sales      16715 non-null  float64\n",
      " 8   Critic_Score     8137 non-null   float64\n",
      " 9   User_Score       10014 non-null  object \n",
      " 10  Rating           9949 non-null   object \n",
      "dtypes: float64(6), object(5)\n",
      "memory usage: 1.4+ MB\n"
     ]
    }
   ],
   "source": [
    "df.info()"
   ]
  },
  {
   "cell_type": "markdown",
   "metadata": {},
   "source": [
    "### Именования столбцов."
   ]
  },
  {
   "cell_type": "markdown",
   "metadata": {},
   "source": [
    "Приведем к нижнему регистру."
   ]
  },
  {
   "cell_type": "code",
   "execution_count": 20,
   "metadata": {},
   "outputs": [],
   "source": [
    "df.set_axis(['name','platform','year_of_release', 'genre', 'na_sales', 'eu_sales', 'jp_sales', 'other_sales', 'critic_score', 'user_score', 'rating'], axis = 'columns', inplace = True) "
   ]
  },
  {
   "cell_type": "code",
   "execution_count": 21,
   "metadata": {
    "scrolled": true
   },
   "outputs": [
    {
     "data": {
      "text/html": [
       "<div>\n",
       "<style scoped>\n",
       "    .dataframe tbody tr th:only-of-type {\n",
       "        vertical-align: middle;\n",
       "    }\n",
       "\n",
       "    .dataframe tbody tr th {\n",
       "        vertical-align: top;\n",
       "    }\n",
       "\n",
       "    .dataframe thead th {\n",
       "        text-align: right;\n",
       "    }\n",
       "</style>\n",
       "<table border=\"1\" class=\"dataframe\">\n",
       "  <thead>\n",
       "    <tr style=\"text-align: right;\">\n",
       "      <th></th>\n",
       "      <th>name</th>\n",
       "      <th>platform</th>\n",
       "      <th>year_of_release</th>\n",
       "      <th>genre</th>\n",
       "      <th>na_sales</th>\n",
       "      <th>eu_sales</th>\n",
       "      <th>jp_sales</th>\n",
       "      <th>other_sales</th>\n",
       "      <th>critic_score</th>\n",
       "      <th>user_score</th>\n",
       "      <th>rating</th>\n",
       "    </tr>\n",
       "  </thead>\n",
       "  <tbody>\n",
       "    <tr>\n",
       "      <th>0</th>\n",
       "      <td>Wii Sports</td>\n",
       "      <td>Wii</td>\n",
       "      <td>2006.0</td>\n",
       "      <td>Sports</td>\n",
       "      <td>41.36</td>\n",
       "      <td>28.96</td>\n",
       "      <td>3.77</td>\n",
       "      <td>8.45</td>\n",
       "      <td>76.0</td>\n",
       "      <td>8</td>\n",
       "      <td>E</td>\n",
       "    </tr>\n",
       "  </tbody>\n",
       "</table>\n",
       "</div>"
      ],
      "text/plain": [
       "         name platform  year_of_release   genre  na_sales  eu_sales  jp_sales  \\\n",
       "0  Wii Sports      Wii           2006.0  Sports     41.36     28.96      3.77   \n",
       "\n",
       "   other_sales  critic_score user_score rating  \n",
       "0         8.45          76.0          8      E  "
      ]
     },
     "execution_count": 21,
     "metadata": {},
     "output_type": "execute_result"
    }
   ],
   "source": [
    "df.head(1) # Проверим"
   ]
  },
  {
   "cell_type": "markdown",
   "metadata": {},
   "source": [
    "### Приведем данные к нужным типам."
   ]
  },
  {
   "cell_type": "markdown",
   "metadata": {},
   "source": [
    "Колонку **year_of_release** не вижу смысла переводить в datetime: достаточно избавиться от NaN-ов и преобразовать в int."
   ]
  },
  {
   "cell_type": "code",
   "execution_count": 22,
   "metadata": {},
   "outputs": [
    {
     "data": {
      "text/plain": [
       "269"
      ]
     },
     "execution_count": 22,
     "metadata": {},
     "output_type": "execute_result"
    }
   ],
   "source": [
    "len(df.query('year_of_release==\"NaN\"')) # Сколько всего пропусков?"
   ]
  },
  {
   "cell_type": "markdown",
   "metadata": {},
   "source": [
    "А в процентах?"
   ]
  },
  {
   "cell_type": "code",
   "execution_count": 23,
   "metadata": {},
   "outputs": [
    {
     "name": "stdout",
     "output_type": "stream",
     "text": [
      "1.61 %\n"
     ]
    }
   ],
   "source": [
    "print(round(100*len(df.query('year_of_release==\"NaN\"'))/len(df), 2), '%')"
   ]
  },
  {
   "cell_type": "code",
   "execution_count": 24,
   "metadata": {},
   "outputs": [
    {
     "data": {
      "text/html": [
       "<div>\n",
       "<style scoped>\n",
       "    .dataframe tbody tr th:only-of-type {\n",
       "        vertical-align: middle;\n",
       "    }\n",
       "\n",
       "    .dataframe tbody tr th {\n",
       "        vertical-align: top;\n",
       "    }\n",
       "\n",
       "    .dataframe thead th {\n",
       "        text-align: right;\n",
       "    }\n",
       "</style>\n",
       "<table border=\"1\" class=\"dataframe\">\n",
       "  <thead>\n",
       "    <tr style=\"text-align: right;\">\n",
       "      <th></th>\n",
       "      <th>name</th>\n",
       "      <th>platform</th>\n",
       "      <th>year_of_release</th>\n",
       "      <th>genre</th>\n",
       "      <th>na_sales</th>\n",
       "      <th>eu_sales</th>\n",
       "      <th>jp_sales</th>\n",
       "      <th>other_sales</th>\n",
       "      <th>critic_score</th>\n",
       "      <th>user_score</th>\n",
       "      <th>rating</th>\n",
       "    </tr>\n",
       "  </thead>\n",
       "  <tbody>\n",
       "    <tr>\n",
       "      <th>183</th>\n",
       "      <td>Madden NFL 2004</td>\n",
       "      <td>PS2</td>\n",
       "      <td>NaN</td>\n",
       "      <td>Sports</td>\n",
       "      <td>4.26</td>\n",
       "      <td>0.26</td>\n",
       "      <td>0.01</td>\n",
       "      <td>0.71</td>\n",
       "      <td>94.0</td>\n",
       "      <td>8.5</td>\n",
       "      <td>E</td>\n",
       "    </tr>\n",
       "    <tr>\n",
       "      <th>377</th>\n",
       "      <td>FIFA Soccer 2004</td>\n",
       "      <td>PS2</td>\n",
       "      <td>NaN</td>\n",
       "      <td>Sports</td>\n",
       "      <td>0.59</td>\n",
       "      <td>2.36</td>\n",
       "      <td>0.04</td>\n",
       "      <td>0.51</td>\n",
       "      <td>84.0</td>\n",
       "      <td>6.4</td>\n",
       "      <td>E</td>\n",
       "    </tr>\n",
       "    <tr>\n",
       "      <th>456</th>\n",
       "      <td>LEGO Batman: The Videogame</td>\n",
       "      <td>Wii</td>\n",
       "      <td>NaN</td>\n",
       "      <td>Action</td>\n",
       "      <td>1.80</td>\n",
       "      <td>0.97</td>\n",
       "      <td>0.00</td>\n",
       "      <td>0.29</td>\n",
       "      <td>74.0</td>\n",
       "      <td>7.9</td>\n",
       "      <td>E10+</td>\n",
       "    </tr>\n",
       "    <tr>\n",
       "      <th>475</th>\n",
       "      <td>wwe Smackdown vs. Raw 2006</td>\n",
       "      <td>PS2</td>\n",
       "      <td>NaN</td>\n",
       "      <td>Fighting</td>\n",
       "      <td>1.57</td>\n",
       "      <td>1.02</td>\n",
       "      <td>0.00</td>\n",
       "      <td>0.41</td>\n",
       "      <td>NaN</td>\n",
       "      <td>NaN</td>\n",
       "      <td>NaN</td>\n",
       "    </tr>\n",
       "    <tr>\n",
       "      <th>609</th>\n",
       "      <td>Space Invaders</td>\n",
       "      <td>2600</td>\n",
       "      <td>NaN</td>\n",
       "      <td>Shooter</td>\n",
       "      <td>2.36</td>\n",
       "      <td>0.14</td>\n",
       "      <td>0.00</td>\n",
       "      <td>0.03</td>\n",
       "      <td>NaN</td>\n",
       "      <td>NaN</td>\n",
       "      <td>NaN</td>\n",
       "    </tr>\n",
       "  </tbody>\n",
       "</table>\n",
       "</div>"
      ],
      "text/plain": [
       "                           name platform  year_of_release     genre  na_sales  \\\n",
       "183             Madden NFL 2004      PS2              NaN    Sports      4.26   \n",
       "377            FIFA Soccer 2004      PS2              NaN    Sports      0.59   \n",
       "456  LEGO Batman: The Videogame      Wii              NaN    Action      1.80   \n",
       "475  wwe Smackdown vs. Raw 2006      PS2              NaN  Fighting      1.57   \n",
       "609              Space Invaders     2600              NaN   Shooter      2.36   \n",
       "\n",
       "     eu_sales  jp_sales  other_sales  critic_score user_score rating  \n",
       "183      0.26      0.01         0.71          94.0        8.5      E  \n",
       "377      2.36      0.04         0.51          84.0        6.4      E  \n",
       "456      0.97      0.00         0.29          74.0        7.9   E10+  \n",
       "475      1.02      0.00         0.41           NaN        NaN    NaN  \n",
       "609      0.14      0.00         0.03           NaN        NaN    NaN  "
      ]
     },
     "execution_count": 24,
     "metadata": {},
     "output_type": "execute_result"
    }
   ],
   "source": [
    "df.query('year_of_release==\"NaN\"').head()"
   ]
  },
  {
   "cell_type": "markdown",
   "metadata": {},
   "source": [
    "Основываясь на задаче проекта, я считаю возможным удалить эти полтора процента, как не несущие сильного влияния на данные. Природу их появления считаю случайной - если взглянуть на срез визуально, то не наблюдаю существенных никаких отличий от всего датафрейма ни по одному из столбцов."
   ]
  },
  {
   "cell_type": "code",
   "execution_count": 25,
   "metadata": {},
   "outputs": [],
   "source": [
    "df = df.drop(df.query('year_of_release==\"NaN\"').index)"
   ]
  },
  {
   "cell_type": "code",
   "execution_count": 26,
   "metadata": {},
   "outputs": [],
   "source": [
    "df['year_of_release'] = df['year_of_release'].astype('int')"
   ]
  },
  {
   "cell_type": "markdown",
   "metadata": {},
   "source": [
    "Два пропуска в графе \"Названия\":"
   ]
  },
  {
   "cell_type": "code",
   "execution_count": 27,
   "metadata": {},
   "outputs": [
    {
     "data": {
      "text/html": [
       "<div>\n",
       "<style scoped>\n",
       "    .dataframe tbody tr th:only-of-type {\n",
       "        vertical-align: middle;\n",
       "    }\n",
       "\n",
       "    .dataframe tbody tr th {\n",
       "        vertical-align: top;\n",
       "    }\n",
       "\n",
       "    .dataframe thead th {\n",
       "        text-align: right;\n",
       "    }\n",
       "</style>\n",
       "<table border=\"1\" class=\"dataframe\">\n",
       "  <thead>\n",
       "    <tr style=\"text-align: right;\">\n",
       "      <th></th>\n",
       "      <th>name</th>\n",
       "      <th>platform</th>\n",
       "      <th>year_of_release</th>\n",
       "      <th>genre</th>\n",
       "      <th>na_sales</th>\n",
       "      <th>eu_sales</th>\n",
       "      <th>jp_sales</th>\n",
       "      <th>other_sales</th>\n",
       "      <th>critic_score</th>\n",
       "      <th>user_score</th>\n",
       "      <th>rating</th>\n",
       "    </tr>\n",
       "  </thead>\n",
       "  <tbody>\n",
       "    <tr>\n",
       "      <th>659</th>\n",
       "      <td>NaN</td>\n",
       "      <td>GEN</td>\n",
       "      <td>1993</td>\n",
       "      <td>NaN</td>\n",
       "      <td>1.78</td>\n",
       "      <td>0.53</td>\n",
       "      <td>0.00</td>\n",
       "      <td>0.08</td>\n",
       "      <td>NaN</td>\n",
       "      <td>NaN</td>\n",
       "      <td>NaN</td>\n",
       "    </tr>\n",
       "    <tr>\n",
       "      <th>14244</th>\n",
       "      <td>NaN</td>\n",
       "      <td>GEN</td>\n",
       "      <td>1993</td>\n",
       "      <td>NaN</td>\n",
       "      <td>0.00</td>\n",
       "      <td>0.00</td>\n",
       "      <td>0.03</td>\n",
       "      <td>0.00</td>\n",
       "      <td>NaN</td>\n",
       "      <td>NaN</td>\n",
       "      <td>NaN</td>\n",
       "    </tr>\n",
       "  </tbody>\n",
       "</table>\n",
       "</div>"
      ],
      "text/plain": [
       "      name platform  year_of_release genre  na_sales  eu_sales  jp_sales  \\\n",
       "659    NaN      GEN             1993   NaN      1.78      0.53      0.00   \n",
       "14244  NaN      GEN             1993   NaN      0.00      0.00      0.03   \n",
       "\n",
       "       other_sales  critic_score user_score rating  \n",
       "659           0.08           NaN        NaN    NaN  \n",
       "14244         0.00           NaN        NaN    NaN  "
      ]
     },
     "execution_count": 27,
     "metadata": {},
     "output_type": "execute_result"
    }
   ],
   "source": [
    "df[df['name'].isna()] "
   ]
  },
  {
   "cell_type": "code",
   "execution_count": 28,
   "metadata": {},
   "outputs": [
    {
     "name": "stdout",
     "output_type": "stream",
     "text": [
      "<class 'pandas.core.frame.DataFrame'>\n",
      "Int64Index: 16446 entries, 0 to 16714\n",
      "Data columns (total 11 columns):\n",
      " #   Column           Non-Null Count  Dtype  \n",
      "---  ------           --------------  -----  \n",
      " 0   name             16444 non-null  object \n",
      " 1   platform         16446 non-null  object \n",
      " 2   year_of_release  16446 non-null  int32  \n",
      " 3   genre            16444 non-null  object \n",
      " 4   na_sales         16446 non-null  float64\n",
      " 5   eu_sales         16446 non-null  float64\n",
      " 6   jp_sales         16446 non-null  float64\n",
      " 7   other_sales      16446 non-null  float64\n",
      " 8   critic_score     7983 non-null   float64\n",
      " 9   user_score       9839 non-null   object \n",
      " 10  rating           9768 non-null   object \n",
      "dtypes: float64(5), int32(1), object(5)\n",
      "memory usage: 1.4+ MB\n"
     ]
    }
   ],
   "source": [
    "df.info()"
   ]
  },
  {
   "cell_type": "code",
   "execution_count": 29,
   "metadata": {},
   "outputs": [],
   "source": [
    "df=df.drop([652, 14022]).reset_index() # 2 строчки можно удалить"
   ]
  },
  {
   "cell_type": "markdown",
   "metadata": {},
   "source": [
    "Пропусков в графах **\"critic_score\"** и **\"user_score\"** - около половины. Их не стоит заменять нулями, т.к. в будущем при составлении рейтингов, они очень сильно исказят результаты. \n",
    "Помимо прочего, **\"user_score\"** имеет много значений \"tbd\" - to be done, т.е. оценки ещё нет. Заменим на NaN."
   ]
  },
  {
   "cell_type": "code",
   "execution_count": 30,
   "metadata": {},
   "outputs": [],
   "source": [
    "df['user_score'] = df['user_score'].replace(\"tbd\", np.NaN)"
   ]
  },
  {
   "cell_type": "markdown",
   "metadata": {},
   "source": [
    "**\"user_score\"** имеет тип данных - object, а **\"critic_score\"** - float. Преобразуем первый в float (т.к. оценки дробью), а \"critic_score\" в int (т.к. оценки в процентах)."
   ]
  },
  {
   "cell_type": "code",
   "execution_count": 31,
   "metadata": {},
   "outputs": [],
   "source": [
    "df['critic_score'] = df['critic_score'].astype('int', errors='ignore')\n",
    "df['user_score'] = df['user_score'].astype('float', errors='ignore')"
   ]
  },
  {
   "cell_type": "code",
   "execution_count": 32,
   "metadata": {},
   "outputs": [
    {
     "name": "stdout",
     "output_type": "stream",
     "text": [
      "<class 'pandas.core.frame.DataFrame'>\n",
      "RangeIndex: 16444 entries, 0 to 16443\n",
      "Data columns (total 12 columns):\n",
      " #   Column           Non-Null Count  Dtype  \n",
      "---  ------           --------------  -----  \n",
      " 0   index            16444 non-null  int64  \n",
      " 1   name             16442 non-null  object \n",
      " 2   platform         16444 non-null  object \n",
      " 3   year_of_release  16444 non-null  int32  \n",
      " 4   genre            16442 non-null  object \n",
      " 5   na_sales         16444 non-null  float64\n",
      " 6   eu_sales         16444 non-null  float64\n",
      " 7   jp_sales         16444 non-null  float64\n",
      " 8   other_sales      16444 non-null  float64\n",
      " 9   critic_score     7981 non-null   float64\n",
      " 10  user_score       7461 non-null   float64\n",
      " 11  rating           9766 non-null   object \n",
      "dtypes: float64(6), int32(1), int64(1), object(4)\n",
      "memory usage: 1.4+ MB\n"
     ]
    }
   ],
   "source": [
    "df.info() # Проверяем"
   ]
  },
  {
   "cell_type": "markdown",
   "metadata": {},
   "source": [
    "В колонке **rating** ничего не стоит делать с пропусками - очевидно, мы не сможем их заменить сами. "
   ]
  },
  {
   "cell_type": "markdown",
   "metadata": {},
   "source": [
    "Посчитаем суммарные продажи во всех регионах и запишем их в отдельный столбец."
   ]
  },
  {
   "cell_type": "code",
   "execution_count": 93,
   "metadata": {},
   "outputs": [],
   "source": [
    "df['all_sales'] = df[['na_sales','eu_sales','jp_sales','other_sales']].sum(axis=1)"
   ]
  },
  {
   "cell_type": "code",
   "execution_count": 34,
   "metadata": {},
   "outputs": [
    {
     "data": {
      "text/html": [
       "<div>\n",
       "<style scoped>\n",
       "    .dataframe tbody tr th:only-of-type {\n",
       "        vertical-align: middle;\n",
       "    }\n",
       "\n",
       "    .dataframe tbody tr th {\n",
       "        vertical-align: top;\n",
       "    }\n",
       "\n",
       "    .dataframe thead th {\n",
       "        text-align: right;\n",
       "    }\n",
       "</style>\n",
       "<table border=\"1\" class=\"dataframe\">\n",
       "  <thead>\n",
       "    <tr style=\"text-align: right;\">\n",
       "      <th></th>\n",
       "      <th>index</th>\n",
       "      <th>name</th>\n",
       "      <th>platform</th>\n",
       "      <th>year_of_release</th>\n",
       "      <th>genre</th>\n",
       "      <th>na_sales</th>\n",
       "      <th>eu_sales</th>\n",
       "      <th>jp_sales</th>\n",
       "      <th>other_sales</th>\n",
       "      <th>critic_score</th>\n",
       "      <th>user_score</th>\n",
       "      <th>rating</th>\n",
       "      <th>all_sales</th>\n",
       "    </tr>\n",
       "  </thead>\n",
       "  <tbody>\n",
       "    <tr>\n",
       "      <th>0</th>\n",
       "      <td>0</td>\n",
       "      <td>Wii Sports</td>\n",
       "      <td>Wii</td>\n",
       "      <td>2006</td>\n",
       "      <td>Sports</td>\n",
       "      <td>41.36</td>\n",
       "      <td>28.96</td>\n",
       "      <td>3.77</td>\n",
       "      <td>8.45</td>\n",
       "      <td>76.0</td>\n",
       "      <td>8.0</td>\n",
       "      <td>E</td>\n",
       "      <td>82.54</td>\n",
       "    </tr>\n",
       "    <tr>\n",
       "      <th>1</th>\n",
       "      <td>1</td>\n",
       "      <td>Super Mario Bros.</td>\n",
       "      <td>NES</td>\n",
       "      <td>1985</td>\n",
       "      <td>Platform</td>\n",
       "      <td>29.08</td>\n",
       "      <td>3.58</td>\n",
       "      <td>6.81</td>\n",
       "      <td>0.77</td>\n",
       "      <td>NaN</td>\n",
       "      <td>NaN</td>\n",
       "      <td>NaN</td>\n",
       "      <td>40.24</td>\n",
       "    </tr>\n",
       "    <tr>\n",
       "      <th>2</th>\n",
       "      <td>2</td>\n",
       "      <td>Mario Kart Wii</td>\n",
       "      <td>Wii</td>\n",
       "      <td>2008</td>\n",
       "      <td>Racing</td>\n",
       "      <td>15.68</td>\n",
       "      <td>12.76</td>\n",
       "      <td>3.79</td>\n",
       "      <td>3.29</td>\n",
       "      <td>82.0</td>\n",
       "      <td>8.3</td>\n",
       "      <td>E</td>\n",
       "      <td>35.52</td>\n",
       "    </tr>\n",
       "    <tr>\n",
       "      <th>3</th>\n",
       "      <td>3</td>\n",
       "      <td>Wii Sports Resort</td>\n",
       "      <td>Wii</td>\n",
       "      <td>2009</td>\n",
       "      <td>Sports</td>\n",
       "      <td>15.61</td>\n",
       "      <td>10.93</td>\n",
       "      <td>3.28</td>\n",
       "      <td>2.95</td>\n",
       "      <td>80.0</td>\n",
       "      <td>8.0</td>\n",
       "      <td>E</td>\n",
       "      <td>32.77</td>\n",
       "    </tr>\n",
       "    <tr>\n",
       "      <th>4</th>\n",
       "      <td>4</td>\n",
       "      <td>Pokemon Red/Pokemon Blue</td>\n",
       "      <td>GB</td>\n",
       "      <td>1996</td>\n",
       "      <td>Role-Playing</td>\n",
       "      <td>11.27</td>\n",
       "      <td>8.89</td>\n",
       "      <td>10.22</td>\n",
       "      <td>1.00</td>\n",
       "      <td>NaN</td>\n",
       "      <td>NaN</td>\n",
       "      <td>NaN</td>\n",
       "      <td>31.38</td>\n",
       "    </tr>\n",
       "  </tbody>\n",
       "</table>\n",
       "</div>"
      ],
      "text/plain": [
       "   index                      name platform  year_of_release         genre  \\\n",
       "0      0                Wii Sports      Wii             2006        Sports   \n",
       "1      1         Super Mario Bros.      NES             1985      Platform   \n",
       "2      2            Mario Kart Wii      Wii             2008        Racing   \n",
       "3      3         Wii Sports Resort      Wii             2009        Sports   \n",
       "4      4  Pokemon Red/Pokemon Blue       GB             1996  Role-Playing   \n",
       "\n",
       "   na_sales  eu_sales  jp_sales  other_sales  critic_score  user_score rating  \\\n",
       "0     41.36     28.96      3.77         8.45          76.0         8.0      E   \n",
       "1     29.08      3.58      6.81         0.77           NaN         NaN    NaN   \n",
       "2     15.68     12.76      3.79         3.29          82.0         8.3      E   \n",
       "3     15.61     10.93      3.28         2.95          80.0         8.0      E   \n",
       "4     11.27      8.89     10.22         1.00           NaN         NaN    NaN   \n",
       "\n",
       "   all_sales  \n",
       "0      82.54  \n",
       "1      40.24  \n",
       "2      35.52  \n",
       "3      32.77  \n",
       "4      31.38  "
      ]
     },
     "execution_count": 34,
     "metadata": {},
     "output_type": "execute_result"
    }
   ],
   "source": [
    "df.head() "
   ]
  },
  {
   "cell_type": "code",
   "execution_count": 35,
   "metadata": {},
   "outputs": [
    {
     "data": {
      "text/plain": [
       "6582"
      ]
     },
     "execution_count": 35,
     "metadata": {},
     "output_type": "execute_result"
    }
   ],
   "source": [
    "len(df.query('critic_score != critic_score & user_score != user_score & rating != rating'))"
   ]
  },
  {
   "cell_type": "code",
   "execution_count": 36,
   "metadata": {},
   "outputs": [
    {
     "data": {
      "text/plain": [
       "9620"
      ]
     },
     "execution_count": 36,
     "metadata": {},
     "output_type": "execute_result"
    }
   ],
   "source": [
    "len(df.query('critic_score != critic_score or user_score != user_score or rating != rating'))"
   ]
  },
  {
   "cell_type": "code",
   "execution_count": 37,
   "metadata": {},
   "outputs": [
    {
     "data": {
      "text/plain": [
       "PS      981\n",
       "DS      864\n",
       "PS2     671\n",
       "PSP     656\n",
       "PS3     361\n",
       "N64     316\n",
       "Wii     306\n",
       "GBA     297\n",
       "3DS     288\n",
       "PSV     279\n",
       "SNES    239\n",
       "X360    196\n",
       "SAT     173\n",
       "PC      156\n",
       "PS4     125\n",
       "2600    116\n",
       "NES      98\n",
       "GB       97\n",
       "XB       85\n",
       "GC       85\n",
       "XOne     53\n",
       "WiiU     42\n",
       "DC       38\n",
       "GEN      29\n",
       "NG       12\n",
       "SCD       6\n",
       "WS        6\n",
       "3DO       3\n",
       "TG16      2\n",
       "PCFX      1\n",
       "GG        1\n",
       "Name: platform, dtype: int64"
      ]
     },
     "execution_count": 37,
     "metadata": {},
     "output_type": "execute_result"
    }
   ],
   "source": [
    "df.query('critic_score != critic_score & user_score != user_score & rating != rating')['platform'].value_counts()"
   ]
  },
  {
   "cell_type": "markdown",
   "metadata": {},
   "source": [
    "## 3. Исследовательский анализ данных."
   ]
  },
  {
   "cell_type": "markdown",
   "metadata": {},
   "source": [
    "Напомним, сколько игр выпускалось в разные годы."
   ]
  },
  {
   "cell_type": "code",
   "execution_count": 38,
   "metadata": {},
   "outputs": [
    {
     "data": {
      "image/png": "[encoded data removed]",
      "text/plain": [
       "<Figure size 864x288 with 1 Axes>"
      ]
     },
     "metadata": {
      "needs_background": "light"
     },
     "output_type": "display_data"
    }
   ],
   "source": [
    "df.year_of_release.sort_values().plot(kind='hist',    \n",
    "                                      bins=36, grid=True, \n",
    "                                      figsize=(12, 4), \n",
    "                                      title='Распределение по годам', \n",
    "                                      legend=True);"
   ]
  },
  {
   "cell_type": "code",
   "execution_count": 39,
   "metadata": {},
   "outputs": [
    {
     "data": {
      "image/png": "[encoded data removed]",
      "text/plain": [
       "<Figure size 1008x288 with 1 Axes>"
      ]
     },
     "metadata": {
      "needs_background": "light"
     },
     "output_type": "display_data"
    }
   ],
   "source": [
    "boxprops = dict(linestyle='-', linewidth=3, color='darkgoldenrod')\n",
    "df.boxplot(column='year_of_release', vert=False, figsize=(14, 4),\n",
    "           widths=0.2, boxprops=boxprops).set_title('Боксплот по годам релиза.');"
   ]
  },
  {
   "cell_type": "markdown",
   "metadata": {},
   "source": [
    "Виден возрастающий тренд до 2008 года, а основная масса игр в датасете датирована в промежутке - с 1993-1995 года и до наших дней. "
   ]
  },
  {
   "cell_type": "code",
   "execution_count": 40,
   "metadata": {},
   "outputs": [],
   "source": [
    "sales = df.groupby('year_of_release')[['all_sales']].sum()\n",
    "number = df.groupby('year_of_release')[['name']].count()\n",
    "df1 = sales.merge(number, on='year_of_release')\n",
    "df1.columns = ['Продажи игр, млн.', 'Количество игр']"
   ]
  },
  {
   "cell_type": "code",
   "execution_count": 41,
   "metadata": {},
   "outputs": [
    {
     "data": {
      "image/png": "[encoded data removed]",
      "text/plain": [
       "<Figure size 864x288 with 1 Axes>"
      ]
     },
     "metadata": {
      "needs_background": "light"
     },
     "output_type": "display_data"
    }
   ],
   "source": [
    "df1.plot(grid=True, figsize=(12, 4)).set_title('Статистика продаж по годам.');"
   ]
  },
  {
   "cell_type": "markdown",
   "metadata": {},
   "source": [
    "Интересно, что после 2008 года тренд - нисходящий. Это, возможно, связано с относительной монополией консолей (из крупных к тому моменту оставались PC, Xbox, PS, Nintendo), активным развитием и популярностью интернета (а с ним пиратства и бесплатных и условно-бесплатных игр), развитием технологий (из-за чего игры стали создаваться дольше и сложнее, а релизы - реже).\n",
    "\n",
    "Заметный перелом так же наблюдается с 2000 года - график в обоих случае стремится ввысь. Думаю, именно начиная с этого года, стоит анализировать данные по играм."
   ]
  },
  {
   "cell_type": "code",
   "execution_count": 42,
   "metadata": {},
   "outputs": [
    {
     "data": {
      "text/html": [
       "<div>\n",
       "<style scoped>\n",
       "    .dataframe tbody tr th:only-of-type {\n",
       "        vertical-align: middle;\n",
       "    }\n",
       "\n",
       "    .dataframe tbody tr th {\n",
       "        vertical-align: top;\n",
       "    }\n",
       "\n",
       "    .dataframe thead th {\n",
       "        text-align: right;\n",
       "    }\n",
       "</style>\n",
       "<table border=\"1\" class=\"dataframe\">\n",
       "  <thead>\n",
       "    <tr style=\"text-align: right;\">\n",
       "      <th></th>\n",
       "      <th>Продажи игр, млн.</th>\n",
       "      <th>Количество игр</th>\n",
       "    </tr>\n",
       "    <tr>\n",
       "      <th>year_of_release</th>\n",
       "      <th></th>\n",
       "      <th></th>\n",
       "    </tr>\n",
       "  </thead>\n",
       "  <tbody>\n",
       "    <tr>\n",
       "      <th>1980</th>\n",
       "      <td>11.38</td>\n",
       "      <td>9</td>\n",
       "    </tr>\n",
       "    <tr>\n",
       "      <th>1981</th>\n",
       "      <td>35.68</td>\n",
       "      <td>46</td>\n",
       "    </tr>\n",
       "    <tr>\n",
       "      <th>1982</th>\n",
       "      <td>28.88</td>\n",
       "      <td>36</td>\n",
       "    </tr>\n",
       "    <tr>\n",
       "      <th>1983</th>\n",
       "      <td>16.80</td>\n",
       "      <td>17</td>\n",
       "    </tr>\n",
       "    <tr>\n",
       "      <th>1984</th>\n",
       "      <td>50.35</td>\n",
       "      <td>14</td>\n",
       "    </tr>\n",
       "    <tr>\n",
       "      <th>1985</th>\n",
       "      <td>53.95</td>\n",
       "      <td>14</td>\n",
       "    </tr>\n",
       "    <tr>\n",
       "      <th>1986</th>\n",
       "      <td>37.08</td>\n",
       "      <td>21</td>\n",
       "    </tr>\n",
       "    <tr>\n",
       "      <th>1987</th>\n",
       "      <td>21.70</td>\n",
       "      <td>16</td>\n",
       "    </tr>\n",
       "    <tr>\n",
       "      <th>1988</th>\n",
       "      <td>47.21</td>\n",
       "      <td>15</td>\n",
       "    </tr>\n",
       "    <tr>\n",
       "      <th>1989</th>\n",
       "      <td>73.45</td>\n",
       "      <td>17</td>\n",
       "    </tr>\n",
       "    <tr>\n",
       "      <th>1990</th>\n",
       "      <td>49.37</td>\n",
       "      <td>16</td>\n",
       "    </tr>\n",
       "    <tr>\n",
       "      <th>1991</th>\n",
       "      <td>32.23</td>\n",
       "      <td>41</td>\n",
       "    </tr>\n",
       "    <tr>\n",
       "      <th>1992</th>\n",
       "      <td>76.16</td>\n",
       "      <td>43</td>\n",
       "    </tr>\n",
       "    <tr>\n",
       "      <th>1993</th>\n",
       "      <td>48.41</td>\n",
       "      <td>60</td>\n",
       "    </tr>\n",
       "    <tr>\n",
       "      <th>1994</th>\n",
       "      <td>79.23</td>\n",
       "      <td>121</td>\n",
       "    </tr>\n",
       "    <tr>\n",
       "      <th>1995</th>\n",
       "      <td>88.12</td>\n",
       "      <td>219</td>\n",
       "    </tr>\n",
       "    <tr>\n",
       "      <th>1996</th>\n",
       "      <td>199.15</td>\n",
       "      <td>263</td>\n",
       "    </tr>\n",
       "    <tr>\n",
       "      <th>1997</th>\n",
       "      <td>201.07</td>\n",
       "      <td>289</td>\n",
       "    </tr>\n",
       "    <tr>\n",
       "      <th>1998</th>\n",
       "      <td>256.31</td>\n",
       "      <td>379</td>\n",
       "    </tr>\n",
       "    <tr>\n",
       "      <th>1999</th>\n",
       "      <td>251.11</td>\n",
       "      <td>338</td>\n",
       "    </tr>\n",
       "    <tr>\n",
       "      <th>2000</th>\n",
       "      <td>201.66</td>\n",
       "      <td>350</td>\n",
       "    </tr>\n",
       "    <tr>\n",
       "      <th>2001</th>\n",
       "      <td>331.46</td>\n",
       "      <td>482</td>\n",
       "    </tr>\n",
       "    <tr>\n",
       "      <th>2002</th>\n",
       "      <td>394.97</td>\n",
       "      <td>829</td>\n",
       "    </tr>\n",
       "    <tr>\n",
       "      <th>2003</th>\n",
       "      <td>357.54</td>\n",
       "      <td>775</td>\n",
       "    </tr>\n",
       "    <tr>\n",
       "      <th>2004</th>\n",
       "      <td>418.68</td>\n",
       "      <td>762</td>\n",
       "    </tr>\n",
       "    <tr>\n",
       "      <th>2005</th>\n",
       "      <td>457.82</td>\n",
       "      <td>939</td>\n",
       "    </tr>\n",
       "    <tr>\n",
       "      <th>2006</th>\n",
       "      <td>517.71</td>\n",
       "      <td>1006</td>\n",
       "    </tr>\n",
       "    <tr>\n",
       "      <th>2007</th>\n",
       "      <td>602.34</td>\n",
       "      <td>1196</td>\n",
       "    </tr>\n",
       "    <tr>\n",
       "      <th>2008</th>\n",
       "      <td>671.50</td>\n",
       "      <td>1427</td>\n",
       "    </tr>\n",
       "    <tr>\n",
       "      <th>2009</th>\n",
       "      <td>658.79</td>\n",
       "      <td>1425</td>\n",
       "    </tr>\n",
       "    <tr>\n",
       "      <th>2010</th>\n",
       "      <td>590.13</td>\n",
       "      <td>1255</td>\n",
       "    </tr>\n",
       "    <tr>\n",
       "      <th>2011</th>\n",
       "      <td>507.58</td>\n",
       "      <td>1136</td>\n",
       "    </tr>\n",
       "    <tr>\n",
       "      <th>2012</th>\n",
       "      <td>355.84</td>\n",
       "      <td>653</td>\n",
       "    </tr>\n",
       "    <tr>\n",
       "      <th>2013</th>\n",
       "      <td>361.24</td>\n",
       "      <td>544</td>\n",
       "    </tr>\n",
       "    <tr>\n",
       "      <th>2014</th>\n",
       "      <td>331.53</td>\n",
       "      <td>581</td>\n",
       "    </tr>\n",
       "    <tr>\n",
       "      <th>2015</th>\n",
       "      <td>267.98</td>\n",
       "      <td>606</td>\n",
       "    </tr>\n",
       "    <tr>\n",
       "      <th>2016</th>\n",
       "      <td>129.94</td>\n",
       "      <td>502</td>\n",
       "    </tr>\n",
       "  </tbody>\n",
       "</table>\n",
       "</div>"
      ],
      "text/plain": [
       "                 Продажи игр, млн.  Количество игр\n",
       "year_of_release                                   \n",
       "1980                         11.38               9\n",
       "1981                         35.68              46\n",
       "1982                         28.88              36\n",
       "1983                         16.80              17\n",
       "1984                         50.35              14\n",
       "1985                         53.95              14\n",
       "1986                         37.08              21\n",
       "1987                         21.70              16\n",
       "1988                         47.21              15\n",
       "1989                         73.45              17\n",
       "1990                         49.37              16\n",
       "1991                         32.23              41\n",
       "1992                         76.16              43\n",
       "1993                         48.41              60\n",
       "1994                         79.23             121\n",
       "1995                         88.12             219\n",
       "1996                        199.15             263\n",
       "1997                        201.07             289\n",
       "1998                        256.31             379\n",
       "1999                        251.11             338\n",
       "2000                        201.66             350\n",
       "2001                        331.46             482\n",
       "2002                        394.97             829\n",
       "2003                        357.54             775\n",
       "2004                        418.68             762\n",
       "2005                        457.82             939\n",
       "2006                        517.71            1006\n",
       "2007                        602.34            1196\n",
       "2008                        671.50            1427\n",
       "2009                        658.79            1425\n",
       "2010                        590.13            1255\n",
       "2011                        507.58            1136\n",
       "2012                        355.84             653\n",
       "2013                        361.24             544\n",
       "2014                        331.53             581\n",
       "2015                        267.98             606\n",
       "2016                        129.94             502"
      ]
     },
     "execution_count": 42,
     "metadata": {},
     "output_type": "execute_result"
    }
   ],
   "source": [
    "df1"
   ]
  },
  {
   "cell_type": "code",
   "execution_count": 43,
   "metadata": {},
   "outputs": [],
   "source": [
    "df21 = df.query('year_of_release >= 2000') #df21 - т.к. новый срез охватывает только 21 век"
   ]
  },
  {
   "cell_type": "markdown",
   "metadata": {},
   "source": [
    "Сгруппируем продажи по платформам."
   ]
  },
  {
   "cell_type": "code",
   "execution_count": 44,
   "metadata": {},
   "outputs": [
    {
     "data": {
      "text/html": [
       "<div>\n",
       "<style scoped>\n",
       "    .dataframe tbody tr th:only-of-type {\n",
       "        vertical-align: middle;\n",
       "    }\n",
       "\n",
       "    .dataframe tbody tr th {\n",
       "        vertical-align: top;\n",
       "    }\n",
       "\n",
       "    .dataframe thead th {\n",
       "        text-align: right;\n",
       "    }\n",
       "</style>\n",
       "<table border=\"1\" class=\"dataframe\">\n",
       "  <thead>\n",
       "    <tr style=\"text-align: right;\">\n",
       "      <th></th>\n",
       "      <th>all_sales</th>\n",
       "    </tr>\n",
       "    <tr>\n",
       "      <th>platform</th>\n",
       "      <th></th>\n",
       "    </tr>\n",
       "  </thead>\n",
       "  <tbody>\n",
       "    <tr>\n",
       "      <th>PS2</th>\n",
       "      <td>1231.15</td>\n",
       "    </tr>\n",
       "    <tr>\n",
       "      <th>X360</th>\n",
       "      <td>961.24</td>\n",
       "    </tr>\n",
       "    <tr>\n",
       "      <th>PS3</th>\n",
       "      <td>931.34</td>\n",
       "    </tr>\n",
       "    <tr>\n",
       "      <th>Wii</th>\n",
       "      <td>891.18</td>\n",
       "    </tr>\n",
       "    <tr>\n",
       "      <th>DS</th>\n",
       "      <td>802.73</td>\n",
       "    </tr>\n",
       "  </tbody>\n",
       "</table>\n",
       "</div>"
      ],
      "text/plain": [
       "          all_sales\n",
       "platform           \n",
       "PS2         1231.15\n",
       "X360         961.24\n",
       "PS3          931.34\n",
       "Wii          891.18\n",
       "DS           802.73"
      ]
     },
     "execution_count": 44,
     "metadata": {},
     "output_type": "execute_result"
    }
   ],
   "source": [
    "top_platforms = df21.groupby('platform')[['all_sales']].sum().sort_values(by='all_sales',\n",
    "                                                                 ascending=False)\n",
    "top_platforms.head()"
   ]
  },
  {
   "cell_type": "code",
   "execution_count": 45,
   "metadata": {
    "scrolled": true
   },
   "outputs": [
    {
     "data": {
      "image/png": "[encoded data removed]",
      "text/plain": [
       "<Figure size 1080x288 with 1 Axes>"
      ]
     },
     "metadata": {
      "needs_background": "light"
     },
     "output_type": "display_data"
    }
   ],
   "source": [
    "top_platforms.plot(kind='bar',figsize=(15, 4), grid=True).set_title('Продажи по платформам.');"
   ]
  },
  {
   "cell_type": "markdown",
   "metadata": {},
   "source": [
    "Рассмотрим первые топ-5, как самые выделяющиеся. Проверим их на актуальность по годам:"
   ]
  },
  {
   "cell_type": "code",
   "execution_count": 46,
   "metadata": {},
   "outputs": [],
   "source": [
    "df21_top = df21.query('platform == \"PS2\" or platform == \"X360\" or platform == \"PS3\" or platform == \"Wii\" or platform == \"DS\"')"
   ]
  },
  {
   "cell_type": "code",
   "execution_count": 47,
   "metadata": {},
   "outputs": [
    {
     "data": {
      "image/png": "[encoded data removed]",
      "text/plain": [
       "<Figure size 864x360 with 1 Axes>"
      ]
     },
     "metadata": {
      "needs_background": "light"
     },
     "output_type": "display_data"
    }
   ],
   "source": [
    "fig, ax = plt.subplots()\n",
    "fig.set_size_inches(12, 5)\n",
    "sns.boxplot(x=\"year_of_release\", y=\"platform\",\n",
    "            data=df21_top, width=0.3).set_title('Актуальность платформ по годам.');  \n",
    "plt.grid()"
   ]
  },
  {
   "cell_type": "markdown",
   "metadata": {},
   "source": [
    "Судя по \"усам\", **средняя продолжительность актуальности консоли составляет 9-10 лет:**\n",
    "- **PS2** с 2000 по 2010 (в точности 10 лет)\n",
    "- **PS3** 2006 - 2016 (10 лет)\n",
    "- **DS** с 2004 по 2013 (9 лет)\n",
    "- **X360** с 2006 по 2015 (9 лет)\n",
    "- **Wii** 2006 - 2015 (9 лет)"
   ]
  },
  {
   "cell_type": "code",
   "execution_count": 48,
   "metadata": {},
   "outputs": [
    {
     "data": {
      "image/png": "[encoded data removed]",
      "text/plain": [
       "<Figure size 1080x360 with 1 Axes>"
      ]
     },
     "metadata": {
      "needs_background": "light"
     },
     "output_type": "display_data"
    }
   ],
   "source": [
    "df1.plot.bar(figsize=(15,5), grid=True);"
   ]
  },
  {
   "cell_type": "code",
   "execution_count": 49,
   "metadata": {},
   "outputs": [
    {
     "data": {
      "text/html": [
       "<div>\n",
       "<style scoped>\n",
       "    .dataframe tbody tr th:only-of-type {\n",
       "        vertical-align: middle;\n",
       "    }\n",
       "\n",
       "    .dataframe tbody tr th {\n",
       "        vertical-align: top;\n",
       "    }\n",
       "\n",
       "    .dataframe thead th {\n",
       "        text-align: right;\n",
       "    }\n",
       "</style>\n",
       "<table border=\"1\" class=\"dataframe\">\n",
       "  <thead>\n",
       "    <tr style=\"text-align: right;\">\n",
       "      <th></th>\n",
       "      <th>Продажи игр, млн.</th>\n",
       "      <th>Количество игр</th>\n",
       "    </tr>\n",
       "    <tr>\n",
       "      <th>year_of_release</th>\n",
       "      <th></th>\n",
       "      <th></th>\n",
       "    </tr>\n",
       "  </thead>\n",
       "  <tbody>\n",
       "    <tr>\n",
       "      <th>1980</th>\n",
       "      <td>11.38</td>\n",
       "      <td>9</td>\n",
       "    </tr>\n",
       "    <tr>\n",
       "      <th>1981</th>\n",
       "      <td>35.68</td>\n",
       "      <td>46</td>\n",
       "    </tr>\n",
       "    <tr>\n",
       "      <th>1982</th>\n",
       "      <td>28.88</td>\n",
       "      <td>36</td>\n",
       "    </tr>\n",
       "    <tr>\n",
       "      <th>1983</th>\n",
       "      <td>16.80</td>\n",
       "      <td>17</td>\n",
       "    </tr>\n",
       "    <tr>\n",
       "      <th>1984</th>\n",
       "      <td>50.35</td>\n",
       "      <td>14</td>\n",
       "    </tr>\n",
       "    <tr>\n",
       "      <th>1985</th>\n",
       "      <td>53.95</td>\n",
       "      <td>14</td>\n",
       "    </tr>\n",
       "    <tr>\n",
       "      <th>1986</th>\n",
       "      <td>37.08</td>\n",
       "      <td>21</td>\n",
       "    </tr>\n",
       "    <tr>\n",
       "      <th>1987</th>\n",
       "      <td>21.70</td>\n",
       "      <td>16</td>\n",
       "    </tr>\n",
       "    <tr>\n",
       "      <th>1988</th>\n",
       "      <td>47.21</td>\n",
       "      <td>15</td>\n",
       "    </tr>\n",
       "    <tr>\n",
       "      <th>1989</th>\n",
       "      <td>73.45</td>\n",
       "      <td>17</td>\n",
       "    </tr>\n",
       "    <tr>\n",
       "      <th>1990</th>\n",
       "      <td>49.37</td>\n",
       "      <td>16</td>\n",
       "    </tr>\n",
       "    <tr>\n",
       "      <th>1991</th>\n",
       "      <td>32.23</td>\n",
       "      <td>41</td>\n",
       "    </tr>\n",
       "    <tr>\n",
       "      <th>1992</th>\n",
       "      <td>76.16</td>\n",
       "      <td>43</td>\n",
       "    </tr>\n",
       "    <tr>\n",
       "      <th>1993</th>\n",
       "      <td>48.41</td>\n",
       "      <td>60</td>\n",
       "    </tr>\n",
       "    <tr>\n",
       "      <th>1994</th>\n",
       "      <td>79.23</td>\n",
       "      <td>121</td>\n",
       "    </tr>\n",
       "    <tr>\n",
       "      <th>1995</th>\n",
       "      <td>88.12</td>\n",
       "      <td>219</td>\n",
       "    </tr>\n",
       "    <tr>\n",
       "      <th>1996</th>\n",
       "      <td>199.15</td>\n",
       "      <td>263</td>\n",
       "    </tr>\n",
       "    <tr>\n",
       "      <th>1997</th>\n",
       "      <td>201.07</td>\n",
       "      <td>289</td>\n",
       "    </tr>\n",
       "    <tr>\n",
       "      <th>1998</th>\n",
       "      <td>256.31</td>\n",
       "      <td>379</td>\n",
       "    </tr>\n",
       "    <tr>\n",
       "      <th>1999</th>\n",
       "      <td>251.11</td>\n",
       "      <td>338</td>\n",
       "    </tr>\n",
       "    <tr>\n",
       "      <th>2000</th>\n",
       "      <td>201.66</td>\n",
       "      <td>350</td>\n",
       "    </tr>\n",
       "    <tr>\n",
       "      <th>2001</th>\n",
       "      <td>331.46</td>\n",
       "      <td>482</td>\n",
       "    </tr>\n",
       "    <tr>\n",
       "      <th>2002</th>\n",
       "      <td>394.97</td>\n",
       "      <td>829</td>\n",
       "    </tr>\n",
       "    <tr>\n",
       "      <th>2003</th>\n",
       "      <td>357.54</td>\n",
       "      <td>775</td>\n",
       "    </tr>\n",
       "    <tr>\n",
       "      <th>2004</th>\n",
       "      <td>418.68</td>\n",
       "      <td>762</td>\n",
       "    </tr>\n",
       "    <tr>\n",
       "      <th>2005</th>\n",
       "      <td>457.82</td>\n",
       "      <td>939</td>\n",
       "    </tr>\n",
       "    <tr>\n",
       "      <th>2006</th>\n",
       "      <td>517.71</td>\n",
       "      <td>1006</td>\n",
       "    </tr>\n",
       "    <tr>\n",
       "      <th>2007</th>\n",
       "      <td>602.34</td>\n",
       "      <td>1196</td>\n",
       "    </tr>\n",
       "    <tr>\n",
       "      <th>2008</th>\n",
       "      <td>671.50</td>\n",
       "      <td>1427</td>\n",
       "    </tr>\n",
       "    <tr>\n",
       "      <th>2009</th>\n",
       "      <td>658.79</td>\n",
       "      <td>1425</td>\n",
       "    </tr>\n",
       "    <tr>\n",
       "      <th>2010</th>\n",
       "      <td>590.13</td>\n",
       "      <td>1255</td>\n",
       "    </tr>\n",
       "    <tr>\n",
       "      <th>2011</th>\n",
       "      <td>507.58</td>\n",
       "      <td>1136</td>\n",
       "    </tr>\n",
       "    <tr>\n",
       "      <th>2012</th>\n",
       "      <td>355.84</td>\n",
       "      <td>653</td>\n",
       "    </tr>\n",
       "    <tr>\n",
       "      <th>2013</th>\n",
       "      <td>361.24</td>\n",
       "      <td>544</td>\n",
       "    </tr>\n",
       "    <tr>\n",
       "      <th>2014</th>\n",
       "      <td>331.53</td>\n",
       "      <td>581</td>\n",
       "    </tr>\n",
       "    <tr>\n",
       "      <th>2015</th>\n",
       "      <td>267.98</td>\n",
       "      <td>606</td>\n",
       "    </tr>\n",
       "    <tr>\n",
       "      <th>2016</th>\n",
       "      <td>129.94</td>\n",
       "      <td>502</td>\n",
       "    </tr>\n",
       "  </tbody>\n",
       "</table>\n",
       "</div>"
      ],
      "text/plain": [
       "                 Продажи игр, млн.  Количество игр\n",
       "year_of_release                                   \n",
       "1980                         11.38               9\n",
       "1981                         35.68              46\n",
       "1982                         28.88              36\n",
       "1983                         16.80              17\n",
       "1984                         50.35              14\n",
       "1985                         53.95              14\n",
       "1986                         37.08              21\n",
       "1987                         21.70              16\n",
       "1988                         47.21              15\n",
       "1989                         73.45              17\n",
       "1990                         49.37              16\n",
       "1991                         32.23              41\n",
       "1992                         76.16              43\n",
       "1993                         48.41              60\n",
       "1994                         79.23             121\n",
       "1995                         88.12             219\n",
       "1996                        199.15             263\n",
       "1997                        201.07             289\n",
       "1998                        256.31             379\n",
       "1999                        251.11             338\n",
       "2000                        201.66             350\n",
       "2001                        331.46             482\n",
       "2002                        394.97             829\n",
       "2003                        357.54             775\n",
       "2004                        418.68             762\n",
       "2005                        457.82             939\n",
       "2006                        517.71            1006\n",
       "2007                        602.34            1196\n",
       "2008                        671.50            1427\n",
       "2009                        658.79            1425\n",
       "2010                        590.13            1255\n",
       "2011                        507.58            1136\n",
       "2012                        355.84             653\n",
       "2013                        361.24             544\n",
       "2014                        331.53             581\n",
       "2015                        267.98             606\n",
       "2016                        129.94             502"
      ]
     },
     "execution_count": 49,
     "metadata": {},
     "output_type": "execute_result"
    }
   ],
   "source": [
    "df1"
   ]
  },
  {
   "cell_type": "markdown",
   "metadata": {},
   "source": [
    "На последнем графике отчетливо виден бурный рост и резкий спад продаж в период 2002-2001. Может, это золотой век видеоигр! В любом случае, именно начиная с 2012 года ситуация более менее устаканилась. \n",
    "\n",
    "Отталкиваясь от даты исследования (декабрь 2016 г.) и последних выводов, для построения прогноза на следующий год следует использовать только **данные, датированные 2012 годом и дальше.**"
   ]
  },
  {
   "cell_type": "code",
   "execution_count": 50,
   "metadata": {},
   "outputs": [],
   "source": [
    "df=df.query('year_of_release >= 2012')"
   ]
  },
  {
   "cell_type": "markdown",
   "metadata": {},
   "source": [
    "**Какие платформы лидируют по продажам, растут или падают?**"
   ]
  },
  {
   "cell_type": "markdown",
   "metadata": {},
   "source": [
    "Посмотрим по годам."
   ]
  },
  {
   "cell_type": "code",
   "execution_count": 51,
   "metadata": {},
   "outputs": [
    {
     "data": {
      "text/html": [
       "<div>\n",
       "<style scoped>\n",
       "    .dataframe tbody tr th:only-of-type {\n",
       "        vertical-align: middle;\n",
       "    }\n",
       "\n",
       "    .dataframe tbody tr th {\n",
       "        vertical-align: top;\n",
       "    }\n",
       "\n",
       "    .dataframe thead th {\n",
       "        text-align: right;\n",
       "    }\n",
       "</style>\n",
       "<table border=\"1\" class=\"dataframe\">\n",
       "  <thead>\n",
       "    <tr style=\"text-align: right;\">\n",
       "      <th></th>\n",
       "      <th>year_of_release</th>\n",
       "      <th>platform</th>\n",
       "      <th>all_sales</th>\n",
       "    </tr>\n",
       "  </thead>\n",
       "  <tbody>\n",
       "    <tr>\n",
       "      <th>43</th>\n",
       "      <td>2016</td>\n",
       "      <td>PS4</td>\n",
       "      <td>69.25</td>\n",
       "    </tr>\n",
       "    <tr>\n",
       "      <th>48</th>\n",
       "      <td>2016</td>\n",
       "      <td>XOne</td>\n",
       "      <td>26.15</td>\n",
       "    </tr>\n",
       "    <tr>\n",
       "      <th>40</th>\n",
       "      <td>2016</td>\n",
       "      <td>3DS</td>\n",
       "      <td>15.14</td>\n",
       "    </tr>\n",
       "    <tr>\n",
       "      <th>41</th>\n",
       "      <td>2016</td>\n",
       "      <td>PC</td>\n",
       "      <td>5.25</td>\n",
       "    </tr>\n",
       "    <tr>\n",
       "      <th>46</th>\n",
       "      <td>2016</td>\n",
       "      <td>WiiU</td>\n",
       "      <td>4.60</td>\n",
       "    </tr>\n",
       "  </tbody>\n",
       "</table>\n",
       "</div>"
      ],
      "text/plain": [
       "    year_of_release platform  all_sales\n",
       "43             2016      PS4      69.25\n",
       "48             2016     XOne      26.15\n",
       "40             2016      3DS      15.14\n",
       "41             2016       PC       5.25\n",
       "46             2016     WiiU       4.60"
      ]
     },
     "execution_count": 51,
     "metadata": {},
     "output_type": "execute_result"
    }
   ],
   "source": [
    "pd.DataFrame(df.groupby([df.year_of_release, df.platform])['all_sales'].sum()).reset_index().sort_values(by=['year_of_release','all_sales'], ascending=False).head()"
   ]
  },
  {
   "cell_type": "markdown",
   "metadata": {},
   "source": [
    "Визуализируем."
   ]
  },
  {
   "cell_type": "code",
   "execution_count": 53,
   "metadata": {},
   "outputs": [
    {
     "data": {
      "text/plain": [
       "['DS', 'Wii', 'PSV', 'PC', 'WiiU', 'XOne', '3DS', 'X360', 'PS3', 'PS4']"
      ]
     },
     "execution_count": 53,
     "metadata": {},
     "output_type": "execute_result"
    }
   ],
   "source": [
    "q = list(df.groupby('platform').agg({'all_sales':'sum'}).sort_values(by='all_sales').tail(10).index)\n",
    "q"
   ]
  },
  {
   "cell_type": "code",
   "execution_count": 54,
   "metadata": {},
   "outputs": [
    {
     "data": {
      "text/plain": [
       "<matplotlib.legend.Legend at 0xd1150d0>"
      ]
     },
     "execution_count": 54,
     "metadata": {},
     "output_type": "execute_result"
    },
    {
     "data": {
      "image/png": "[encoded data removed]",
      "text/plain": [
       "<Figure size 864x576 with 1 Axes>"
      ]
     },
     "metadata": {
      "needs_background": "light"
     },
     "output_type": "display_data"
    }
   ],
   "source": [
    "df.query('platform in @q').pivot_table(index='year_of_release', columns='platform', values='all_sales', \n",
    "                                       aggfunc='sum').plot(figsize=(12,8), grid=True)\n",
    "plt.legend(loc='best')"
   ]
  },
  {
   "cell_type": "markdown",
   "metadata": {},
   "source": [
    "Продажи идут на спад. Большинство платформ не превышают значения в 10 млн. продаж по всему миру. Однако три консоли - **PS4, XOne, и 3DS** - исключение. Они потенциально прибыльные."
   ]
  },
  {
   "cell_type": "markdown",
   "metadata": {},
   "source": [
    "Построим график «ящик с усами» по глобальным продажам игр в разбивке по уже всем платформам."
   ]
  },
  {
   "cell_type": "code",
   "execution_count": 55,
   "metadata": {},
   "outputs": [
    {
     "data": {
      "image/png": "[encoded data removed]",
      "text/plain": [
       "<Figure size 1080x864 with 1 Axes>"
      ]
     },
     "metadata": {
      "needs_background": "light"
     },
     "output_type": "display_data"
    }
   ],
   "source": [
    "fig, ax = plt.subplots()\n",
    "fig.set_size_inches(15, 12)\n",
    "sns.boxplot(x=\"all_sales\", y=\"platform\",\n",
    "            data=df, width=0.3).set_title('Актуальность платформ по продажам.');\n",
    "plt.grid()"
   ]
  },
  {
   "cell_type": "code",
   "execution_count": 56,
   "metadata": {},
   "outputs": [
    {
     "data": {
      "image/png": "[encoded data removed]",
      "text/plain": [
       "<Figure size 1080x864 with 1 Axes>"
      ]
     },
     "metadata": {
      "needs_background": "light"
     },
     "output_type": "display_data"
    }
   ],
   "source": [
    "# Т.к. выбросы очень неудобным делают график, возьмем range до 1 млн. проданных копий\n",
    "fig, ax = plt.subplots()\n",
    "fig.set_size_inches(15, 12)\n",
    "sns.boxplot(x=\"all_sales\", y=\"platform\",\n",
    "            data=df, width=0.3).set_title('Актуальность платформ по продажам.');\n",
    "plt.xlim(0, 1) \n",
    "plt.grid()"
   ]
  },
  {
   "cell_type": "markdown",
   "metadata": {},
   "source": [
    "- Самые большие медианные продажи - у Xbox360.  \n",
    "- Размах \"усов\" показывает диапазон продаж игр. Лидеры по этому показателю - Xbox360, XboxOne, Wii, PS4, PS3. (одни переиздания Скайрима и ГТА 5 сколько продаж им сделали :D) \n",
    "- Выбросы - это игры с самыми большими продажами. Посмотрим на них:"
   ]
  },
  {
   "cell_type": "code",
   "execution_count": 57,
   "metadata": {},
   "outputs": [
    {
     "data": {
      "text/html": [
       "<div>\n",
       "<style scoped>\n",
       "    .dataframe tbody tr th:only-of-type {\n",
       "        vertical-align: middle;\n",
       "    }\n",
       "\n",
       "    .dataframe tbody tr th {\n",
       "        vertical-align: top;\n",
       "    }\n",
       "\n",
       "    .dataframe thead th {\n",
       "        text-align: right;\n",
       "    }\n",
       "</style>\n",
       "<table border=\"1\" class=\"dataframe\">\n",
       "  <thead>\n",
       "    <tr style=\"text-align: right;\">\n",
       "      <th></th>\n",
       "      <th>index</th>\n",
       "      <th>name</th>\n",
       "      <th>platform</th>\n",
       "      <th>year_of_release</th>\n",
       "      <th>genre</th>\n",
       "      <th>na_sales</th>\n",
       "      <th>eu_sales</th>\n",
       "      <th>jp_sales</th>\n",
       "      <th>other_sales</th>\n",
       "      <th>critic_score</th>\n",
       "      <th>user_score</th>\n",
       "      <th>rating</th>\n",
       "      <th>all_sales</th>\n",
       "    </tr>\n",
       "  </thead>\n",
       "  <tbody>\n",
       "    <tr>\n",
       "      <th>16</th>\n",
       "      <td>16</td>\n",
       "      <td>Grand Theft Auto V</td>\n",
       "      <td>PS3</td>\n",
       "      <td>2013</td>\n",
       "      <td>Action</td>\n",
       "      <td>7.02</td>\n",
       "      <td>9.09</td>\n",
       "      <td>0.98</td>\n",
       "      <td>3.96</td>\n",
       "      <td>97.0</td>\n",
       "      <td>8.2</td>\n",
       "      <td>M</td>\n",
       "      <td>21.05</td>\n",
       "    </tr>\n",
       "    <tr>\n",
       "      <th>23</th>\n",
       "      <td>23</td>\n",
       "      <td>Grand Theft Auto V</td>\n",
       "      <td>X360</td>\n",
       "      <td>2013</td>\n",
       "      <td>Action</td>\n",
       "      <td>9.66</td>\n",
       "      <td>5.14</td>\n",
       "      <td>0.06</td>\n",
       "      <td>1.41</td>\n",
       "      <td>97.0</td>\n",
       "      <td>8.1</td>\n",
       "      <td>M</td>\n",
       "      <td>16.27</td>\n",
       "    </tr>\n",
       "    <tr>\n",
       "      <th>31</th>\n",
       "      <td>31</td>\n",
       "      <td>Call of Duty: Black Ops 3</td>\n",
       "      <td>PS4</td>\n",
       "      <td>2015</td>\n",
       "      <td>Shooter</td>\n",
       "      <td>6.03</td>\n",
       "      <td>5.86</td>\n",
       "      <td>0.36</td>\n",
       "      <td>2.38</td>\n",
       "      <td>NaN</td>\n",
       "      <td>NaN</td>\n",
       "      <td>NaN</td>\n",
       "      <td>14.63</td>\n",
       "    </tr>\n",
       "    <tr>\n",
       "      <th>33</th>\n",
       "      <td>33</td>\n",
       "      <td>Pokemon X/Pokemon Y</td>\n",
       "      <td>3DS</td>\n",
       "      <td>2013</td>\n",
       "      <td>Role-Playing</td>\n",
       "      <td>5.28</td>\n",
       "      <td>4.19</td>\n",
       "      <td>4.35</td>\n",
       "      <td>0.78</td>\n",
       "      <td>NaN</td>\n",
       "      <td>NaN</td>\n",
       "      <td>NaN</td>\n",
       "      <td>14.60</td>\n",
       "    </tr>\n",
       "    <tr>\n",
       "      <th>34</th>\n",
       "      <td>34</td>\n",
       "      <td>Call of Duty: Black Ops II</td>\n",
       "      <td>PS3</td>\n",
       "      <td>2012</td>\n",
       "      <td>Shooter</td>\n",
       "      <td>4.99</td>\n",
       "      <td>5.73</td>\n",
       "      <td>0.65</td>\n",
       "      <td>2.42</td>\n",
       "      <td>83.0</td>\n",
       "      <td>5.3</td>\n",
       "      <td>M</td>\n",
       "      <td>13.79</td>\n",
       "    </tr>\n",
       "    <tr>\n",
       "      <th>35</th>\n",
       "      <td>35</td>\n",
       "      <td>Call of Duty: Black Ops II</td>\n",
       "      <td>X360</td>\n",
       "      <td>2012</td>\n",
       "      <td>Shooter</td>\n",
       "      <td>8.25</td>\n",
       "      <td>4.24</td>\n",
       "      <td>0.07</td>\n",
       "      <td>1.12</td>\n",
       "      <td>83.0</td>\n",
       "      <td>4.8</td>\n",
       "      <td>M</td>\n",
       "      <td>13.68</td>\n",
       "    </tr>\n",
       "    <tr>\n",
       "      <th>42</th>\n",
       "      <td>42</td>\n",
       "      <td>Grand Theft Auto V</td>\n",
       "      <td>PS4</td>\n",
       "      <td>2014</td>\n",
       "      <td>Action</td>\n",
       "      <td>3.96</td>\n",
       "      <td>6.31</td>\n",
       "      <td>0.38</td>\n",
       "      <td>1.97</td>\n",
       "      <td>97.0</td>\n",
       "      <td>8.3</td>\n",
       "      <td>M</td>\n",
       "      <td>12.62</td>\n",
       "    </tr>\n",
       "    <tr>\n",
       "      <th>47</th>\n",
       "      <td>47</td>\n",
       "      <td>Pokemon Omega Ruby/Pokemon Alpha Sapphire</td>\n",
       "      <td>3DS</td>\n",
       "      <td>2014</td>\n",
       "      <td>Role-Playing</td>\n",
       "      <td>4.35</td>\n",
       "      <td>3.49</td>\n",
       "      <td>3.10</td>\n",
       "      <td>0.74</td>\n",
       "      <td>NaN</td>\n",
       "      <td>NaN</td>\n",
       "      <td>NaN</td>\n",
       "      <td>11.68</td>\n",
       "    </tr>\n",
       "    <tr>\n",
       "      <th>60</th>\n",
       "      <td>60</td>\n",
       "      <td>Call of Duty: Ghosts</td>\n",
       "      <td>X360</td>\n",
       "      <td>2013</td>\n",
       "      <td>Shooter</td>\n",
       "      <td>6.73</td>\n",
       "      <td>2.56</td>\n",
       "      <td>0.04</td>\n",
       "      <td>0.91</td>\n",
       "      <td>73.0</td>\n",
       "      <td>2.6</td>\n",
       "      <td>M</td>\n",
       "      <td>10.24</td>\n",
       "    </tr>\n",
       "  </tbody>\n",
       "</table>\n",
       "</div>"
      ],
      "text/plain": [
       "    index                                       name platform  \\\n",
       "16     16                         Grand Theft Auto V      PS3   \n",
       "23     23                         Grand Theft Auto V     X360   \n",
       "31     31                  Call of Duty: Black Ops 3      PS4   \n",
       "33     33                        Pokemon X/Pokemon Y      3DS   \n",
       "34     34                 Call of Duty: Black Ops II      PS3   \n",
       "35     35                 Call of Duty: Black Ops II     X360   \n",
       "42     42                         Grand Theft Auto V      PS4   \n",
       "47     47  Pokemon Omega Ruby/Pokemon Alpha Sapphire      3DS   \n",
       "60     60                       Call of Duty: Ghosts     X360   \n",
       "\n",
       "    year_of_release         genre  na_sales  eu_sales  jp_sales  other_sales  \\\n",
       "16             2013        Action      7.02      9.09      0.98         3.96   \n",
       "23             2013        Action      9.66      5.14      0.06         1.41   \n",
       "31             2015       Shooter      6.03      5.86      0.36         2.38   \n",
       "33             2013  Role-Playing      5.28      4.19      4.35         0.78   \n",
       "34             2012       Shooter      4.99      5.73      0.65         2.42   \n",
       "35             2012       Shooter      8.25      4.24      0.07         1.12   \n",
       "42             2014        Action      3.96      6.31      0.38         1.97   \n",
       "47             2014  Role-Playing      4.35      3.49      3.10         0.74   \n",
       "60             2013       Shooter      6.73      2.56      0.04         0.91   \n",
       "\n",
       "    critic_score  user_score rating  all_sales  \n",
       "16          97.0         8.2      M      21.05  \n",
       "23          97.0         8.1      M      16.27  \n",
       "31           NaN         NaN    NaN      14.63  \n",
       "33           NaN         NaN    NaN      14.60  \n",
       "34          83.0         5.3      M      13.79  \n",
       "35          83.0         4.8      M      13.68  \n",
       "42          97.0         8.3      M      12.62  \n",
       "47           NaN         NaN    NaN      11.68  \n",
       "60          73.0         2.6      M      10.24  "
      ]
     },
     "execution_count": 57,
     "metadata": {},
     "output_type": "execute_result"
    }
   ],
   "source": [
    "df.query('all_sales > 10')"
   ]
  },
  {
   "cell_type": "markdown",
   "metadata": {},
   "source": [
    "Как я и думал! Знакомые всем тайтлы, которые залетают почти на все платформы. Тревор Филипс, Капитан Прайс, Пикачу - вот секрет успешной игры. :D"
   ]
  },
  {
   "cell_type": "markdown",
   "metadata": {},
   "source": [
    "Интереса ради посмотрим на доли платформ в уходящем году."
   ]
  },
  {
   "cell_type": "code",
   "execution_count": 58,
   "metadata": {},
   "outputs": [
    {
     "data": {
      "image/png": "[encoded data removed]",
      "text/plain": [
       "<Figure size 576x576 with 1 Axes>"
      ]
     },
     "metadata": {},
     "output_type": "display_data"
    }
   ],
   "source": [
    "df.query('year_of_release == 2016').pivot_table(index='platform',\n",
    "               values='all_sales', aggfunc='sum').sort_values(by='all_sales',\n",
    "                                                              ascending=False).plot(kind='pie',\n",
    "                                                                                    subplots=True, figsize=(8, 8), autopct='%.2f', legend=True, title='Суммарные продажи по платформам, %');"
   ]
  },
  {
   "cell_type": "markdown",
   "metadata": {},
   "source": [
    "На три самых популярных платформ в 2016 году приходится 85% (!) продаж. Эх, монополия."
   ]
  },
  {
   "cell_type": "code",
   "execution_count": 59,
   "metadata": {},
   "outputs": [
    {
     "data": {
      "image/png": "[encoded data removed]",
      "text/plain": [
       "<Figure size 576x576 with 1 Axes>"
      ]
     },
     "metadata": {},
     "output_type": "display_data"
    }
   ],
   "source": [
    "df.query('year_of_release == 2016').pivot_table(index='platform',\n",
    "               values='na_sales', aggfunc='sum').sort_values(by='na_sales',\n",
    "                                                              ascending=False).plot(kind='pie',\n",
    "                                                                                    subplots=True, figsize=(8, 8), autopct='%.2f', legend=True, title='Американские продажи по платформам, %');"
   ]
  },
  {
   "cell_type": "markdown",
   "metadata": {},
   "source": [
    "Американские продажи визаульно отражают мировые."
   ]
  },
  {
   "cell_type": "code",
   "execution_count": 60,
   "metadata": {},
   "outputs": [
    {
     "data": {
      "image/png": "[encoded data removed]",
      "text/plain": [
       "<Figure size 576x576 with 1 Axes>"
      ]
     },
     "metadata": {},
     "output_type": "display_data"
    }
   ],
   "source": [
    "df.query('year_of_release == 2016').pivot_table(index='platform',\n",
    "               values='eu_sales', aggfunc='sum').sort_values(by='eu_sales',\n",
    "                                                              ascending=False).plot(kind='pie',\n",
    "                                                                                    subplots=True, figsize=(8, 8), autopct='%.2f', legend=True, title='Европейские продажи по платформам, %');"
   ]
  },
  {
   "cell_type": "markdown",
   "metadata": {},
   "source": [
    "В Европе очень популярен PS4, а PC - обгоняет 3DS!"
   ]
  },
  {
   "cell_type": "code",
   "execution_count": 61,
   "metadata": {},
   "outputs": [
    {
     "data": {
      "image/png": "[encoded data removed]",
      "text/plain": [
       "<Figure size 576x576 with 1 Axes>"
      ]
     },
     "metadata": {},
     "output_type": "display_data"
    }
   ],
   "source": [
    "df.query('year_of_release == 2016').pivot_table(index='platform',\n",
    "               values='jp_sales', aggfunc='sum').sort_values(by='jp_sales',\n",
    "                                                              ascending=False).plot(kind='pie',\n",
    "                                                                                    subplots=True, figsize=(8, 8), autopct='%.2f', legend=True, title='Японские продажи по платформам, %');"
   ]
  },
  {
   "cell_type": "markdown",
   "metadata": {},
   "source": [
    "Японцы не были бы японцами, если бы не выделялись. 3DS, PS4, PSV - занимают 90 % рынка игр."
   ]
  },
  {
   "cell_type": "markdown",
   "metadata": {},
   "source": [
    "**Как влияют на продажи внутри одной популярной платформы отзывы пользователей и критиков?**\n",
    "\n",
    "Рассмотрим на примере Xbox One:"
   ]
  },
  {
   "cell_type": "code",
   "execution_count": 62,
   "metadata": {},
   "outputs": [
    {
     "data": {
      "text/html": [
       "<div>\n",
       "<style scoped>\n",
       "    .dataframe tbody tr th:only-of-type {\n",
       "        vertical-align: middle;\n",
       "    }\n",
       "\n",
       "    .dataframe tbody tr th {\n",
       "        vertical-align: top;\n",
       "    }\n",
       "\n",
       "    .dataframe thead th {\n",
       "        text-align: right;\n",
       "    }\n",
       "</style>\n",
       "<table border=\"1\" class=\"dataframe\">\n",
       "  <thead>\n",
       "    <tr style=\"text-align: right;\">\n",
       "      <th></th>\n",
       "      <th>all_sales</th>\n",
       "      <th>critic_score</th>\n",
       "      <th>user_score</th>\n",
       "    </tr>\n",
       "  </thead>\n",
       "  <tbody>\n",
       "    <tr>\n",
       "      <th>all_sales</th>\n",
       "      <td>1.000000</td>\n",
       "      <td>0.416998</td>\n",
       "      <td>-0.068925</td>\n",
       "    </tr>\n",
       "    <tr>\n",
       "      <th>critic_score</th>\n",
       "      <td>0.416998</td>\n",
       "      <td>1.000000</td>\n",
       "      <td>0.472462</td>\n",
       "    </tr>\n",
       "    <tr>\n",
       "      <th>user_score</th>\n",
       "      <td>-0.068925</td>\n",
       "      <td>0.472462</td>\n",
       "      <td>1.000000</td>\n",
       "    </tr>\n",
       "  </tbody>\n",
       "</table>\n",
       "</div>"
      ],
      "text/plain": [
       "              all_sales  critic_score  user_score\n",
       "all_sales      1.000000      0.416998   -0.068925\n",
       "critic_score   0.416998      1.000000    0.472462\n",
       "user_score    -0.068925      0.472462    1.000000"
      ]
     },
     "execution_count": 62,
     "metadata": {},
     "output_type": "execute_result"
    }
   ],
   "source": [
    "df.query('platform==\"XOne\"')[['all_sales', 'critic_score', 'user_score']].corr(method='pearson')"
   ]
  },
  {
   "cell_type": "code",
   "execution_count": 63,
   "metadata": {},
   "outputs": [
    {
     "data": {
      "image/png": "[encoded data removed]",
      "text/plain": [
       "<Figure size 648x648 with 9 Axes>"
      ]
     },
     "metadata": {
      "needs_background": "light"
     },
     "output_type": "display_data"
    }
   ],
   "source": [
    "pd.plotting.scatter_matrix(df.query('platform==\"XOne\"')[['all_sales', 'critic_score', 'user_score']], figsize=(9, 9), alpha=1);"
   ]
  },
  {
   "cell_type": "markdown",
   "metadata": {},
   "source": [
    "У колонки с оценками критиков **critic_score** и продажами наблюдается небольшая корреляционная связь (~0.42), а на самом графике уже заметен вывод: видеоигры с наибольшими имеют высокие (более 70%) оценки. \n",
    "\n",
    "Со столбцом оценок пользователей все не так однозначно: корреляция, близкая к нулю. Визуально диаграммы рассеивания похожи, но у **user_score** значения с бОльшими продажами рассеяны на графике в более хаотичном порядке.\n",
    "\n",
    "Очевидно, оценки журналистов имеют бОльший вес на продажи игр на XboxOne по сравнению с пользовательскими."
   ]
  },
  {
   "cell_type": "markdown",
   "metadata": {},
   "source": [
    "Сравним корреляции с другими топами: **PS4, PC, WiiU** и **3DS**"
   ]
  },
  {
   "cell_type": "code",
   "execution_count": 64,
   "metadata": {},
   "outputs": [
    {
     "data": {
      "text/html": [
       "<div>\n",
       "<style scoped>\n",
       "    .dataframe tbody tr th:only-of-type {\n",
       "        vertical-align: middle;\n",
       "    }\n",
       "\n",
       "    .dataframe tbody tr th {\n",
       "        vertical-align: top;\n",
       "    }\n",
       "\n",
       "    .dataframe thead th {\n",
       "        text-align: right;\n",
       "    }\n",
       "</style>\n",
       "<table border=\"1\" class=\"dataframe\">\n",
       "  <thead>\n",
       "    <tr style=\"text-align: right;\">\n",
       "      <th></th>\n",
       "      <th>all_sales</th>\n",
       "      <th>critic_score</th>\n",
       "      <th>user_score</th>\n",
       "    </tr>\n",
       "  </thead>\n",
       "  <tbody>\n",
       "    <tr>\n",
       "      <th>all_sales</th>\n",
       "      <td>1.000000</td>\n",
       "      <td>0.406568</td>\n",
       "      <td>-0.031957</td>\n",
       "    </tr>\n",
       "    <tr>\n",
       "      <th>critic_score</th>\n",
       "      <td>0.406568</td>\n",
       "      <td>1.000000</td>\n",
       "      <td>0.557654</td>\n",
       "    </tr>\n",
       "    <tr>\n",
       "      <th>user_score</th>\n",
       "      <td>-0.031957</td>\n",
       "      <td>0.557654</td>\n",
       "      <td>1.000000</td>\n",
       "    </tr>\n",
       "  </tbody>\n",
       "</table>\n",
       "</div>"
      ],
      "text/plain": [
       "              all_sales  critic_score  user_score\n",
       "all_sales      1.000000      0.406568   -0.031957\n",
       "critic_score   0.406568      1.000000    0.557654\n",
       "user_score    -0.031957      0.557654    1.000000"
      ]
     },
     "execution_count": 64,
     "metadata": {},
     "output_type": "execute_result"
    }
   ],
   "source": [
    "df.query('platform==\"PS4\"')[['all_sales', 'critic_score', 'user_score']].corr(method='pearson')"
   ]
  },
  {
   "cell_type": "code",
   "execution_count": 65,
   "metadata": {},
   "outputs": [
    {
     "data": {
      "text/html": [
       "<div>\n",
       "<style scoped>\n",
       "    .dataframe tbody tr th:only-of-type {\n",
       "        vertical-align: middle;\n",
       "    }\n",
       "\n",
       "    .dataframe tbody tr th {\n",
       "        vertical-align: top;\n",
       "    }\n",
       "\n",
       "    .dataframe thead th {\n",
       "        text-align: right;\n",
       "    }\n",
       "</style>\n",
       "<table border=\"1\" class=\"dataframe\">\n",
       "  <thead>\n",
       "    <tr style=\"text-align: right;\">\n",
       "      <th></th>\n",
       "      <th>all_sales</th>\n",
       "      <th>critic_score</th>\n",
       "      <th>user_score</th>\n",
       "    </tr>\n",
       "  </thead>\n",
       "  <tbody>\n",
       "    <tr>\n",
       "      <th>all_sales</th>\n",
       "      <td>1.000000</td>\n",
       "      <td>0.320803</td>\n",
       "      <td>0.197583</td>\n",
       "    </tr>\n",
       "    <tr>\n",
       "      <th>critic_score</th>\n",
       "      <td>0.320803</td>\n",
       "      <td>1.000000</td>\n",
       "      <td>0.722762</td>\n",
       "    </tr>\n",
       "    <tr>\n",
       "      <th>user_score</th>\n",
       "      <td>0.197583</td>\n",
       "      <td>0.722762</td>\n",
       "      <td>1.000000</td>\n",
       "    </tr>\n",
       "  </tbody>\n",
       "</table>\n",
       "</div>"
      ],
      "text/plain": [
       "              all_sales  critic_score  user_score\n",
       "all_sales      1.000000      0.320803    0.197583\n",
       "critic_score   0.320803      1.000000    0.722762\n",
       "user_score     0.197583      0.722762    1.000000"
      ]
     },
     "execution_count": 65,
     "metadata": {},
     "output_type": "execute_result"
    }
   ],
   "source": [
    "df.query('platform==\"3DS\"')[['all_sales', 'critic_score', 'user_score']].corr(method='pearson')"
   ]
  },
  {
   "cell_type": "code",
   "execution_count": 66,
   "metadata": {},
   "outputs": [
    {
     "data": {
      "text/html": [
       "<div>\n",
       "<style scoped>\n",
       "    .dataframe tbody tr th:only-of-type {\n",
       "        vertical-align: middle;\n",
       "    }\n",
       "\n",
       "    .dataframe tbody tr th {\n",
       "        vertical-align: top;\n",
       "    }\n",
       "\n",
       "    .dataframe thead th {\n",
       "        text-align: right;\n",
       "    }\n",
       "</style>\n",
       "<table border=\"1\" class=\"dataframe\">\n",
       "  <thead>\n",
       "    <tr style=\"text-align: right;\">\n",
       "      <th></th>\n",
       "      <th>all_sales</th>\n",
       "      <th>critic_score</th>\n",
       "      <th>user_score</th>\n",
       "    </tr>\n",
       "  </thead>\n",
       "  <tbody>\n",
       "    <tr>\n",
       "      <th>all_sales</th>\n",
       "      <td>1.000000</td>\n",
       "      <td>0.34838</td>\n",
       "      <td>0.400219</td>\n",
       "    </tr>\n",
       "    <tr>\n",
       "      <th>critic_score</th>\n",
       "      <td>0.348380</td>\n",
       "      <td>1.00000</td>\n",
       "      <td>0.770080</td>\n",
       "    </tr>\n",
       "    <tr>\n",
       "      <th>user_score</th>\n",
       "      <td>0.400219</td>\n",
       "      <td>0.77008</td>\n",
       "      <td>1.000000</td>\n",
       "    </tr>\n",
       "  </tbody>\n",
       "</table>\n",
       "</div>"
      ],
      "text/plain": [
       "              all_sales  critic_score  user_score\n",
       "all_sales      1.000000       0.34838    0.400219\n",
       "critic_score   0.348380       1.00000    0.770080\n",
       "user_score     0.400219       0.77008    1.000000"
      ]
     },
     "execution_count": 66,
     "metadata": {},
     "output_type": "execute_result"
    }
   ],
   "source": [
    "df.query('platform==\"WiiU\"')[['all_sales', 'critic_score', 'user_score']].corr(method='pearson')"
   ]
  },
  {
   "cell_type": "code",
   "execution_count": 67,
   "metadata": {},
   "outputs": [
    {
     "data": {
      "text/html": [
       "<div>\n",
       "<style scoped>\n",
       "    .dataframe tbody tr th:only-of-type {\n",
       "        vertical-align: middle;\n",
       "    }\n",
       "\n",
       "    .dataframe tbody tr th {\n",
       "        vertical-align: top;\n",
       "    }\n",
       "\n",
       "    .dataframe thead th {\n",
       "        text-align: right;\n",
       "    }\n",
       "</style>\n",
       "<table border=\"1\" class=\"dataframe\">\n",
       "  <thead>\n",
       "    <tr style=\"text-align: right;\">\n",
       "      <th></th>\n",
       "      <th>all_sales</th>\n",
       "      <th>critic_score</th>\n",
       "      <th>user_score</th>\n",
       "    </tr>\n",
       "  </thead>\n",
       "  <tbody>\n",
       "    <tr>\n",
       "      <th>all_sales</th>\n",
       "      <td>1.000000</td>\n",
       "      <td>0.237243</td>\n",
       "      <td>-0.121867</td>\n",
       "    </tr>\n",
       "    <tr>\n",
       "      <th>critic_score</th>\n",
       "      <td>0.237243</td>\n",
       "      <td>1.000000</td>\n",
       "      <td>0.432587</td>\n",
       "    </tr>\n",
       "    <tr>\n",
       "      <th>user_score</th>\n",
       "      <td>-0.121867</td>\n",
       "      <td>0.432587</td>\n",
       "      <td>1.000000</td>\n",
       "    </tr>\n",
       "  </tbody>\n",
       "</table>\n",
       "</div>"
      ],
      "text/plain": [
       "              all_sales  critic_score  user_score\n",
       "all_sales      1.000000      0.237243   -0.121867\n",
       "critic_score   0.237243      1.000000    0.432587\n",
       "user_score    -0.121867      0.432587    1.000000"
      ]
     },
     "execution_count": 67,
     "metadata": {},
     "output_type": "execute_result"
    }
   ],
   "source": [
    "df.query('platform==\"PC\"')[['all_sales', 'critic_score', 'user_score']].corr(method='pearson')"
   ]
  },
  {
   "cell_type": "markdown",
   "metadata": {},
   "source": [
    "Интересно. Корреляции у PS4 и XboxOne почти совпадают. Возможно, целевые аудитории - идентичные или похожи друг на друга по поведению.  \n",
    "\n",
    "Особняком так же стоит пара **WiiU** и **3DS** - у них похожие корреляционные значения, однако оценки пользователей тут выше - 0.22 и 0.4 соотвественно, а, значит, связь более прочная. Вероятно, игроки этих платформ более ответственно подходят к своей критике.  \n",
    "\n",
    "у персональных же компьютеров все менее гладко. Практически нулевая зависимость продаж от оценок пользователей, и всего 0.29 - от критики профессионалов."
   ]
  },
  {
   "cell_type": "markdown",
   "metadata": {},
   "source": [
    "**Общее распределение игр по жанрам.**\n",
    "\n",
    "Рассмотрим самые \"продаваемые\" жанры.\n",
    "\n",
    "Суммарные продажи по жанрам:"
   ]
  },
  {
   "cell_type": "code",
   "execution_count": 68,
   "metadata": {},
   "outputs": [
    {
     "data": {
      "text/html": [
       "<style  type=\"text/css\" >\n",
       "#T_f59f62a3_1020_11ec_a613_acb57dd14549row0_col0{\n",
       "            width:  10em;\n",
       "             height:  80%;\n",
       "            background:  linear-gradient(90deg,#d65f5f 100.0%, transparent 100.0%);\n",
       "        }#T_f59f62a3_1020_11ec_a613_acb57dd14549row1_col0{\n",
       "            width:  10em;\n",
       "             height:  80%;\n",
       "            background:  linear-gradient(90deg,#d65f5f 68.7%, transparent 68.7%);\n",
       "        }#T_f59f62a3_1020_11ec_a613_acb57dd14549row2_col0{\n",
       "            width:  10em;\n",
       "             height:  80%;\n",
       "            background:  linear-gradient(90deg,#d65f5f 43.1%, transparent 43.1%);\n",
       "        }#T_f59f62a3_1020_11ec_a613_acb57dd14549row3_col0{\n",
       "            width:  10em;\n",
       "             height:  80%;\n",
       "            background:  linear-gradient(90deg,#d65f5f 40.4%, transparent 40.4%);\n",
       "        }#T_f59f62a3_1020_11ec_a613_acb57dd14549row4_col0{\n",
       "            width:  10em;\n",
       "             height:  80%;\n",
       "            background:  linear-gradient(90deg,#d65f5f 18.4%, transparent 18.4%);\n",
       "        }#T_f59f62a3_1020_11ec_a613_acb57dd14549row5_col0{\n",
       "            width:  10em;\n",
       "             height:  80%;\n",
       "            background:  linear-gradient(90deg,#d65f5f 12.9%, transparent 12.9%);\n",
       "        }#T_f59f62a3_1020_11ec_a613_acb57dd14549row6_col0{\n",
       "            width:  10em;\n",
       "             height:  80%;\n",
       "            background:  linear-gradient(90deg,#d65f5f 11.1%, transparent 11.1%);\n",
       "        }#T_f59f62a3_1020_11ec_a613_acb57dd14549row7_col0{\n",
       "            width:  10em;\n",
       "             height:  80%;\n",
       "            background:  linear-gradient(90deg,#d65f5f 9.1%, transparent 9.1%);\n",
       "        }#T_f59f62a3_1020_11ec_a613_acb57dd14549row8_col0{\n",
       "            width:  10em;\n",
       "             height:  80%;\n",
       "            background:  linear-gradient(90deg,#d65f5f 6.9%, transparent 6.9%);\n",
       "        }#T_f59f62a3_1020_11ec_a613_acb57dd14549row9_col0{\n",
       "            width:  10em;\n",
       "             height:  80%;\n",
       "            background:  linear-gradient(90deg,#d65f5f 5.6%, transparent 5.6%);\n",
       "        }#T_f59f62a3_1020_11ec_a613_acb57dd14549row10_col0{\n",
       "            width:  10em;\n",
       "             height:  80%;\n",
       "            background:  linear-gradient(90deg,#d65f5f 1.9%, transparent 1.9%);\n",
       "        }#T_f59f62a3_1020_11ec_a613_acb57dd14549row11_col0{\n",
       "            width:  10em;\n",
       "             height:  80%;\n",
       "        }</style><table id=\"T_f59f62a3_1020_11ec_a613_acb57dd14549\" ><thead>    <tr>        <th class=\"blank level0\" ></th>        <th class=\"col_heading level0 col0\" >all_sales</th>    </tr>    <tr>        <th class=\"index_name level0\" >genre</th>        <th class=\"blank\" ></th>    </tr></thead><tbody>\n",
       "                <tr>\n",
       "                        <th id=\"T_f59f62a3_1020_11ec_a613_acb57dd14549level0_row0\" class=\"row_heading level0 row0\" >Action</th>\n",
       "                        <td id=\"T_f59f62a3_1020_11ec_a613_acb57dd14549row0_col0\" class=\"data row0 col0\" >441.120000</td>\n",
       "            </tr>\n",
       "            <tr>\n",
       "                        <th id=\"T_f59f62a3_1020_11ec_a613_acb57dd14549level0_row1\" class=\"row_heading level0 row1\" >Shooter</th>\n",
       "                        <td id=\"T_f59f62a3_1020_11ec_a613_acb57dd14549row1_col0\" class=\"data row1 col0\" >304.730000</td>\n",
       "            </tr>\n",
       "            <tr>\n",
       "                        <th id=\"T_f59f62a3_1020_11ec_a613_acb57dd14549level0_row2\" class=\"row_heading level0 row2\" >Role-Playing</th>\n",
       "                        <td id=\"T_f59f62a3_1020_11ec_a613_acb57dd14549row2_col0\" class=\"data row2 col0\" >192.800000</td>\n",
       "            </tr>\n",
       "            <tr>\n",
       "                        <th id=\"T_f59f62a3_1020_11ec_a613_acb57dd14549level0_row3\" class=\"row_heading level0 row3\" >Sports</th>\n",
       "                        <td id=\"T_f59f62a3_1020_11ec_a613_acb57dd14549row3_col0\" class=\"data row3 col0\" >181.070000</td>\n",
       "            </tr>\n",
       "            <tr>\n",
       "                        <th id=\"T_f59f62a3_1020_11ec_a613_acb57dd14549level0_row4\" class=\"row_heading level0 row4\" >Misc</th>\n",
       "                        <td id=\"T_f59f62a3_1020_11ec_a613_acb57dd14549row4_col0\" class=\"data row4 col0\" >85.040000</td>\n",
       "            </tr>\n",
       "            <tr>\n",
       "                        <th id=\"T_f59f62a3_1020_11ec_a613_acb57dd14549level0_row5\" class=\"row_heading level0 row5\" >Platform</th>\n",
       "                        <td id=\"T_f59f62a3_1020_11ec_a613_acb57dd14549row5_col0\" class=\"data row5 col0\" >61.000000</td>\n",
       "            </tr>\n",
       "            <tr>\n",
       "                        <th id=\"T_f59f62a3_1020_11ec_a613_acb57dd14549level0_row6\" class=\"row_heading level0 row6\" >Racing</th>\n",
       "                        <td id=\"T_f59f62a3_1020_11ec_a613_acb57dd14549row6_col0\" class=\"data row6 col0\" >53.500000</td>\n",
       "            </tr>\n",
       "            <tr>\n",
       "                        <th id=\"T_f59f62a3_1020_11ec_a613_acb57dd14549level0_row7\" class=\"row_heading level0 row7\" >Fighting</th>\n",
       "                        <td id=\"T_f59f62a3_1020_11ec_a613_acb57dd14549row7_col0\" class=\"data row7 col0\" >44.490000</td>\n",
       "            </tr>\n",
       "            <tr>\n",
       "                        <th id=\"T_f59f62a3_1020_11ec_a613_acb57dd14549level0_row8\" class=\"row_heading level0 row8\" >Simulation</th>\n",
       "                        <td id=\"T_f59f62a3_1020_11ec_a613_acb57dd14549row8_col0\" class=\"data row8 col0\" >35.120000</td>\n",
       "            </tr>\n",
       "            <tr>\n",
       "                        <th id=\"T_f59f62a3_1020_11ec_a613_acb57dd14549level0_row9\" class=\"row_heading level0 row9\" >Adventure</th>\n",
       "                        <td id=\"T_f59f62a3_1020_11ec_a613_acb57dd14549row9_col0\" class=\"data row9 col0\" >29.430000</td>\n",
       "            </tr>\n",
       "            <tr>\n",
       "                        <th id=\"T_f59f62a3_1020_11ec_a613_acb57dd14549level0_row10\" class=\"row_heading level0 row10\" >Strategy</th>\n",
       "                        <td id=\"T_f59f62a3_1020_11ec_a613_acb57dd14549row10_col0\" class=\"data row10 col0\" >13.340000</td>\n",
       "            </tr>\n",
       "            <tr>\n",
       "                        <th id=\"T_f59f62a3_1020_11ec_a613_acb57dd14549level0_row11\" class=\"row_heading level0 row11\" >Puzzle</th>\n",
       "                        <td id=\"T_f59f62a3_1020_11ec_a613_acb57dd14549row11_col0\" class=\"data row11 col0\" >4.890000</td>\n",
       "            </tr>\n",
       "    </tbody></table>"
      ],
      "text/plain": [
       "<pandas.io.formats.style.Styler at 0xd00df10>"
      ]
     },
     "execution_count": 68,
     "metadata": {},
     "output_type": "execute_result"
    }
   ],
   "source": [
    "df.pivot_table(index='genre', values='all_sales', aggfunc='sum').sort_values(by='all_sales', ascending=False).style.bar()"
   ]
  },
  {
   "cell_type": "code",
   "execution_count": 69,
   "metadata": {},
   "outputs": [
    {
     "data": {
      "image/png": "[encoded data removed]",
      "text/plain": [
       "<Figure size 720x720 with 1 Axes>"
      ]
     },
     "metadata": {},
     "output_type": "display_data"
    }
   ],
   "source": [
    "df.pivot_table(index='genre',\n",
    "               values='all_sales', aggfunc='sum').sort_values(by='all_sales',\n",
    "                                                              ascending=False).plot(kind='pie',\n",
    "                                                                                    subplots=True, figsize=(10, 10), autopct='%.2f', legend=True, title='Суммарные продажи по жанрам, %');"
   ]
  },
  {
   "cell_type": "markdown",
   "metadata": {},
   "source": [
    "Сразу очевидно, что три самых продаваемых жанра, на которые приходится более половины рынка видеоигр: \n",
    "- **экшены**\n",
    "- **шутеры**\n",
    "- **спортивные игры**\n",
    "\n",
    "В аутсайдерах:\n",
    "- **стратегии**\n",
    "- **паззлы**\n",
    "- **приключенческие игры**\n",
    "- **симуляторы**\n",
    "- **платформеры**\n",
    "- **гоночные игры**  \n",
    "\n",
    "(все вместе они собирают почти столько же продаж, сколько один лишь экшен)"
   ]
  },
  {
   "cell_type": "code",
   "execution_count": 70,
   "metadata": {},
   "outputs": [
    {
     "data": {
      "text/html": [
       "<style  type=\"text/css\" >\n",
       "#T_f6141f28_1020_11ec_b825_acb57dd14549row0_col0{\n",
       "            width:  10em;\n",
       "             height:  80%;\n",
       "            background:  linear-gradient(90deg,#d65f5f 100.0%, transparent 100.0%);\n",
       "        }#T_f6141f28_1020_11ec_b825_acb57dd14549row1_col0{\n",
       "            width:  10em;\n",
       "             height:  80%;\n",
       "            background:  linear-gradient(90deg,#d65f5f 51.2%, transparent 51.2%);\n",
       "        }#T_f6141f28_1020_11ec_b825_acb57dd14549row2_col0{\n",
       "            width:  10em;\n",
       "             height:  80%;\n",
       "            background:  linear-gradient(90deg,#d65f5f 43.9%, transparent 43.9%);\n",
       "        }#T_f6141f28_1020_11ec_b825_acb57dd14549row3_col0,#T_f6141f28_1020_11ec_b825_acb57dd14549row4_col0{\n",
       "            width:  10em;\n",
       "             height:  80%;\n",
       "            background:  linear-gradient(90deg,#d65f5f 26.8%, transparent 26.8%);\n",
       "        }#T_f6141f28_1020_11ec_b825_acb57dd14549row5_col0{\n",
       "            width:  10em;\n",
       "             height:  80%;\n",
       "            background:  linear-gradient(90deg,#d65f5f 24.4%, transparent 24.4%);\n",
       "        }#T_f6141f28_1020_11ec_b825_acb57dd14549row6_col0,#T_f6141f28_1020_11ec_b825_acb57dd14549row7_col0,#T_f6141f28_1020_11ec_b825_acb57dd14549row8_col0{\n",
       "            width:  10em;\n",
       "             height:  80%;\n",
       "            background:  linear-gradient(90deg,#d65f5f 22.0%, transparent 22.0%);\n",
       "        }#T_f6141f28_1020_11ec_b825_acb57dd14549row9_col0{\n",
       "            width:  10em;\n",
       "             height:  80%;\n",
       "            background:  linear-gradient(90deg,#d65f5f 12.2%, transparent 12.2%);\n",
       "        }#T_f6141f28_1020_11ec_b825_acb57dd14549row10_col0{\n",
       "            width:  10em;\n",
       "             height:  80%;\n",
       "            background:  linear-gradient(90deg,#d65f5f 3.7%, transparent 3.7%);\n",
       "        }#T_f6141f28_1020_11ec_b825_acb57dd14549row11_col0{\n",
       "            width:  10em;\n",
       "             height:  80%;\n",
       "        }</style><table id=\"T_f6141f28_1020_11ec_b825_acb57dd14549\" ><thead>    <tr>        <th class=\"blank level0\" ></th>        <th class=\"col_heading level0 col0\" >all_sales</th>    </tr>    <tr>        <th class=\"index_name level0\" >genre</th>        <th class=\"blank\" ></th>    </tr></thead><tbody>\n",
       "                <tr>\n",
       "                        <th id=\"T_f6141f28_1020_11ec_b825_acb57dd14549level0_row0\" class=\"row_heading level0 row0\" >Shooter</th>\n",
       "                        <td id=\"T_f6141f28_1020_11ec_b825_acb57dd14549row0_col0\" class=\"data row0 col0\" >0.440000</td>\n",
       "            </tr>\n",
       "            <tr>\n",
       "                        <th id=\"T_f6141f28_1020_11ec_b825_acb57dd14549level0_row1\" class=\"row_heading level0 row1\" >Sports</th>\n",
       "                        <td id=\"T_f6141f28_1020_11ec_b825_acb57dd14549row1_col0\" class=\"data row1 col0\" >0.240000</td>\n",
       "            </tr>\n",
       "            <tr>\n",
       "                        <th id=\"T_f6141f28_1020_11ec_b825_acb57dd14549level0_row2\" class=\"row_heading level0 row2\" >Platform</th>\n",
       "                        <td id=\"T_f6141f28_1020_11ec_b825_acb57dd14549row2_col0\" class=\"data row2 col0\" >0.210000</td>\n",
       "            </tr>\n",
       "            <tr>\n",
       "                        <th id=\"T_f6141f28_1020_11ec_b825_acb57dd14549level0_row3\" class=\"row_heading level0 row3\" >Role-Playing</th>\n",
       "                        <td id=\"T_f6141f28_1020_11ec_b825_acb57dd14549row3_col0\" class=\"data row3 col0\" >0.140000</td>\n",
       "            </tr>\n",
       "            <tr>\n",
       "                        <th id=\"T_f6141f28_1020_11ec_b825_acb57dd14549level0_row4\" class=\"row_heading level0 row4\" >Racing</th>\n",
       "                        <td id=\"T_f6141f28_1020_11ec_b825_acb57dd14549row4_col0\" class=\"data row4 col0\" >0.140000</td>\n",
       "            </tr>\n",
       "            <tr>\n",
       "                        <th id=\"T_f6141f28_1020_11ec_b825_acb57dd14549level0_row5\" class=\"row_heading level0 row5\" >Fighting</th>\n",
       "                        <td id=\"T_f6141f28_1020_11ec_b825_acb57dd14549row5_col0\" class=\"data row5 col0\" >0.130000</td>\n",
       "            </tr>\n",
       "            <tr>\n",
       "                        <th id=\"T_f6141f28_1020_11ec_b825_acb57dd14549level0_row6\" class=\"row_heading level0 row6\" >Action</th>\n",
       "                        <td id=\"T_f6141f28_1020_11ec_b825_acb57dd14549row6_col0\" class=\"data row6 col0\" >0.120000</td>\n",
       "            </tr>\n",
       "            <tr>\n",
       "                        <th id=\"T_f6141f28_1020_11ec_b825_acb57dd14549level0_row7\" class=\"row_heading level0 row7\" >Misc</th>\n",
       "                        <td id=\"T_f6141f28_1020_11ec_b825_acb57dd14549row7_col0\" class=\"data row7 col0\" >0.120000</td>\n",
       "            </tr>\n",
       "            <tr>\n",
       "                        <th id=\"T_f6141f28_1020_11ec_b825_acb57dd14549level0_row8\" class=\"row_heading level0 row8\" >Simulation</th>\n",
       "                        <td id=\"T_f6141f28_1020_11ec_b825_acb57dd14549row8_col0\" class=\"data row8 col0\" >0.120000</td>\n",
       "            </tr>\n",
       "            <tr>\n",
       "                        <th id=\"T_f6141f28_1020_11ec_b825_acb57dd14549level0_row9\" class=\"row_heading level0 row9\" >Strategy</th>\n",
       "                        <td id=\"T_f6141f28_1020_11ec_b825_acb57dd14549row9_col0\" class=\"data row9 col0\" >0.080000</td>\n",
       "            </tr>\n",
       "            <tr>\n",
       "                        <th id=\"T_f6141f28_1020_11ec_b825_acb57dd14549level0_row10\" class=\"row_heading level0 row10\" >Puzzle</th>\n",
       "                        <td id=\"T_f6141f28_1020_11ec_b825_acb57dd14549row10_col0\" class=\"data row10 col0\" >0.045000</td>\n",
       "            </tr>\n",
       "            <tr>\n",
       "                        <th id=\"T_f6141f28_1020_11ec_b825_acb57dd14549level0_row11\" class=\"row_heading level0 row11\" >Adventure</th>\n",
       "                        <td id=\"T_f6141f28_1020_11ec_b825_acb57dd14549row11_col0\" class=\"data row11 col0\" >0.030000</td>\n",
       "            </tr>\n",
       "    </tbody></table>"
      ],
      "text/plain": [
       "<pandas.io.formats.style.Styler at 0xe2c8520>"
      ]
     },
     "execution_count": 70,
     "metadata": {},
     "output_type": "execute_result"
    }
   ],
   "source": [
    "df.pivot_table(index='genre', values='all_sales', aggfunc='median').sort_values(by='all_sales', ascending=False).style.bar()"
   ]
  },
  {
   "cell_type": "code",
   "execution_count": 71,
   "metadata": {},
   "outputs": [
    {
     "data": {
      "image/png": "[encoded data removed]",
      "text/plain": [
       "<Figure size 720x720 with 1 Axes>"
      ]
     },
     "metadata": {},
     "output_type": "display_data"
    }
   ],
   "source": [
    "df.pivot_table(index='genre',\n",
    "               values='all_sales', aggfunc='median').sort_values(by='all_sales',\n",
    "                                                              ascending=False).plot(kind='pie',\n",
    "                                                                                    subplots=True, figsize=(10, 10), autopct='%.2f', legend=True, title='Суммарные продажи по жанрам, %');"
   ]
  },
  {
   "cell_type": "markdown",
   "metadata": {},
   "source": [
    "Данные по средним и суммарным продажам отличаются. \n",
    "\n",
    "Шутеры популярнее всего - в среднем каждая четвертая продаваемая игра в жанре шутер. Вместе со спортивными играми и платформерами они формируют половину среднестатистических продаж.\n",
    "\n",
    "Хваленный экшен - занимает лишь 7 строчку в этом топе. Видимо, и правда: берут большие объемы продаж только числом!"
   ]
  },
  {
   "cell_type": "markdown",
   "metadata": {},
   "source": [
    "## 4. Портрет пользователя каждого региона"
   ]
  },
  {
   "cell_type": "markdown",
   "metadata": {},
   "source": [
    "**Самые популярные платформы (топ-5)**"
   ]
  },
  {
   "cell_type": "markdown",
   "metadata": {},
   "source": [
    "Северная Америка"
   ]
  },
  {
   "cell_type": "code",
   "execution_count": 72,
   "metadata": {},
   "outputs": [
    {
     "data": {
      "text/html": [
       "<style  type=\"text/css\" >\n",
       "#T_f68bc1e9_1020_11ec_bd19_acb57dd14549row0_col0{\n",
       "            width:  10em;\n",
       "             height:  80%;\n",
       "            background:  linear-gradient(90deg,#d65f5f 100.0%, transparent 100.0%);\n",
       "        }#T_f68bc1e9_1020_11ec_bd19_acb57dd14549row1_col0{\n",
       "            width:  10em;\n",
       "             height:  80%;\n",
       "            background:  linear-gradient(90deg,#d65f5f 63.1%, transparent 63.1%);\n",
       "        }#T_f68bc1e9_1020_11ec_bd19_acb57dd14549row2_col0{\n",
       "            width:  10em;\n",
       "             height:  80%;\n",
       "            background:  linear-gradient(90deg,#d65f5f 56.7%, transparent 56.7%);\n",
       "        }#T_f68bc1e9_1020_11ec_bd19_acb57dd14549row3_col0{\n",
       "            width:  10em;\n",
       "             height:  80%;\n",
       "            background:  linear-gradient(90deg,#d65f5f 44.6%, transparent 44.6%);\n",
       "        }#T_f68bc1e9_1020_11ec_bd19_acb57dd14549row4_col0{\n",
       "            width:  10em;\n",
       "             height:  80%;\n",
       "        }</style><table id=\"T_f68bc1e9_1020_11ec_bd19_acb57dd14549\" ><thead>    <tr>        <th class=\"blank level0\" ></th>        <th class=\"col_heading level0 col0\" >na_sales</th>    </tr>    <tr>        <th class=\"index_name level0\" >platform</th>        <th class=\"blank\" ></th>    </tr></thead><tbody>\n",
       "                <tr>\n",
       "                        <th id=\"T_f68bc1e9_1020_11ec_bd19_acb57dd14549level0_row0\" class=\"row_heading level0 row0\" >X360</th>\n",
       "                        <td id=\"T_f68bc1e9_1020_11ec_bd19_acb57dd14549row0_col0\" class=\"data row0 col0\" >140.050000</td>\n",
       "            </tr>\n",
       "            <tr>\n",
       "                        <th id=\"T_f68bc1e9_1020_11ec_bd19_acb57dd14549level0_row1\" class=\"row_heading level0 row1\" >PS4</th>\n",
       "                        <td id=\"T_f68bc1e9_1020_11ec_bd19_acb57dd14549row1_col0\" class=\"data row1 col0\" >108.740000</td>\n",
       "            </tr>\n",
       "            <tr>\n",
       "                        <th id=\"T_f68bc1e9_1020_11ec_bd19_acb57dd14549level0_row2\" class=\"row_heading level0 row2\" >PS3</th>\n",
       "                        <td id=\"T_f68bc1e9_1020_11ec_bd19_acb57dd14549row2_col0\" class=\"data row2 col0\" >103.380000</td>\n",
       "            </tr>\n",
       "            <tr>\n",
       "                        <th id=\"T_f68bc1e9_1020_11ec_bd19_acb57dd14549level0_row3\" class=\"row_heading level0 row3\" >XOne</th>\n",
       "                        <td id=\"T_f68bc1e9_1020_11ec_bd19_acb57dd14549row3_col0\" class=\"data row3 col0\" >93.120000</td>\n",
       "            </tr>\n",
       "            <tr>\n",
       "                        <th id=\"T_f68bc1e9_1020_11ec_bd19_acb57dd14549level0_row4\" class=\"row_heading level0 row4\" >3DS</th>\n",
       "                        <td id=\"T_f68bc1e9_1020_11ec_bd19_acb57dd14549row4_col0\" class=\"data row4 col0\" >55.310000</td>\n",
       "            </tr>\n",
       "    </tbody></table>"
      ],
      "text/plain": [
       "<pandas.io.formats.style.Styler at 0xe2acac0>"
      ]
     },
     "execution_count": 72,
     "metadata": {},
     "output_type": "execute_result"
    }
   ],
   "source": [
    "df.pivot_table(index='platform',\n",
    "                    values='na_sales', aggfunc='sum').sort_values(by='na_sales',\n",
    "                                                                  ascending=False).head().style.bar()"
   ]
  },
  {
   "cell_type": "markdown",
   "metadata": {},
   "source": [
    "Европа"
   ]
  },
  {
   "cell_type": "code",
   "execution_count": 73,
   "metadata": {},
   "outputs": [
    {
     "data": {
      "text/html": [
       "<style  type=\"text/css\" >\n",
       "#T_f6a11ef9_1020_11ec_b55c_acb57dd14549row0_col0{\n",
       "            width:  10em;\n",
       "             height:  80%;\n",
       "            background:  linear-gradient(90deg,#d65f5f 100.0%, transparent 100.0%);\n",
       "        }#T_f6a11ef9_1020_11ec_b55c_acb57dd14549row1_col0{\n",
       "            width:  10em;\n",
       "             height:  80%;\n",
       "            background:  linear-gradient(90deg,#d65f5f 65.2%, transparent 65.2%);\n",
       "        }#T_f6a11ef9_1020_11ec_b55c_acb57dd14549row2_col0{\n",
       "            width:  10em;\n",
       "             height:  80%;\n",
       "            background:  linear-gradient(90deg,#d65f5f 32.4%, transparent 32.4%);\n",
       "        }#T_f6a11ef9_1020_11ec_b55c_acb57dd14549row3_col0{\n",
       "            width:  10em;\n",
       "             height:  80%;\n",
       "            background:  linear-gradient(90deg,#d65f5f 9.1%, transparent 9.1%);\n",
       "        }#T_f6a11ef9_1020_11ec_b55c_acb57dd14549row4_col0{\n",
       "            width:  10em;\n",
       "             height:  80%;\n",
       "        }</style><table id=\"T_f6a11ef9_1020_11ec_b55c_acb57dd14549\" ><thead>    <tr>        <th class=\"blank level0\" ></th>        <th class=\"col_heading level0 col0\" >eu_sales</th>    </tr>    <tr>        <th class=\"index_name level0\" >platform</th>        <th class=\"blank\" ></th>    </tr></thead><tbody>\n",
       "                <tr>\n",
       "                        <th id=\"T_f6a11ef9_1020_11ec_b55c_acb57dd14549level0_row0\" class=\"row_heading level0 row0\" >PS4</th>\n",
       "                        <td id=\"T_f6a11ef9_1020_11ec_b55c_acb57dd14549row0_col0\" class=\"data row0 col0\" >141.090000</td>\n",
       "            </tr>\n",
       "            <tr>\n",
       "                        <th id=\"T_f6a11ef9_1020_11ec_b55c_acb57dd14549level0_row1\" class=\"row_heading level0 row1\" >PS3</th>\n",
       "                        <td id=\"T_f6a11ef9_1020_11ec_b55c_acb57dd14549row1_col0\" class=\"data row1 col0\" >106.860000</td>\n",
       "            </tr>\n",
       "            <tr>\n",
       "                        <th id=\"T_f6a11ef9_1020_11ec_b55c_acb57dd14549level0_row2\" class=\"row_heading level0 row2\" >X360</th>\n",
       "                        <td id=\"T_f6a11ef9_1020_11ec_b55c_acb57dd14549row2_col0\" class=\"data row2 col0\" >74.520000</td>\n",
       "            </tr>\n",
       "            <tr>\n",
       "                        <th id=\"T_f6a11ef9_1020_11ec_b55c_acb57dd14549level0_row3\" class=\"row_heading level0 row3\" >XOne</th>\n",
       "                        <td id=\"T_f6a11ef9_1020_11ec_b55c_acb57dd14549row3_col0\" class=\"data row3 col0\" >51.590000</td>\n",
       "            </tr>\n",
       "            <tr>\n",
       "                        <th id=\"T_f6a11ef9_1020_11ec_b55c_acb57dd14549level0_row4\" class=\"row_heading level0 row4\" >3DS</th>\n",
       "                        <td id=\"T_f6a11ef9_1020_11ec_b55c_acb57dd14549row4_col0\" class=\"data row4 col0\" >42.640000</td>\n",
       "            </tr>\n",
       "    </tbody></table>"
      ],
      "text/plain": [
       "<pandas.io.formats.style.Styler at 0xe370fd0>"
      ]
     },
     "execution_count": 73,
     "metadata": {},
     "output_type": "execute_result"
    }
   ],
   "source": [
    "df.pivot_table(index='platform',\n",
    "                    values='eu_sales', aggfunc='sum').sort_values(by='eu_sales',\n",
    "                                                                  ascending=False).head().style.bar()"
   ]
  },
  {
   "cell_type": "markdown",
   "metadata": {},
   "source": [
    "Япония"
   ]
  },
  {
   "cell_type": "code",
   "execution_count": 74,
   "metadata": {},
   "outputs": [
    {
     "data": {
      "text/html": [
       "<style  type=\"text/css\" >\n",
       "#T_f6b2d27b_1020_11ec_841f_acb57dd14549row0_col0{\n",
       "            width:  10em;\n",
       "             height:  80%;\n",
       "            background:  linear-gradient(90deg,#d65f5f 100.0%, transparent 100.0%);\n",
       "        }#T_f6b2d27b_1020_11ec_841f_acb57dd14549row1_col0{\n",
       "            width:  10em;\n",
       "             height:  80%;\n",
       "            background:  linear-gradient(90deg,#d65f5f 29.8%, transparent 29.8%);\n",
       "        }#T_f6b2d27b_1020_11ec_841f_acb57dd14549row2_col0{\n",
       "            width:  10em;\n",
       "             height:  80%;\n",
       "            background:  linear-gradient(90deg,#d65f5f 10.7%, transparent 10.7%);\n",
       "        }#T_f6b2d27b_1020_11ec_841f_acb57dd14549row3_col0{\n",
       "            width:  10em;\n",
       "             height:  80%;\n",
       "            background:  linear-gradient(90deg,#d65f5f 3.9%, transparent 3.9%);\n",
       "        }#T_f6b2d27b_1020_11ec_841f_acb57dd14549row4_col0{\n",
       "            width:  10em;\n",
       "             height:  80%;\n",
       "        }</style><table id=\"T_f6b2d27b_1020_11ec_841f_acb57dd14549\" ><thead>    <tr>        <th class=\"blank level0\" ></th>        <th class=\"col_heading level0 col0\" >jp_sales</th>    </tr>    <tr>        <th class=\"index_name level0\" >platform</th>        <th class=\"blank\" ></th>    </tr></thead><tbody>\n",
       "                <tr>\n",
       "                        <th id=\"T_f6b2d27b_1020_11ec_841f_acb57dd14549level0_row0\" class=\"row_heading level0 row0\" >3DS</th>\n",
       "                        <td id=\"T_f6b2d27b_1020_11ec_841f_acb57dd14549row0_col0\" class=\"data row0 col0\" >87.790000</td>\n",
       "            </tr>\n",
       "            <tr>\n",
       "                        <th id=\"T_f6b2d27b_1020_11ec_841f_acb57dd14549level0_row1\" class=\"row_heading level0 row1\" >PS3</th>\n",
       "                        <td id=\"T_f6b2d27b_1020_11ec_841f_acb57dd14549row1_col0\" class=\"data row1 col0\" >35.290000</td>\n",
       "            </tr>\n",
       "            <tr>\n",
       "                        <th id=\"T_f6b2d27b_1020_11ec_841f_acb57dd14549level0_row2\" class=\"row_heading level0 row2\" >PSV</th>\n",
       "                        <td id=\"T_f6b2d27b_1020_11ec_841f_acb57dd14549row2_col0\" class=\"data row2 col0\" >21.040000</td>\n",
       "            </tr>\n",
       "            <tr>\n",
       "                        <th id=\"T_f6b2d27b_1020_11ec_841f_acb57dd14549level0_row3\" class=\"row_heading level0 row3\" >PS4</th>\n",
       "                        <td id=\"T_f6b2d27b_1020_11ec_841f_acb57dd14549row3_col0\" class=\"data row3 col0\" >15.960000</td>\n",
       "            </tr>\n",
       "            <tr>\n",
       "                        <th id=\"T_f6b2d27b_1020_11ec_841f_acb57dd14549level0_row4\" class=\"row_heading level0 row4\" >WiiU</th>\n",
       "                        <td id=\"T_f6b2d27b_1020_11ec_841f_acb57dd14549row4_col0\" class=\"data row4 col0\" >13.010000</td>\n",
       "            </tr>\n",
       "    </tbody></table>"
      ],
      "text/plain": [
       "<pandas.io.formats.style.Styler at 0xd3fdb20>"
      ]
     },
     "execution_count": 74,
     "metadata": {},
     "output_type": "execute_result"
    }
   ],
   "source": [
    "df.pivot_table(index='platform',\n",
    "                    values='jp_sales', aggfunc='sum').sort_values(by='jp_sales',\n",
    "                                                                  ascending=False).head().style.bar()"
   ]
  },
  {
   "cell_type": "markdown",
   "metadata": {},
   "source": [
    "Интересно, что Европа и Северная Америка примерно совпадают по популярности консолей (лишь за разницей лидеров: PS3 в Европе, и Xbox360 в Америке, родной для США консоли). Можно было бы сказать, что игроки обеих регионов коррелируют по выбору платформ.\n",
    "\n",
    "Однако в Японии очень специфичная ситуация: топ-5 составлен из консолей только японского же происхождения (Nintendo и Sony). И этот выбор никак не похож западных игроков. "
   ]
  },
  {
   "cell_type": "markdown",
   "metadata": {},
   "source": [
    "**Самые популярные жанры (топ-5).**"
   ]
  },
  {
   "cell_type": "markdown",
   "metadata": {},
   "source": [
    "Северная Америка"
   ]
  },
  {
   "cell_type": "code",
   "execution_count": 75,
   "metadata": {},
   "outputs": [
    {
     "data": {
      "text/html": [
       "<style  type=\"text/css\" >\n",
       "#T_f6c151a1_1020_11ec_85d2_acb57dd14549row0_col0{\n",
       "            width:  10em;\n",
       "             height:  80%;\n",
       "            background:  linear-gradient(90deg,#d65f5f 100.0%, transparent 100.0%);\n",
       "        }#T_f6c151a1_1020_11ec_85d2_acb57dd14549row1_col0{\n",
       "            width:  10em;\n",
       "             height:  80%;\n",
       "            background:  linear-gradient(90deg,#d65f5f 76.3%, transparent 76.3%);\n",
       "        }#T_f6c151a1_1020_11ec_85d2_acb57dd14549row2_col0{\n",
       "            width:  10em;\n",
       "             height:  80%;\n",
       "            background:  linear-gradient(90deg,#d65f5f 31.0%, transparent 31.0%);\n",
       "        }#T_f6c151a1_1020_11ec_85d2_acb57dd14549row3_col0{\n",
       "            width:  10em;\n",
       "             height:  80%;\n",
       "            background:  linear-gradient(90deg,#d65f5f 18.5%, transparent 18.5%);\n",
       "        }#T_f6c151a1_1020_11ec_85d2_acb57dd14549row4_col0{\n",
       "            width:  10em;\n",
       "             height:  80%;\n",
       "        }</style><table id=\"T_f6c151a1_1020_11ec_85d2_acb57dd14549\" ><thead>    <tr>        <th class=\"blank level0\" ></th>        <th class=\"col_heading level0 col0\" >na_sales</th>    </tr>    <tr>        <th class=\"index_name level0\" >genre</th>        <th class=\"blank\" ></th>    </tr></thead><tbody>\n",
       "                <tr>\n",
       "                        <th id=\"T_f6c151a1_1020_11ec_85d2_acb57dd14549level0_row0\" class=\"row_heading level0 row0\" >Action</th>\n",
       "                        <td id=\"T_f6c151a1_1020_11ec_85d2_acb57dd14549row0_col0\" class=\"data row0 col0\" >177.840000</td>\n",
       "            </tr>\n",
       "            <tr>\n",
       "                        <th id=\"T_f6c151a1_1020_11ec_85d2_acb57dd14549level0_row1\" class=\"row_heading level0 row1\" >Shooter</th>\n",
       "                        <td id=\"T_f6c151a1_1020_11ec_85d2_acb57dd14549row1_col0\" class=\"data row1 col0\" >144.770000</td>\n",
       "            </tr>\n",
       "            <tr>\n",
       "                        <th id=\"T_f6c151a1_1020_11ec_85d2_acb57dd14549level0_row2\" class=\"row_heading level0 row2\" >Sports</th>\n",
       "                        <td id=\"T_f6c151a1_1020_11ec_85d2_acb57dd14549row2_col0\" class=\"data row2 col0\" >81.530000</td>\n",
       "            </tr>\n",
       "            <tr>\n",
       "                        <th id=\"T_f6c151a1_1020_11ec_85d2_acb57dd14549level0_row3\" class=\"row_heading level0 row3\" >Role-Playing</th>\n",
       "                        <td id=\"T_f6c151a1_1020_11ec_85d2_acb57dd14549row3_col0\" class=\"data row3 col0\" >64.000000</td>\n",
       "            </tr>\n",
       "            <tr>\n",
       "                        <th id=\"T_f6c151a1_1020_11ec_85d2_acb57dd14549level0_row4\" class=\"row_heading level0 row4\" >Misc</th>\n",
       "                        <td id=\"T_f6c151a1_1020_11ec_85d2_acb57dd14549row4_col0\" class=\"data row4 col0\" >38.190000</td>\n",
       "            </tr>\n",
       "    </tbody></table>"
      ],
      "text/plain": [
       "<pandas.io.formats.style.Styler at 0xb9b2ca0>"
      ]
     },
     "execution_count": 75,
     "metadata": {},
     "output_type": "execute_result"
    }
   ],
   "source": [
    "df.pivot_table(index='genre',\n",
    "                    values='na_sales', aggfunc='sum').sort_values(by='na_sales',\n",
    "                                                                  ascending=False).head().style.bar()"
   ]
  },
  {
   "cell_type": "markdown",
   "metadata": {},
   "source": [
    "Европа"
   ]
  },
  {
   "cell_type": "code",
   "execution_count": 76,
   "metadata": {},
   "outputs": [
    {
     "data": {
      "text/html": [
       "<style  type=\"text/css\" >\n",
       "#T_f6e30af0_1020_11ec_a388_acb57dd14549row0_col0{\n",
       "            width:  10em;\n",
       "             height:  80%;\n",
       "            background:  linear-gradient(90deg,#d65f5f 100.0%, transparent 100.0%);\n",
       "        }#T_f6e30af0_1020_11ec_a388_acb57dd14549row1_col0{\n",
       "            width:  10em;\n",
       "             height:  80%;\n",
       "            background:  linear-gradient(90deg,#d65f5f 65.3%, transparent 65.3%);\n",
       "        }#T_f6e30af0_1020_11ec_a388_acb57dd14549row2_col0{\n",
       "            width:  10em;\n",
       "             height:  80%;\n",
       "            background:  linear-gradient(90deg,#d65f5f 31.7%, transparent 31.7%);\n",
       "        }#T_f6e30af0_1020_11ec_a388_acb57dd14549row3_col0{\n",
       "            width:  10em;\n",
       "             height:  80%;\n",
       "            background:  linear-gradient(90deg,#d65f5f 16.1%, transparent 16.1%);\n",
       "        }#T_f6e30af0_1020_11ec_a388_acb57dd14549row4_col0{\n",
       "            width:  10em;\n",
       "             height:  80%;\n",
       "        }</style><table id=\"T_f6e30af0_1020_11ec_a388_acb57dd14549\" ><thead>    <tr>        <th class=\"blank level0\" ></th>        <th class=\"col_heading level0 col0\" >eu_sales</th>    </tr>    <tr>        <th class=\"index_name level0\" >genre</th>        <th class=\"blank\" ></th>    </tr></thead><tbody>\n",
       "                <tr>\n",
       "                        <th id=\"T_f6e30af0_1020_11ec_a388_acb57dd14549level0_row0\" class=\"row_heading level0 row0\" >Action</th>\n",
       "                        <td id=\"T_f6e30af0_1020_11ec_a388_acb57dd14549row0_col0\" class=\"data row0 col0\" >159.340000</td>\n",
       "            </tr>\n",
       "            <tr>\n",
       "                        <th id=\"T_f6e30af0_1020_11ec_a388_acb57dd14549level0_row1\" class=\"row_heading level0 row1\" >Shooter</th>\n",
       "                        <td id=\"T_f6e30af0_1020_11ec_a388_acb57dd14549row1_col0\" class=\"data row1 col0\" >113.470000</td>\n",
       "            </tr>\n",
       "            <tr>\n",
       "                        <th id=\"T_f6e30af0_1020_11ec_a388_acb57dd14549level0_row2\" class=\"row_heading level0 row2\" >Sports</th>\n",
       "                        <td id=\"T_f6e30af0_1020_11ec_a388_acb57dd14549row2_col0\" class=\"data row2 col0\" >69.090000</td>\n",
       "            </tr>\n",
       "            <tr>\n",
       "                        <th id=\"T_f6e30af0_1020_11ec_a388_acb57dd14549level0_row3\" class=\"row_heading level0 row3\" >Role-Playing</th>\n",
       "                        <td id=\"T_f6e30af0_1020_11ec_a388_acb57dd14549row3_col0\" class=\"data row3 col0\" >48.530000</td>\n",
       "            </tr>\n",
       "            <tr>\n",
       "                        <th id=\"T_f6e30af0_1020_11ec_a388_acb57dd14549level0_row4\" class=\"row_heading level0 row4\" >Racing</th>\n",
       "                        <td id=\"T_f6e30af0_1020_11ec_a388_acb57dd14549row4_col0\" class=\"data row4 col0\" >27.290000</td>\n",
       "            </tr>\n",
       "    </tbody></table>"
      ],
      "text/plain": [
       "<pandas.io.formats.style.Styler at 0xd36f9d0>"
      ]
     },
     "execution_count": 76,
     "metadata": {},
     "output_type": "execute_result"
    }
   ],
   "source": [
    "df.pivot_table(index='genre',\n",
    "                    values='eu_sales', aggfunc='sum').sort_values(by='eu_sales',\n",
    "                                                                  ascending=False).head().style.bar()"
   ]
  },
  {
   "cell_type": "markdown",
   "metadata": {},
   "source": [
    "Япония."
   ]
  },
  {
   "cell_type": "code",
   "execution_count": 77,
   "metadata": {},
   "outputs": [
    {
     "data": {
      "text/html": [
       "<style  type=\"text/css\" >\n",
       "#T_f6f581c5_1020_11ec_bcd1_acb57dd14549row0_col0{\n",
       "            width:  10em;\n",
       "             height:  80%;\n",
       "            background:  linear-gradient(90deg,#d65f5f 100.0%, transparent 100.0%);\n",
       "        }#T_f6f581c5_1020_11ec_bcd1_acb57dd14549row1_col0{\n",
       "            width:  10em;\n",
       "             height:  80%;\n",
       "            background:  linear-gradient(90deg,#d65f5f 77.4%, transparent 77.4%);\n",
       "        }#T_f6f581c5_1020_11ec_bcd1_acb57dd14549row2_col0{\n",
       "            width:  10em;\n",
       "             height:  80%;\n",
       "            background:  linear-gradient(90deg,#d65f5f 6.1%, transparent 6.1%);\n",
       "        }#T_f6f581c5_1020_11ec_bcd1_acb57dd14549row3_col0{\n",
       "            width:  10em;\n",
       "             height:  80%;\n",
       "            background:  linear-gradient(90deg,#d65f5f 1.7%, transparent 1.7%);\n",
       "        }#T_f6f581c5_1020_11ec_bcd1_acb57dd14549row4_col0{\n",
       "            width:  10em;\n",
       "             height:  80%;\n",
       "        }</style><table id=\"T_f6f581c5_1020_11ec_bcd1_acb57dd14549\" ><thead>    <tr>        <th class=\"blank level0\" ></th>        <th class=\"col_heading level0 col0\" >jp_sales</th>    </tr>    <tr>        <th class=\"index_name level0\" >genre</th>        <th class=\"blank\" ></th>    </tr></thead><tbody>\n",
       "                <tr>\n",
       "                        <th id=\"T_f6f581c5_1020_11ec_bcd1_acb57dd14549level0_row0\" class=\"row_heading level0 row0\" >Role-Playing</th>\n",
       "                        <td id=\"T_f6f581c5_1020_11ec_bcd1_acb57dd14549row0_col0\" class=\"data row0 col0\" >65.440000</td>\n",
       "            </tr>\n",
       "            <tr>\n",
       "                        <th id=\"T_f6f581c5_1020_11ec_bcd1_acb57dd14549level0_row1\" class=\"row_heading level0 row1\" >Action</th>\n",
       "                        <td id=\"T_f6f581c5_1020_11ec_bcd1_acb57dd14549row1_col0\" class=\"data row1 col0\" >52.800000</td>\n",
       "            </tr>\n",
       "            <tr>\n",
       "                        <th id=\"T_f6f581c5_1020_11ec_bcd1_acb57dd14549level0_row2\" class=\"row_heading level0 row2\" >Misc</th>\n",
       "                        <td id=\"T_f6f581c5_1020_11ec_bcd1_acb57dd14549row2_col0\" class=\"data row2 col0\" >12.860000</td>\n",
       "            </tr>\n",
       "            <tr>\n",
       "                        <th id=\"T_f6f581c5_1020_11ec_bcd1_acb57dd14549level0_row3\" class=\"row_heading level0 row3\" >Simulation</th>\n",
       "                        <td id=\"T_f6f581c5_1020_11ec_bcd1_acb57dd14549row3_col0\" class=\"data row3 col0\" >10.410000</td>\n",
       "            </tr>\n",
       "            <tr>\n",
       "                        <th id=\"T_f6f581c5_1020_11ec_bcd1_acb57dd14549level0_row4\" class=\"row_heading level0 row4\" >Fighting</th>\n",
       "                        <td id=\"T_f6f581c5_1020_11ec_bcd1_acb57dd14549row4_col0\" class=\"data row4 col0\" >9.440000</td>\n",
       "            </tr>\n",
       "    </tbody></table>"
      ],
      "text/plain": [
       "<pandas.io.formats.style.Styler at 0xd3df250>"
      ]
     },
     "execution_count": 77,
     "metadata": {},
     "output_type": "execute_result"
    }
   ],
   "source": [
    "df.pivot_table(index='genre',\n",
    "                    values='jp_sales', aggfunc='sum').sort_values(by='jp_sales',\n",
    "                                                                  ascending=False).head().style.bar()"
   ]
  },
  {
   "cell_type": "markdown",
   "metadata": {},
   "source": [
    "Вывод вышеуказанных сводных таблиц немного похож на предыдущий: продажи по жанрам в Америке и Европе практически идентичны, в то время, как в Стране Восходящего Солнца отчетливый лидер - ролевые игры и тот же экшен. Скорее всего, отображается страстная любовь японцам к жанру JRPG - тоже локального самородка. "
   ]
  },
  {
   "cell_type": "markdown",
   "metadata": {},
   "source": [
    "**Влияет ли рейтинг ESRB на продажи в отдельном регионе?**"
   ]
  },
  {
   "cell_type": "markdown",
   "metadata": {},
   "source": [
    "Напомним:\n",
    "\n",
    "- «E» («Everyone») — «Для всех»: Игра подходит для лиц от 6 лет\n",
    "- «T» («Teen») — «Подросткам»: от 13 лет\n",
    "- «M» («Mature») — «Для взрослых»: от 17 лет\n",
    "- «E10+» («Everyone 10 and older») — «Для всех от 10 лет и старше»\n",
    "- «EC» («Early childhood») — «Для детей младшего возраста»: до 3 лет\n",
    "- \"K-A\" (\"Kids to Adults\"): первоначальная версия «E»\n",
    "- «RP» («Rating Pending») — «Рейтинг ожидается». Для еще невыпущенных проектов.\n",
    "- «AO» («Adults Only 18+») — «Только для взрослых старше 18 лет»"
   ]
  },
  {
   "cell_type": "code",
   "execution_count": 78,
   "metadata": {},
   "outputs": [
    {
     "data": {
      "text/plain": [
       "M       498\n",
       "T       412\n",
       "E       395\n",
       "E10+    306\n",
       "Name: rating, dtype: int64"
      ]
     },
     "execution_count": 78,
     "metadata": {},
     "output_type": "execute_result"
    }
   ],
   "source": [
    "df.rating.value_counts()"
   ]
  },
  {
   "cell_type": "code",
   "execution_count": 80,
   "metadata": {},
   "outputs": [
    {
     "data": {
      "text/html": [
       "<div>\n",
       "<style scoped>\n",
       "    .dataframe tbody tr th:only-of-type {\n",
       "        vertical-align: middle;\n",
       "    }\n",
       "\n",
       "    .dataframe tbody tr th {\n",
       "        vertical-align: top;\n",
       "    }\n",
       "\n",
       "    .dataframe thead th {\n",
       "        text-align: right;\n",
       "    }\n",
       "</style>\n",
       "<table border=\"1\" class=\"dataframe\">\n",
       "  <thead>\n",
       "    <tr style=\"text-align: right;\">\n",
       "      <th></th>\n",
       "      <th>na_sales</th>\n",
       "      <th>eu_sales</th>\n",
       "      <th>jp_sales</th>\n",
       "    </tr>\n",
       "    <tr>\n",
       "      <th>rating</th>\n",
       "      <th></th>\n",
       "      <th></th>\n",
       "      <th></th>\n",
       "    </tr>\n",
       "  </thead>\n",
       "  <tbody>\n",
       "    <tr>\n",
       "      <th>E</th>\n",
       "      <td>114.37</td>\n",
       "      <td>113.03</td>\n",
       "      <td>28.33</td>\n",
       "    </tr>\n",
       "    <tr>\n",
       "      <th>E10+</th>\n",
       "      <td>75.70</td>\n",
       "      <td>55.37</td>\n",
       "      <td>8.19</td>\n",
       "    </tr>\n",
       "    <tr>\n",
       "      <th>M</th>\n",
       "      <td>231.57</td>\n",
       "      <td>193.96</td>\n",
       "      <td>21.20</td>\n",
       "    </tr>\n",
       "    <tr>\n",
       "      <th>T</th>\n",
       "      <td>66.02</td>\n",
       "      <td>52.96</td>\n",
       "      <td>26.02</td>\n",
       "    </tr>\n",
       "    <tr>\n",
       "      <th>no_rating</th>\n",
       "      <td>103.31</td>\n",
       "      <td>91.50</td>\n",
       "      <td>108.84</td>\n",
       "    </tr>\n",
       "  </tbody>\n",
       "</table>\n",
       "</div>"
      ],
      "text/plain": [
       "           na_sales  eu_sales  jp_sales\n",
       "rating                                 \n",
       "E            114.37    113.03     28.33\n",
       "E10+          75.70     55.37      8.19\n",
       "M            231.57    193.96     21.20\n",
       "T             66.02     52.96     26.02\n",
       "no_rating    103.31     91.50    108.84"
      ]
     },
     "execution_count": 80,
     "metadata": {},
     "output_type": "execute_result"
    }
   ],
   "source": [
    "df2 = df.copy()\n",
    "df2['rating'] = df2['rating'].fillna('no_rating')\n",
    "df2.groupby('rating')[['na_sales', 'eu_sales', 'jp_sales']].sum()"
   ]
  },
  {
   "cell_type": "code",
   "execution_count": 96,
   "metadata": {
    "scrolled": true
   },
   "outputs": [
    {
     "data": {
      "image/png": "[encoded data removed]",
      "text/plain": [
       "<Figure size 864x576 with 1 Axes>"
      ]
     },
     "metadata": {},
     "output_type": "display_data"
    }
   ],
   "source": [
    "plt.style.use('ggplot')\n",
    "ax = df2.groupby('rating')[['na_sales', 'eu_sales', 'jp_sales']].sum().plot.bar(figsize=(12,8))\n",
    "ax.grid(True)\n",
    "ax.legend(['СА', 'EC', 'Япония'])\n",
    "ax.set(ylabel='Продажи', xlabel='Рейтинг ESRB', title='Суммарные продажи игр по регионам и видам возрастного рейтинга, млн. копий')\n",
    "plt.xticks(rotation=360);"
   ]
  },
  {
   "cell_type": "markdown",
   "metadata": {},
   "source": [
    "Вывод: \n",
    "\n",
    "В СА и Европе примерно одинаковые соотношения, где лидеры продаж - игры для тех кто постарше (с рейтингом **М** и **Т**).\n",
    "\n",
    "Япония же снова выделяется - самые продаваемые игры имеют рейтинг **Е** (6+).\n",
    "\n",
    "Предпологаю, что рейтинг ESRB имеет большое влияние на японских игроков, чего нельзя сказать с уверенностью о западных."
   ]
  },
  {
   "cell_type": "markdown",
   "metadata": {},
   "source": [
    "## 5. Проверка гипотез"
   ]
  },
  {
   "cell_type": "markdown",
   "metadata": {},
   "source": [
    "### Средние пользовательские рейтинги платформ Xbox One и PC одинаковые**\n"
   ]
  },
  {
   "cell_type": "markdown",
   "metadata": {},
   "source": [
    "- **H0  — «cредние пользовательские рейтинги платформ Xbox One и PC одинаковые».**\n",
    "- **H1  — «cредние пользовательские рейтинги платформ Xbox One и PC отличаются».**\n",
    "\n",
    "Гипотеза - двухсторонняя. Уровень значимости, или альфу, возьмем равной **5%.**"
   ]
  },
  {
   "cell_type": "code",
   "execution_count": 89,
   "metadata": {},
   "outputs": [
    {
     "name": "stdout",
     "output_type": "stream",
     "text": [
      "p-значение:  0.5535080500643661\n",
      "Не получилось отвергнуть нулевую гипотезу\n"
     ]
    }
   ],
   "source": [
    "xone = df.query('platform == \"XOne\" & user_score > 0')['user_score'] \n",
    "pc = df.query('platform == \"PC\" & user_score > 0')['user_score']\n",
    "\n",
    "alpha = 0.05\n",
    "\n",
    "results = st.ttest_ind(xone, pc)  \n",
    "\n",
    "print('p-значение: ', results.pvalue) \n",
    "\n",
    "if results.pvalue < alpha:\n",
    "    print(\"Отвергаем нулевую гипотезу\")\n",
    "else:\n",
    "    print(\"Не получилось отвергнуть нулевую гипотезу\")"
   ]
  },
  {
   "cell_type": "markdown",
   "metadata": {},
   "source": [
    "**55%** - вероятность того, что пользовательские рейтинги платформ Xbox One и PC будут совпадать. **Гипотезу не получилось отвергнуть.**\n",
    "\n",
    "Посмотрим теперь на значения нашей выборки своими глазами."
   ]
  },
  {
   "cell_type": "code",
   "execution_count": 90,
   "metadata": {},
   "outputs": [
    {
     "name": "stdout",
     "output_type": "stream",
     "text": [
      "Дисперсия по оценкам игр на PC равна: 2.77\n",
      "Дисперсия по оценкам игр на Xbox One равна: 1.907\n",
      "Разница составляет: 0.312 %\n",
      "---------------------------------------------------\n",
      "Стандартное отклонение по оценкам игр на PC равна: 1.664\n",
      "Стандартное отклонение по оценкам игр на Xbox One равна: 1.381\n",
      "Разница составляет: 0.17 %\n",
      "---------------------------------------------------\n",
      "Средняя оценка игр на PC равна: 6.429\n",
      "Средняя оценка игр на Xbox One равна: 6.521\n",
      "Разница составляет: -0.014 %\n"
     ]
    },
    {
     "data": {
      "image/png": "[encoded data removed]",
      "text/plain": [
       "<Figure size 864x360 with 1 Axes>"
      ]
     },
     "metadata": {},
     "output_type": "display_data"
    }
   ],
   "source": [
    "pc.plot(kind='hist', alpha=0.5, bins=30, grid=True, figsize=(12, 5), \n",
    "    title='Пользовательские оценки по платформам', legend=True, label='PC');\n",
    "xone.plot(kind='hist', alpha=0.5, bins=30, grid=True, figsize=(12, 5), \n",
    "    title='Пользовательские оценки по платформам', legend=True, label='Xbox One');\n",
    "print('Дисперсия по оценкам игр на PC равна:', round(pc.var(), 3))\n",
    "print('Дисперсия по оценкам игр на Xbox One равна:', round(xone.var(), 3))\n",
    "print('Разница составляет:', round((pc.var()-xone.var())/pc.var(), 3), '%')\n",
    "print('---------------------------------------------------')\n",
    "print('Стандартное отклонение по оценкам игр на PC равна:', round(pc.std(), 3))\n",
    "print('Стандартное отклонение по оценкам игр на Xbox One равна:', round(xone.std(), 3))\n",
    "print('Разница составляет:', round((pc.std()-xone.std())/pc.std(), 3), '%')\n",
    "print('---------------------------------------------------')\n",
    "print('Средняя оценка игр на PC равна:', round(pc.mean(), 3))\n",
    "print('Средняя оценка игр на Xbox One равна:', round(xone.mean(), 3))\n",
    "print('Разница составляет:', round((pc.mean()-xone.mean())/pc.mean(), 3), '%')"
   ]
  },
  {
   "cell_type": "markdown",
   "metadata": {},
   "source": [
    "На графике наблюдается общая корреляция. У ПК больше низкокооцененных релизов, чем у XboxOne - это может быть следствием малого количества оставшихся данных. Однако общая средняя оценка на обоих платформах практически совпадает: **6.4** у **PC, 6.5** у **XboxOne** соотвественно."
   ]
  },
  {
   "cell_type": "markdown",
   "metadata": {},
   "source": [
    "### Средние пользовательские рейтинги жанров Action и Sports разные."
   ]
  },
  {
   "cell_type": "markdown",
   "metadata": {},
   "source": [
    "- **H0  — «cредние пользовательские рейтинги жанров Action и Sports одинаковые».**\n",
    "- **H1  — «cредние пользовательские рейтинги жанров Action и Sports отличаются».**\n",
    "\n",
    "Альфу по аналогии берем 5%."
   ]
  },
  {
   "cell_type": "code",
   "execution_count": 91,
   "metadata": {},
   "outputs": [
    {
     "name": "stdout",
     "output_type": "stream",
     "text": [
      "p-значение:  3.7163089460934874e-26\n",
      "Отвергаем нулевую гипотезу\n"
     ]
    }
   ],
   "source": [
    "action = df.query('genre == \"Action\" & user_score > 0')['user_score'] \n",
    "sports = df.query('genre == \"Sports\" & user_score > 0')['user_score']\n",
    "\n",
    "alpha = 0.05\n",
    "\n",
    "results = st.ttest_ind(action, sports)  \n",
    "\n",
    "print('p-значение: ', results.pvalue) \n",
    "\n",
    "if results.pvalue < alpha:\n",
    "    print(\"Отвергаем нулевую гипотезу\")\n",
    "else:\n",
    "    print(\"Не получилось отвергнуть нулевую гипотезу\")"
   ]
  },
  {
   "cell_type": "markdown",
   "metadata": {},
   "source": [
    "-26-ая степень! Настолько мала вероятность нулевой гипотезы, гласящая, что cредние пользовательские рейтинги жанров Action и Sports одинаковые. \n",
    "\n",
    "Значит, **с вероятностью 99.9%** можно утверждать, что задаваемая **гипотеза \"Средние пользовательские рейтинги жанров Action и Sports разные\" - верна** (при условии репрезентативности нашей выборки).\n",
    "\n",
    "Взглянем же на визуально на наши данные:"
   ]
  },
  {
   "cell_type": "code",
   "execution_count": 92,
   "metadata": {},
   "outputs": [
    {
     "name": "stdout",
     "output_type": "stream",
     "text": [
      "Дисперсия по оценкам игр в жанре Action равна: 1.889\n",
      "Дисперсия по оценкам игр в жанре Sports равна: 3.023\n",
      "Разница составляет: 0.375 %\n",
      "---------------------------------------------------\n",
      "Стандартное отклонение по оценкам игр в жанре Action равна: 1.374\n",
      "Стандартное отклонение по оценкам игр в жанре Sports равна: 1.739\n",
      "Разница составляет: 0.209 %\n",
      "---------------------------------------------------\n",
      "Средняя оценка игр в жанре Action равна: 6.825\n",
      "Средняя оценка игр в жанре Sports равна: 5.456\n",
      "Разница составляет: 0.201 %\n"
     ]
    },
    {
     "data": {
      "image/png": "[encoded data removed]",
      "text/plain": [
       "<Figure size 864x360 with 1 Axes>"
      ]
     },
     "metadata": {},
     "output_type": "display_data"
    }
   ],
   "source": [
    "action.plot(kind='hist', alpha=0.5, bins=30, grid=True, figsize=(12, 5), \n",
    "    title='Пользовательские оценки по жанрам', legend=True, label='Action');\n",
    "sports.plot(kind='hist', alpha=0.5, bins=30, grid=True, figsize=(12, 5), \n",
    "    title='Пользовательские оценки по жанрам', legend=True, label='Sports');\n",
    "print('Дисперсия по оценкам игр в жанре Action равна:', round(action.var(), 3))\n",
    "print('Дисперсия по оценкам игр в жанре Sports равна:', round(sports.var(), 3))\n",
    "print('Разница составляет:', round((sports.var()-action.var())/sports.var(), 3), '%')\n",
    "print('---------------------------------------------------')\n",
    "print('Стандартное отклонение по оценкам игр в жанре Action равна:', round(action.std(), 3))\n",
    "print('Стандартное отклонение по оценкам игр в жанре Sports равна:', round(sports.std(), 3))\n",
    "print('Разница составляет:', round((sports.std()-action.std())/sports.std(), 3), '%')\n",
    "print('---------------------------------------------------')\n",
    "print('Средняя оценка игр в жанре Action равна:', round(action.mean(), 3))\n",
    "print('Средняя оценка игр в жанре Sports равна:', round(sports.mean(), 3))\n",
    "print('Разница составляет:', round((action.mean()-sports.mean())/action.mean(), 3), '%')"
   ]
  },
  {
   "cell_type": "markdown",
   "metadata": {},
   "source": [
    "Визуально и математически разброс различается - отличия существенные, о чем так же говорит разница дисперсий на 38 %.\n",
    "Средние оценки различаются на 20 %: у жанра **action** средняя оценка - 6.825 балла, у жанра **sports** - 5.425 балла. Спортивные игры в среднем хуже по качеству в последние 5 лет :("
   ]
  },
  {
   "cell_type": "markdown",
   "metadata": {},
   "source": [
    "## 6. Вывод"
   ]
  },
  {
   "cell_type": "markdown",
   "metadata": {},
   "source": [
    "Напомню: на дворе - декабрь 2016, мы формируем рекламные кампании на грядущий новый год, на основе анализа датасета с данными по продажам и оценкам 11.5 тыс. игр.\n",
    "\n",
    "Основные пункты, которые мы имеем после анализа:\n",
    "- Резкий рост видеоигр начался с 2000 года, но значения пошли вниз после 2008 года.\n",
    "- Значения для анализа имеют данные, взятые начиная с 2012 года\n",
    "- Средняя актуальность платформы составляет 9-10 лет\n",
    "- Лишь для трех консолей в уходящем году продажи превысыли 10 млн. продаж игр - PS4, XOne, и 3DS. Их доля вместе среди всех платформ только в 2016 составила 85%. Именно на эти платформы и необходимо делать основную ставку в Америке, в Европе - еще на ПК. В Японии - на 3DS, PS4, PSV.\n",
    "- Продажи по жанрам тоже отличаются по регионам. Для Европы и Америки самые успешные игры -  прежде всего экшены, шутеры, спортивные игры. В Японии - ролевые игры и экшены.\n",
    "- При формировании рекламной кампании смысл опираться на рейтинг ESRB есть только в Японии: там преимущество берут игры с общедоступным рейтингом.\n",
    "- Гипотезу о том, что \"средние пользовательские рейтинги платформ Xbox One и PC одинаковые\" - не удалось опровергнуть.\n",
    "- Гипотеза о том, что \"средние пользовательские рейтинги жанров Action и Sports разные\" - подтвердилась с вероятностью 99.9% (при условии репрезентативности нашей выборки).\n",
    "- В целом, портреты европейских и американских игроков больше похожи друг на друга, чем на японский."
   ]
  }
 ],
 "metadata": {
  "ExecuteTimeLog": [
   {
    "duration": 1873,
    "start_time": "2021-06-17T13:14:44.243Z"
   },
   {
    "duration": 28,
    "start_time": "2021-06-17T13:14:46.118Z"
   },
   {
    "duration": 14,
    "start_time": "2021-06-17T13:14:46.149Z"
   },
   {
    "duration": 12,
    "start_time": "2021-06-17T13:14:46.166Z"
   },
   {
    "duration": 29,
    "start_time": "2021-06-17T13:14:46.181Z"
   },
   {
    "duration": 32,
    "start_time": "2021-06-17T13:14:46.213Z"
   },
   {
    "duration": 9,
    "start_time": "2021-06-17T13:14:46.247Z"
   },
   {
    "duration": 10,
    "start_time": "2021-06-17T13:14:46.260Z"
   },
   {
    "duration": 10,
    "start_time": "2021-06-17T13:14:46.274Z"
   },
   {
    "duration": 39,
    "start_time": "2021-06-17T13:14:46.287Z"
   },
   {
    "duration": 9,
    "start_time": "2021-06-17T13:14:46.329Z"
   },
   {
    "duration": 510,
    "start_time": "2021-06-17T13:14:46.341Z"
   },
   {
    "duration": 11,
    "start_time": "2021-06-17T13:14:46.854Z"
   },
   {
    "duration": 15,
    "start_time": "2021-06-17T13:14:46.868Z"
   },
   {
    "duration": 52,
    "start_time": "2021-06-17T13:14:46.886Z"
   },
   {
    "duration": 6,
    "start_time": "2021-06-17T13:14:46.941Z"
   },
   {
    "duration": 19,
    "start_time": "2021-06-17T13:14:46.950Z"
   },
   {
    "duration": 12,
    "start_time": "2021-06-17T13:14:47.028Z"
   },
   {
    "duration": 12,
    "start_time": "2021-06-17T13:14:47.043Z"
   },
   {
    "duration": 23,
    "start_time": "2021-06-17T13:14:47.058Z"
   },
   {
    "duration": 45,
    "start_time": "2021-06-17T13:14:47.083Z"
   },
   {
    "duration": 27,
    "start_time": "2021-06-17T13:14:47.131Z"
   },
   {
    "duration": 23,
    "start_time": "2021-06-17T13:14:47.164Z"
   },
   {
    "duration": 24,
    "start_time": "2021-06-17T13:14:47.191Z"
   },
   {
    "duration": 18,
    "start_time": "2021-06-17T13:14:47.218Z"
   },
   {
    "duration": 9,
    "start_time": "2021-06-17T13:14:47.239Z"
   },
   {
    "duration": 8,
    "start_time": "2021-06-17T13:14:47.251Z"
   },
   {
    "duration": 16,
    "start_time": "2021-06-17T13:14:47.262Z"
   },
   {
    "duration": 6,
    "start_time": "2021-06-17T13:14:47.280Z"
   },
   {
    "duration": 39,
    "start_time": "2021-06-17T13:14:47.288Z"
   },
   {
    "duration": 659,
    "start_time": "2021-06-17T13:14:47.331Z"
   },
   {
    "duration": 504,
    "start_time": "2021-06-17T13:14:47.992Z"
   },
   {
    "duration": 37,
    "start_time": "2021-06-17T13:14:48.499Z"
   },
   {
    "duration": 580,
    "start_time": "2021-06-17T13:14:48.539Z"
   },
   {
    "duration": 13,
    "start_time": "2021-06-17T13:14:49.121Z"
   },
   {
    "duration": 21,
    "start_time": "2021-06-17T13:14:49.138Z"
   },
   {
    "duration": 604,
    "start_time": "2021-06-17T13:14:49.162Z"
   },
   {
    "duration": 15,
    "start_time": "2021-06-17T13:14:49.768Z"
   },
   {
    "duration": 528,
    "start_time": "2021-06-17T13:14:49.785Z"
   },
   {
    "duration": 14,
    "start_time": "2021-06-17T13:14:50.315Z"
   },
   {
    "duration": 23,
    "start_time": "2021-06-17T13:14:50.333Z"
   },
   {
    "duration": 891,
    "start_time": "2021-06-17T13:14:50.358Z"
   },
   {
    "duration": 1013,
    "start_time": "2021-06-17T13:14:51.251Z"
   },
   {
    "duration": 380,
    "start_time": "2021-06-17T13:14:52.267Z"
   },
   {
    "duration": 355,
    "start_time": "2021-06-17T13:14:52.650Z"
   },
   {
    "duration": 373,
    "start_time": "2021-06-17T13:14:53.008Z"
   },
   {
    "duration": 325,
    "start_time": "2021-06-17T13:14:53.383Z"
   },
   {
    "duration": 30,
    "start_time": "2021-06-17T13:14:53.710Z"
   },
   {
    "duration": 1752,
    "start_time": "2021-06-17T13:14:53.743Z"
   },
   {
    "duration": 27,
    "start_time": "2021-06-17T13:14:55.498Z"
   },
   {
    "duration": 23,
    "start_time": "2021-06-17T13:14:55.528Z"
   },
   {
    "duration": 19,
    "start_time": "2021-06-17T13:14:55.554Z"
   },
   {
    "duration": 55,
    "start_time": "2021-06-17T13:14:55.576Z"
   },
   {
    "duration": 4645,
    "start_time": "2021-06-17T13:14:55.634Z"
   },
   {
    "duration": 668,
    "start_time": "2021-06-17T13:15:00.283Z"
   },
   {
    "duration": 37,
    "start_time": "2021-06-17T13:15:00.955Z"
   },
   {
    "duration": 61,
    "start_time": "2021-06-17T13:15:00.995Z"
   },
   {
    "duration": 28,
    "start_time": "2021-06-17T13:15:01.059Z"
   },
   {
    "duration": 60,
    "start_time": "2021-06-17T13:15:01.090Z"
   },
   {
    "duration": 26,
    "start_time": "2021-06-17T13:15:01.152Z"
   },
   {
    "duration": 59,
    "start_time": "2021-06-17T13:15:01.181Z"
   },
   {
    "duration": 13,
    "start_time": "2021-06-17T13:15:01.243Z"
   },
   {
    "duration": 31,
    "start_time": "2021-06-17T13:15:01.259Z"
   },
   {
    "duration": 24,
    "start_time": "2021-06-17T13:15:01.293Z"
   },
   {
    "duration": 49,
    "start_time": "2021-06-17T13:15:01.324Z"
   },
   {
    "duration": 6,
    "start_time": "2021-06-17T13:15:01.375Z"
   },
   {
    "duration": 68,
    "start_time": "2021-06-17T13:15:01.384Z"
   },
   {
    "duration": 6,
    "start_time": "2021-06-17T13:15:01.460Z"
   },
   {
    "duration": 45,
    "start_time": "2021-06-17T13:15:01.469Z"
   },
   {
    "duration": 25,
    "start_time": "2021-06-17T13:15:01.527Z"
   },
   {
    "duration": 695,
    "start_time": "2021-06-17T13:15:01.554Z"
   },
   {
    "duration": 22,
    "start_time": "2021-06-17T13:15:02.251Z"
   },
   {
    "duration": 670,
    "start_time": "2021-06-17T13:15:02.276Z"
   },
   {
    "duration": 930,
    "start_time": "2021-06-17T13:26:31.444Z"
   },
   {
    "duration": 838,
    "start_time": "2021-06-17T13:26:59.976Z"
   },
   {
    "duration": 453,
    "start_time": "2021-06-17T13:27:28.991Z"
   },
   {
    "duration": 434,
    "start_time": "2021-06-17T13:27:33.275Z"
   },
   {
    "duration": 29,
    "start_time": "2021-06-17T13:30:02.424Z"
   },
   {
    "duration": 21,
    "start_time": "2021-06-17T13:30:09.707Z"
   },
   {
    "duration": 17,
    "start_time": "2021-06-17T13:30:14.497Z"
   },
   {
    "duration": 442,
    "start_time": "2021-06-17T13:30:24.098Z"
   },
   {
    "duration": 394,
    "start_time": "2021-06-17T13:30:31.028Z"
   },
   {
    "duration": 416,
    "start_time": "2021-06-17T13:30:35.819Z"
   },
   {
    "duration": 8,
    "start_time": "2021-06-17T13:31:19.334Z"
   },
   {
    "duration": 14,
    "start_time": "2021-06-17T13:31:28.283Z"
   },
   {
    "duration": 339,
    "start_time": "2021-06-17T13:31:37.473Z"
   },
   {
    "duration": 341,
    "start_time": "2021-06-17T13:31:44.414Z"
   },
   {
    "duration": 15,
    "start_time": "2021-06-17T13:31:50.280Z"
   },
   {
    "duration": 18,
    "start_time": "2021-06-17T13:31:55.320Z"
   },
   {
    "duration": 286,
    "start_time": "2021-06-17T13:32:41.462Z"
   },
   {
    "duration": 14,
    "start_time": "2021-06-17T13:32:49.785Z"
   },
   {
    "duration": 11,
    "start_time": "2021-06-17T13:33:36.080Z"
   },
   {
    "duration": 13,
    "start_time": "2021-06-17T13:33:40.690Z"
   },
   {
    "duration": 11,
    "start_time": "2021-06-17T13:33:48.458Z"
   },
   {
    "duration": 388,
    "start_time": "2021-06-17T13:34:13.934Z"
   },
   {
    "duration": 396,
    "start_time": "2021-06-17T13:34:44.025Z"
   },
   {
    "duration": 33,
    "start_time": "2021-06-17T13:35:03.001Z"
   },
   {
    "duration": 35,
    "start_time": "2021-06-17T13:35:18.107Z"
   },
   {
    "duration": 336,
    "start_time": "2021-06-17T13:35:26.031Z"
   },
   {
    "duration": 341,
    "start_time": "2021-06-17T13:35:32.929Z"
   },
   {
    "duration": 37,
    "start_time": "2021-06-17T13:35:48.704Z"
   },
   {
    "duration": 43,
    "start_time": "2021-06-17T13:36:07.372Z"
   },
   {
    "duration": 527,
    "start_time": "2021-06-17T13:36:24.326Z"
   },
   {
    "duration": 633,
    "start_time": "2021-06-17T13:36:53.028Z"
   },
   {
    "duration": 620,
    "start_time": "2021-06-17T13:37:02.143Z"
   },
   {
    "duration": 11,
    "start_time": "2021-06-17T13:37:18.761Z"
   },
   {
    "duration": 561,
    "start_time": "2021-06-17T13:37:21.223Z"
   },
   {
    "duration": 11,
    "start_time": "2021-06-17T13:37:28.807Z"
   },
   {
    "duration": 578,
    "start_time": "2021-06-17T13:37:30.664Z"
   },
   {
    "duration": 10,
    "start_time": "2021-06-17T13:48:47.485Z"
   },
   {
    "duration": 24,
    "start_time": "2021-06-17T13:48:54.411Z"
   },
   {
    "duration": 1548,
    "start_time": "2021-06-17T19:49:49.882Z"
   },
   {
    "duration": 25,
    "start_time": "2021-06-17T19:49:51.434Z"
   },
   {
    "duration": 15,
    "start_time": "2021-06-17T19:49:51.462Z"
   },
   {
    "duration": 31,
    "start_time": "2021-06-17T19:49:51.479Z"
   },
   {
    "duration": 13,
    "start_time": "2021-06-17T19:49:51.512Z"
   },
   {
    "duration": 22,
    "start_time": "2021-06-17T19:49:51.528Z"
   },
   {
    "duration": 8,
    "start_time": "2021-06-17T19:49:51.552Z"
   },
   {
    "duration": 9,
    "start_time": "2021-06-17T19:49:51.603Z"
   },
   {
    "duration": 10,
    "start_time": "2021-06-17T19:49:51.616Z"
   },
   {
    "duration": 14,
    "start_time": "2021-06-17T19:49:51.629Z"
   },
   {
    "duration": 7,
    "start_time": "2021-06-17T19:49:51.645Z"
   },
   {
    "duration": 496,
    "start_time": "2021-06-17T19:49:51.654Z"
   },
   {
    "duration": 9,
    "start_time": "2021-06-17T19:49:52.152Z"
   },
   {
    "duration": 12,
    "start_time": "2021-06-17T19:49:52.164Z"
   },
   {
    "duration": 34,
    "start_time": "2021-06-17T19:49:52.178Z"
   },
   {
    "duration": 5,
    "start_time": "2021-06-17T19:49:52.214Z"
   },
   {
    "duration": 19,
    "start_time": "2021-06-17T19:49:52.221Z"
   },
   {
    "duration": 11,
    "start_time": "2021-06-17T19:49:52.242Z"
   },
   {
    "duration": 47,
    "start_time": "2021-06-17T19:49:52.255Z"
   },
   {
    "duration": 22,
    "start_time": "2021-06-17T19:49:52.304Z"
   },
   {
    "duration": 12,
    "start_time": "2021-06-17T19:49:52.328Z"
   },
   {
    "duration": 8,
    "start_time": "2021-06-17T19:49:52.342Z"
   },
   {
    "duration": 46,
    "start_time": "2021-06-17T19:49:52.354Z"
   },
   {
    "duration": 14,
    "start_time": "2021-06-17T19:49:52.404Z"
   },
   {
    "duration": 11,
    "start_time": "2021-06-17T19:49:52.421Z"
   },
   {
    "duration": 5,
    "start_time": "2021-06-17T19:49:52.435Z"
   },
   {
    "duration": 8,
    "start_time": "2021-06-17T19:49:52.443Z"
   },
   {
    "duration": 53,
    "start_time": "2021-06-17T19:49:52.453Z"
   },
   {
    "duration": 5,
    "start_time": "2021-06-17T19:49:52.509Z"
   },
   {
    "duration": 21,
    "start_time": "2021-06-17T19:49:52.517Z"
   },
   {
    "duration": 321,
    "start_time": "2021-06-17T19:49:52.541Z"
   },
   {
    "duration": 303,
    "start_time": "2021-06-17T19:49:52.865Z"
   },
   {
    "duration": 334,
    "start_time": "2021-06-17T19:50:12.194Z"
   },
   {
    "duration": 336,
    "start_time": "2021-06-17T19:50:26.398Z"
   },
   {
    "duration": 1460,
    "start_time": "2021-06-17T19:53:37.325Z"
   },
   {
    "duration": 21,
    "start_time": "2021-06-17T19:53:38.788Z"
   },
   {
    "duration": 14,
    "start_time": "2021-06-17T19:53:38.812Z"
   },
   {
    "duration": 11,
    "start_time": "2021-06-17T19:53:38.829Z"
   },
   {
    "duration": 12,
    "start_time": "2021-06-17T19:53:38.843Z"
   },
   {
    "duration": 56,
    "start_time": "2021-06-17T19:53:38.858Z"
   },
   {
    "duration": 8,
    "start_time": "2021-06-17T19:53:38.916Z"
   },
   {
    "duration": 10,
    "start_time": "2021-06-17T19:53:38.928Z"
   },
   {
    "duration": 9,
    "start_time": "2021-06-17T19:53:38.941Z"
   },
   {
    "duration": 59,
    "start_time": "2021-06-17T19:53:38.952Z"
   },
   {
    "duration": 9,
    "start_time": "2021-06-17T19:53:39.013Z"
   },
   {
    "duration": 487,
    "start_time": "2021-06-17T19:53:39.024Z"
   },
   {
    "duration": 11,
    "start_time": "2021-06-17T19:53:39.514Z"
   },
   {
    "duration": 11,
    "start_time": "2021-06-17T19:53:39.527Z"
   },
   {
    "duration": 16,
    "start_time": "2021-06-17T19:53:39.540Z"
   },
   {
    "duration": 4,
    "start_time": "2021-06-17T19:53:39.558Z"
   },
   {
    "duration": 52,
    "start_time": "2021-06-17T19:53:39.564Z"
   },
   {
    "duration": 12,
    "start_time": "2021-06-17T19:53:39.618Z"
   },
   {
    "duration": 9,
    "start_time": "2021-06-17T19:53:39.632Z"
   },
   {
    "duration": 21,
    "start_time": "2021-06-17T19:53:39.643Z"
   },
   {
    "duration": 11,
    "start_time": "2021-06-17T19:53:39.700Z"
   },
   {
    "duration": 7,
    "start_time": "2021-06-17T19:53:39.714Z"
   },
   {
    "duration": 19,
    "start_time": "2021-06-17T19:53:39.726Z"
   },
   {
    "duration": 15,
    "start_time": "2021-06-17T19:53:39.748Z"
   },
   {
    "duration": 13,
    "start_time": "2021-06-17T19:53:39.801Z"
   },
   {
    "duration": 6,
    "start_time": "2021-06-17T19:53:39.816Z"
   },
   {
    "duration": 20,
    "start_time": "2021-06-17T19:53:39.824Z"
   },
   {
    "duration": 24,
    "start_time": "2021-06-17T19:53:39.846Z"
   },
   {
    "duration": 20,
    "start_time": "2021-06-17T19:53:39.872Z"
   },
   {
    "duration": 29,
    "start_time": "2021-06-17T19:53:39.894Z"
   },
   {
    "duration": 351,
    "start_time": "2021-06-17T19:53:39.925Z"
   },
   {
    "duration": 1174,
    "start_time": "2021-06-17T19:53:40.278Z"
   },
   {
    "duration": 9312,
    "start_time": "2021-06-17T19:53:32.143Z"
   },
   {
    "duration": 323,
    "start_time": "2021-06-17T19:54:40.238Z"
   },
   {
    "duration": 91,
    "start_time": "2021-06-17T20:05:30.159Z"
   },
   {
    "duration": 1486,
    "start_time": "2021-06-17T20:07:15.397Z"
   },
   {
    "duration": 23,
    "start_time": "2021-06-17T20:07:16.886Z"
   },
   {
    "duration": 18,
    "start_time": "2021-06-17T20:07:16.912Z"
   },
   {
    "duration": 11,
    "start_time": "2021-06-17T20:07:16.933Z"
   },
   {
    "duration": 12,
    "start_time": "2021-06-17T20:07:16.947Z"
   },
   {
    "duration": 55,
    "start_time": "2021-06-17T20:07:16.961Z"
   },
   {
    "duration": 8,
    "start_time": "2021-06-17T20:07:17.018Z"
   },
   {
    "duration": 14,
    "start_time": "2021-06-17T20:07:17.030Z"
   },
   {
    "duration": 13,
    "start_time": "2021-06-17T20:07:17.046Z"
   },
   {
    "duration": 47,
    "start_time": "2021-06-17T20:07:17.061Z"
   },
   {
    "duration": 8,
    "start_time": "2021-06-17T20:07:17.111Z"
   },
   {
    "duration": 469,
    "start_time": "2021-06-17T20:07:17.122Z"
   },
   {
    "duration": 14,
    "start_time": "2021-06-17T20:07:17.594Z"
   },
   {
    "duration": 10,
    "start_time": "2021-06-17T20:07:17.610Z"
   },
   {
    "duration": 16,
    "start_time": "2021-06-17T20:07:17.623Z"
   },
   {
    "duration": 4,
    "start_time": "2021-06-17T20:07:17.642Z"
   },
   {
    "duration": 61,
    "start_time": "2021-06-17T20:07:17.648Z"
   },
   {
    "duration": 10,
    "start_time": "2021-06-17T20:07:17.711Z"
   },
   {
    "duration": 7,
    "start_time": "2021-06-17T20:07:17.724Z"
   },
   {
    "duration": 26,
    "start_time": "2021-06-17T20:07:17.733Z"
   },
   {
    "duration": 39,
    "start_time": "2021-06-17T20:07:17.761Z"
   },
   {
    "duration": 6,
    "start_time": "2021-06-17T20:07:17.802Z"
   },
   {
    "duration": 18,
    "start_time": "2021-06-17T20:07:17.812Z"
   },
   {
    "duration": 15,
    "start_time": "2021-06-17T20:07:17.833Z"
   },
   {
    "duration": 49,
    "start_time": "2021-06-17T20:07:17.851Z"
   },
   {
    "duration": 7,
    "start_time": "2021-06-17T20:07:17.902Z"
   },
   {
    "duration": 11,
    "start_time": "2021-06-17T20:07:17.911Z"
   },
   {
    "duration": 21,
    "start_time": "2021-06-17T20:07:17.924Z"
   },
   {
    "duration": 6,
    "start_time": "2021-06-17T20:07:17.948Z"
   },
   {
    "duration": 46,
    "start_time": "2021-06-17T20:07:17.956Z"
   },
   {
    "duration": 427,
    "start_time": "2021-06-17T20:07:18.005Z"
   },
   {
    "duration": 9274,
    "start_time": "2021-06-17T20:07:09.162Z"
   },
   {
    "duration": 9269,
    "start_time": "2021-06-17T20:07:09.169Z"
   },
   {
    "duration": 483,
    "start_time": "2021-06-17T20:07:44.824Z"
   },
   {
    "duration": 301,
    "start_time": "2021-06-17T20:07:45.310Z"
   },
   {
    "duration": 17,
    "start_time": "2021-06-17T20:07:45.614Z"
   },
   {
    "duration": 392,
    "start_time": "2021-06-17T20:07:45.634Z"
   },
   {
    "duration": 9,
    "start_time": "2021-06-17T20:07:46.028Z"
   },
   {
    "duration": 15,
    "start_time": "2021-06-17T20:07:46.040Z"
   },
   {
    "duration": 489,
    "start_time": "2021-06-17T20:07:46.057Z"
   },
   {
    "duration": 16,
    "start_time": "2021-06-17T20:07:46.550Z"
   },
   {
    "duration": 559,
    "start_time": "2021-06-17T20:07:46.569Z"
   },
   {
    "duration": 8,
    "start_time": "2021-06-17T20:07:47.131Z"
   },
   {
    "duration": 75,
    "start_time": "2021-06-17T20:07:47.141Z"
   },
   {
    "duration": 1037,
    "start_time": "2021-06-17T20:07:47.218Z"
   },
   {
    "duration": 11,
    "start_time": "2021-06-17T20:07:48.257Z"
   },
   {
    "duration": 536,
    "start_time": "2021-06-17T20:07:48.271Z"
   },
   {
    "duration": 887,
    "start_time": "2021-06-17T20:07:48.810Z"
   },
   {
    "duration": 312,
    "start_time": "2021-06-17T20:07:49.700Z"
   },
   {
    "duration": 326,
    "start_time": "2021-06-17T20:07:50.015Z"
   },
   {
    "duration": 334,
    "start_time": "2021-06-17T20:07:50.344Z"
   },
   {
    "duration": 297,
    "start_time": "2021-06-17T20:07:50.681Z"
   },
   {
    "duration": 25,
    "start_time": "2021-06-17T20:07:50.981Z"
   },
   {
    "duration": 1501,
    "start_time": "2021-06-17T20:07:51.009Z"
   },
   {
    "duration": 16,
    "start_time": "2021-06-17T20:07:52.513Z"
   },
   {
    "duration": 17,
    "start_time": "2021-06-17T20:07:52.535Z"
   },
   {
    "duration": 49,
    "start_time": "2021-06-17T20:07:52.555Z"
   },
   {
    "duration": 18,
    "start_time": "2021-06-17T20:07:52.607Z"
   },
   {
    "duration": 638,
    "start_time": "2021-06-17T20:07:52.628Z"
   },
   {
    "duration": 446,
    "start_time": "2021-06-17T20:07:53.270Z"
   },
   {
    "duration": 28,
    "start_time": "2021-06-17T20:07:53.719Z"
   },
   {
    "duration": 53,
    "start_time": "2021-06-17T20:07:53.749Z"
   },
   {
    "duration": 26,
    "start_time": "2021-06-17T20:07:53.805Z"
   },
   {
    "duration": 27,
    "start_time": "2021-06-17T20:07:53.834Z"
   },
   {
    "duration": 56,
    "start_time": "2021-06-17T20:07:53.864Z"
   },
   {
    "duration": 27,
    "start_time": "2021-06-17T20:07:53.923Z"
   },
   {
    "duration": 9,
    "start_time": "2021-06-17T20:07:53.953Z"
   },
   {
    "duration": 46,
    "start_time": "2021-06-17T20:07:53.965Z"
   },
   {
    "duration": 6,
    "start_time": "2021-06-17T20:07:54.014Z"
   },
   {
    "duration": 33,
    "start_time": "2021-06-17T20:07:54.022Z"
   },
   {
    "duration": 5,
    "start_time": "2021-06-17T20:07:54.058Z"
   },
   {
    "duration": 30,
    "start_time": "2021-06-17T20:07:54.101Z"
   },
   {
    "duration": 5,
    "start_time": "2021-06-17T20:07:54.134Z"
   },
   {
    "duration": 59,
    "start_time": "2021-06-17T20:07:54.141Z"
   },
   {
    "duration": 18,
    "start_time": "2021-06-17T20:07:54.202Z"
   },
   {
    "duration": 624,
    "start_time": "2021-06-17T20:07:54.223Z"
   },
   {
    "duration": 17,
    "start_time": "2021-06-17T20:07:54.850Z"
   },
   {
    "duration": 714,
    "start_time": "2021-06-17T20:07:54.870Z"
   },
   {
    "duration": 36,
    "start_time": "2021-06-17T20:08:57.866Z"
   },
   {
    "duration": 1447,
    "start_time": "2021-06-17T20:10:18.657Z"
   },
   {
    "duration": 24,
    "start_time": "2021-06-17T20:10:20.107Z"
   },
   {
    "duration": 15,
    "start_time": "2021-06-17T20:10:20.134Z"
   },
   {
    "duration": 10,
    "start_time": "2021-06-17T20:10:20.152Z"
   },
   {
    "duration": 41,
    "start_time": "2021-06-17T20:10:20.165Z"
   },
   {
    "duration": 23,
    "start_time": "2021-06-17T20:10:20.209Z"
   },
   {
    "duration": 7,
    "start_time": "2021-06-17T20:10:20.234Z"
   },
   {
    "duration": 11,
    "start_time": "2021-06-17T20:10:20.245Z"
   },
   {
    "duration": 46,
    "start_time": "2021-06-17T20:10:20.258Z"
   },
   {
    "duration": 14,
    "start_time": "2021-06-17T20:10:20.306Z"
   },
   {
    "duration": 12,
    "start_time": "2021-06-17T20:10:20.322Z"
   },
   {
    "duration": 483,
    "start_time": "2021-06-17T20:10:20.337Z"
   },
   {
    "duration": 10,
    "start_time": "2021-06-17T20:10:20.823Z"
   },
   {
    "duration": 19,
    "start_time": "2021-06-17T20:10:20.835Z"
   },
   {
    "duration": 16,
    "start_time": "2021-06-17T20:10:20.857Z"
   },
   {
    "duration": 25,
    "start_time": "2021-06-17T20:10:20.875Z"
   },
   {
    "duration": 26,
    "start_time": "2021-06-17T20:10:20.903Z"
   },
   {
    "duration": 17,
    "start_time": "2021-06-17T20:10:20.931Z"
   },
   {
    "duration": 16,
    "start_time": "2021-06-17T20:10:20.951Z"
   },
   {
    "duration": 37,
    "start_time": "2021-06-17T20:10:20.970Z"
   },
   {
    "duration": 10,
    "start_time": "2021-06-17T20:10:21.010Z"
   },
   {
    "duration": 8,
    "start_time": "2021-06-17T20:10:21.022Z"
   },
   {
    "duration": 18,
    "start_time": "2021-06-17T20:10:21.035Z"
   },
   {
    "duration": 45,
    "start_time": "2021-06-17T20:10:21.056Z"
   },
   {
    "duration": 11,
    "start_time": "2021-06-17T20:10:21.103Z"
   },
   {
    "duration": 5,
    "start_time": "2021-06-17T20:10:21.117Z"
   },
   {
    "duration": 9,
    "start_time": "2021-06-17T20:10:21.125Z"
   },
   {
    "duration": 13,
    "start_time": "2021-06-17T20:10:21.136Z"
   },
   {
    "duration": 5,
    "start_time": "2021-06-17T20:10:21.151Z"
   },
   {
    "duration": 57,
    "start_time": "2021-06-17T20:10:21.159Z"
   },
   {
    "duration": 463,
    "start_time": "2021-06-17T20:10:21.218Z"
   },
   {
    "duration": 294,
    "start_time": "2021-06-17T20:10:21.683Z"
   },
   {
    "duration": 25,
    "start_time": "2021-06-17T20:10:21.979Z"
   },
   {
    "duration": 360,
    "start_time": "2021-06-17T20:10:22.007Z"
   },
   {
    "duration": 8,
    "start_time": "2021-06-17T20:10:22.370Z"
   },
   {
    "duration": 27,
    "start_time": "2021-06-17T20:10:22.381Z"
   },
   {
    "duration": 466,
    "start_time": "2021-06-17T20:10:22.410Z"
   },
   {
    "duration": 28,
    "start_time": "2021-06-17T20:10:22.878Z"
   },
   {
    "duration": 848,
    "start_time": "2021-06-17T20:10:22.908Z"
   },
   {
    "duration": 410,
    "start_time": "2021-06-17T20:10:47.290Z"
   },
   {
    "duration": 390,
    "start_time": "2021-06-17T20:35:59.370Z"
   },
   {
    "duration": 355,
    "start_time": "2021-06-17T20:36:15.985Z"
   },
   {
    "duration": 11,
    "start_time": "2021-06-17T20:36:53.920Z"
   },
   {
    "duration": 354,
    "start_time": "2021-06-17T20:37:16.736Z"
   },
   {
    "duration": 10,
    "start_time": "2021-06-17T20:37:31.158Z"
   },
   {
    "duration": 6383,
    "start_time": "2021-06-17T20:38:06.597Z"
   },
   {
    "duration": 9305,
    "start_time": "2021-06-17T20:38:24.736Z"
   },
   {
    "duration": 267,
    "start_time": "2021-06-17T20:38:50.412Z"
   },
   {
    "duration": 6323,
    "start_time": "2021-06-17T20:39:11.709Z"
   },
   {
    "duration": 285,
    "start_time": "2021-06-17T20:40:57.627Z"
   },
   {
    "duration": 271,
    "start_time": "2021-06-17T20:41:31.208Z"
   },
   {
    "duration": 10,
    "start_time": "2021-06-17T20:44:12.343Z"
   },
   {
    "duration": 486,
    "start_time": "2021-06-17T20:44:29.684Z"
   },
   {
    "duration": 6461,
    "start_time": "2021-06-17T20:44:35.824Z"
   },
   {
    "duration": 521,
    "start_time": "2021-06-17T20:44:51.586Z"
   },
   {
    "duration": 607,
    "start_time": "2021-06-17T20:46:14.188Z"
   },
   {
    "duration": 743,
    "start_time": "2021-06-17T20:46:19.960Z"
   },
   {
    "duration": 1150,
    "start_time": "2021-06-17T20:47:10.404Z"
   },
   {
    "duration": 9,
    "start_time": "2021-06-17T20:55:31.301Z"
   },
   {
    "duration": 21,
    "start_time": "2021-06-17T20:59:32.166Z"
   },
   {
    "duration": 33,
    "start_time": "2021-06-17T21:00:02.226Z"
   },
   {
    "duration": 20,
    "start_time": "2021-06-17T21:00:23.422Z"
   },
   {
    "duration": 20,
    "start_time": "2021-06-17T21:00:39.544Z"
   },
   {
    "duration": 350,
    "start_time": "2021-06-17T21:01:00.494Z"
   },
   {
    "duration": 1466,
    "start_time": "2021-06-17T21:01:58.038Z"
   },
   {
    "duration": 24,
    "start_time": "2021-06-17T21:01:59.507Z"
   },
   {
    "duration": 16,
    "start_time": "2021-06-17T21:01:59.535Z"
   },
   {
    "duration": 13,
    "start_time": "2021-06-17T21:01:59.555Z"
   },
   {
    "duration": 14,
    "start_time": "2021-06-17T21:01:59.601Z"
   },
   {
    "duration": 22,
    "start_time": "2021-06-17T21:01:59.617Z"
   },
   {
    "duration": 6,
    "start_time": "2021-06-17T21:01:59.642Z"
   },
   {
    "duration": 56,
    "start_time": "2021-06-17T21:01:59.652Z"
   },
   {
    "duration": 10,
    "start_time": "2021-06-17T21:01:59.711Z"
   },
   {
    "duration": 12,
    "start_time": "2021-06-17T21:01:59.724Z"
   },
   {
    "duration": 7,
    "start_time": "2021-06-17T21:01:59.739Z"
   },
   {
    "duration": 783,
    "start_time": "2021-06-17T21:01:59.801Z"
   },
   {
    "duration": 15,
    "start_time": "2021-06-17T21:02:00.587Z"
   },
   {
    "duration": 14,
    "start_time": "2021-06-17T21:02:00.604Z"
   },
   {
    "duration": 16,
    "start_time": "2021-06-17T21:02:00.620Z"
   },
   {
    "duration": 12,
    "start_time": "2021-06-17T21:02:00.639Z"
   },
   {
    "duration": 26,
    "start_time": "2021-06-17T21:02:00.654Z"
   },
   {
    "duration": 27,
    "start_time": "2021-06-17T21:02:00.682Z"
   },
   {
    "duration": 20,
    "start_time": "2021-06-17T21:02:00.711Z"
   },
   {
    "duration": 29,
    "start_time": "2021-06-17T21:02:00.733Z"
   },
   {
    "duration": 9,
    "start_time": "2021-06-17T21:02:00.765Z"
   },
   {
    "duration": 25,
    "start_time": "2021-06-17T21:02:00.777Z"
   },
   {
    "duration": 19,
    "start_time": "2021-06-17T21:02:00.809Z"
   },
   {
    "duration": 21,
    "start_time": "2021-06-17T21:02:00.832Z"
   },
   {
    "duration": 15,
    "start_time": "2021-06-17T21:02:00.856Z"
   },
   {
    "duration": 30,
    "start_time": "2021-06-17T21:02:00.874Z"
   },
   {
    "duration": 11,
    "start_time": "2021-06-17T21:02:00.907Z"
   },
   {
    "duration": 17,
    "start_time": "2021-06-17T21:02:00.921Z"
   },
   {
    "duration": 6,
    "start_time": "2021-06-17T21:02:00.940Z"
   },
   {
    "duration": 31,
    "start_time": "2021-06-17T21:02:00.948Z"
   },
   {
    "duration": 471,
    "start_time": "2021-06-17T21:02:01.002Z"
   },
   {
    "duration": 292,
    "start_time": "2021-06-17T21:02:01.475Z"
   },
   {
    "duration": 31,
    "start_time": "2021-06-17T21:02:01.770Z"
   },
   {
    "duration": 376,
    "start_time": "2021-06-17T21:02:01.804Z"
   },
   {
    "duration": 18,
    "start_time": "2021-06-17T21:02:02.182Z"
   },
   {
    "duration": 15,
    "start_time": "2021-06-17T21:02:02.202Z"
   },
   {
    "duration": 469,
    "start_time": "2021-06-17T21:02:02.220Z"
   },
   {
    "duration": 23,
    "start_time": "2021-06-17T21:02:02.692Z"
   },
   {
    "duration": 500,
    "start_time": "2021-06-17T21:02:02.717Z"
   },
   {
    "duration": 1101,
    "start_time": "2021-06-17T21:02:03.220Z"
   },
   {
    "duration": 8,
    "start_time": "2021-06-17T21:02:04.323Z"
   },
   {
    "duration": 25,
    "start_time": "2021-06-17T21:02:04.334Z"
   },
   {
    "duration": 442,
    "start_time": "2021-06-17T21:02:04.400Z"
   },
   {
    "duration": 9337,
    "start_time": "2021-06-17T21:01:55.509Z"
   },
   {
    "duration": 9333,
    "start_time": "2021-06-17T21:01:55.515Z"
   },
   {
    "duration": 9316,
    "start_time": "2021-06-17T21:01:55.534Z"
   },
   {
    "duration": 9313,
    "start_time": "2021-06-17T21:01:55.540Z"
   },
   {
    "duration": 9308,
    "start_time": "2021-06-17T21:01:55.547Z"
   },
   {
    "duration": 9304,
    "start_time": "2021-06-17T21:01:55.553Z"
   },
   {
    "duration": 9301,
    "start_time": "2021-06-17T21:01:55.559Z"
   },
   {
    "duration": 9298,
    "start_time": "2021-06-17T21:01:55.564Z"
   },
   {
    "duration": 9294,
    "start_time": "2021-06-17T21:01:55.570Z"
   },
   {
    "duration": 9291,
    "start_time": "2021-06-17T21:01:55.575Z"
   },
   {
    "duration": 9289,
    "start_time": "2021-06-17T21:01:55.580Z"
   },
   {
    "duration": 9285,
    "start_time": "2021-06-17T21:01:55.586Z"
   },
   {
    "duration": 9282,
    "start_time": "2021-06-17T21:01:55.591Z"
   },
   {
    "duration": 9266,
    "start_time": "2021-06-17T21:01:55.609Z"
   },
   {
    "duration": 9263,
    "start_time": "2021-06-17T21:01:55.614Z"
   },
   {
    "duration": 9279,
    "start_time": "2021-06-17T21:01:55.620Z"
   },
   {
    "duration": 9276,
    "start_time": "2021-06-17T21:01:55.626Z"
   },
   {
    "duration": 9272,
    "start_time": "2021-06-17T21:01:55.632Z"
   },
   {
    "duration": 9268,
    "start_time": "2021-06-17T21:01:55.637Z"
   },
   {
    "duration": 9263,
    "start_time": "2021-06-17T21:01:55.643Z"
   },
   {
    "duration": 9260,
    "start_time": "2021-06-17T21:01:55.648Z"
   },
   {
    "duration": 9255,
    "start_time": "2021-06-17T21:01:55.655Z"
   },
   {
    "duration": 9251,
    "start_time": "2021-06-17T21:01:55.660Z"
   },
   {
    "duration": 9247,
    "start_time": "2021-06-17T21:01:55.665Z"
   },
   {
    "duration": 9244,
    "start_time": "2021-06-17T21:01:55.670Z"
   },
   {
    "duration": 9239,
    "start_time": "2021-06-17T21:01:55.676Z"
   },
   {
    "duration": 9235,
    "start_time": "2021-06-17T21:01:55.681Z"
   },
   {
    "duration": 9232,
    "start_time": "2021-06-17T21:01:55.686Z"
   },
   {
    "duration": 9225,
    "start_time": "2021-06-17T21:01:55.694Z"
   },
   {
    "duration": 9221,
    "start_time": "2021-06-17T21:01:55.699Z"
   },
   {
    "duration": 9217,
    "start_time": "2021-06-17T21:01:55.704Z"
   },
   {
    "duration": 9200,
    "start_time": "2021-06-17T21:01:55.723Z"
   },
   {
    "duration": 9195,
    "start_time": "2021-06-17T21:01:55.729Z"
   },
   {
    "duration": 11,
    "start_time": "2021-06-17T21:02:23.043Z"
   },
   {
    "duration": 552,
    "start_time": "2021-06-17T21:02:24.021Z"
   },
   {
    "duration": 787,
    "start_time": "2021-06-17T21:02:58.004Z"
   },
   {
    "duration": 817,
    "start_time": "2021-06-17T21:03:17.388Z"
   },
   {
    "duration": 719,
    "start_time": "2021-06-17T21:03:31.367Z"
   },
   {
    "duration": 914,
    "start_time": "2021-06-17T21:04:35.041Z"
   },
   {
    "duration": 719,
    "start_time": "2021-06-17T21:06:06.667Z"
   },
   {
    "duration": 716,
    "start_time": "2021-06-17T21:07:57.974Z"
   },
   {
    "duration": 725,
    "start_time": "2021-06-17T21:08:39.114Z"
   },
   {
    "duration": 722,
    "start_time": "2021-06-17T21:15:05.211Z"
   },
   {
    "duration": 874,
    "start_time": "2021-06-17T21:15:10.992Z"
   },
   {
    "duration": 1131,
    "start_time": "2021-06-17T21:15:22.378Z"
   },
   {
    "duration": 712,
    "start_time": "2021-06-17T21:15:36.671Z"
   },
   {
    "duration": 1001,
    "start_time": "2021-06-17T21:21:19.346Z"
   },
   {
    "duration": 84,
    "start_time": "2021-06-17T21:22:02.686Z"
   },
   {
    "duration": 740,
    "start_time": "2021-06-17T21:22:12.719Z"
   },
   {
    "duration": 773,
    "start_time": "2021-06-17T21:22:16.620Z"
   },
   {
    "duration": 736,
    "start_time": "2021-06-17T21:22:23.716Z"
   },
   {
    "duration": 738,
    "start_time": "2021-06-17T21:24:35.758Z"
   },
   {
    "duration": 717,
    "start_time": "2021-06-17T21:25:33.222Z"
   },
   {
    "duration": 823,
    "start_time": "2021-06-17T21:25:41.360Z"
   },
   {
    "duration": 724,
    "start_time": "2021-06-17T21:26:51.233Z"
   },
   {
    "duration": 718,
    "start_time": "2021-06-17T21:28:19.056Z"
   },
   {
    "duration": 728,
    "start_time": "2021-06-17T21:28:39.680Z"
   },
   {
    "duration": 736,
    "start_time": "2021-06-17T21:29:23.561Z"
   },
   {
    "duration": 725,
    "start_time": "2021-06-17T21:29:29.270Z"
   },
   {
    "duration": 34,
    "start_time": "2021-06-17T21:39:20.967Z"
   },
   {
    "duration": 30,
    "start_time": "2021-06-17T21:39:36.624Z"
   },
   {
    "duration": 385,
    "start_time": "2021-06-17T21:44:33.344Z"
   },
   {
    "duration": 303,
    "start_time": "2021-06-17T21:44:33.947Z"
   },
   {
    "duration": 300,
    "start_time": "2021-06-17T21:44:34.674Z"
   },
   {
    "duration": 280,
    "start_time": "2021-06-17T21:44:35.141Z"
   },
   {
    "duration": 17,
    "start_time": "2021-06-17T21:44:36.211Z"
   },
   {
    "duration": 1338,
    "start_time": "2021-06-17T21:44:36.473Z"
   },
   {
    "duration": 16,
    "start_time": "2021-06-17T21:44:37.814Z"
   },
   {
    "duration": 24,
    "start_time": "2021-06-17T21:44:37.833Z"
   },
   {
    "duration": 16,
    "start_time": "2021-06-17T21:44:37.936Z"
   },
   {
    "duration": 16,
    "start_time": "2021-06-17T21:44:38.203Z"
   },
   {
    "duration": 1150,
    "start_time": "2021-06-17T21:44:42.002Z"
   },
   {
    "duration": 441,
    "start_time": "2021-06-17T21:44:43.840Z"
   },
   {
    "duration": 43,
    "start_time": "2021-06-17T21:45:20.907Z"
   },
   {
    "duration": 561,
    "start_time": "2021-06-17T21:45:36.172Z"
   },
   {
    "duration": 428,
    "start_time": "2021-06-17T21:45:43.298Z"
   },
   {
    "duration": 84,
    "start_time": "2021-06-17T21:49:16.700Z"
   },
   {
    "duration": 90,
    "start_time": "2021-06-17T21:50:32.315Z"
   },
   {
    "duration": 29,
    "start_time": "2021-06-17T21:50:45.755Z"
   },
   {
    "duration": 27,
    "start_time": "2021-06-17T21:55:07.000Z"
   },
   {
    "duration": 26,
    "start_time": "2021-06-17T21:55:07.466Z"
   },
   {
    "duration": 28,
    "start_time": "2021-06-17T21:55:08.052Z"
   },
   {
    "duration": 27,
    "start_time": "2021-06-17T21:55:14.921Z"
   },
   {
    "duration": 26,
    "start_time": "2021-06-17T21:55:15.448Z"
   },
   {
    "duration": 26,
    "start_time": "2021-06-17T21:55:16.560Z"
   },
   {
    "duration": 9,
    "start_time": "2021-06-17T21:55:29.145Z"
   },
   {
    "duration": 11,
    "start_time": "2021-06-17T21:55:29.674Z"
   },
   {
    "duration": 6,
    "start_time": "2021-06-17T22:06:37.269Z"
   },
   {
    "duration": 30,
    "start_time": "2021-06-17T22:06:37.649Z"
   },
   {
    "duration": 8,
    "start_time": "2021-06-17T22:06:38.434Z"
   },
   {
    "duration": 30,
    "start_time": "2021-06-17T22:06:38.867Z"
   },
   {
    "duration": 7,
    "start_time": "2021-06-17T22:06:39.750Z"
   },
   {
    "duration": 31,
    "start_time": "2021-06-17T22:06:40.195Z"
   },
   {
    "duration": 17,
    "start_time": "2021-06-17T22:06:43.433Z"
   },
   {
    "duration": 653,
    "start_time": "2021-06-17T22:09:42.278Z"
   },
   {
    "duration": 17,
    "start_time": "2021-06-17T22:09:53.257Z"
   },
   {
    "duration": 582,
    "start_time": "2021-06-17T22:09:55.581Z"
   },
   {
    "duration": 92,
    "start_time": "2021-06-17T22:10:18.623Z"
   },
   {
    "duration": 17,
    "start_time": "2021-06-17T22:10:41.231Z"
   },
   {
    "duration": 604,
    "start_time": "2021-06-17T22:10:48.049Z"
   },
   {
    "duration": 85,
    "start_time": "2021-06-17T22:18:28.716Z"
   },
   {
    "duration": 7,
    "start_time": "2021-06-17T22:19:11.437Z"
   },
   {
    "duration": 6,
    "start_time": "2021-06-17T22:19:35.854Z"
   },
   {
    "duration": 218,
    "start_time": "2021-06-17T22:30:16.578Z"
   },
   {
    "duration": 325,
    "start_time": "2021-06-17T22:30:32.115Z"
   },
   {
    "duration": 659,
    "start_time": "2021-06-17T22:31:23.861Z"
   },
   {
    "duration": 382,
    "start_time": "2021-06-17T22:32:08.276Z"
   },
   {
    "duration": 441,
    "start_time": "2021-06-17T22:32:19.265Z"
   },
   {
    "duration": 330,
    "start_time": "2021-06-17T22:33:58.963Z"
   },
   {
    "duration": 332,
    "start_time": "2021-06-17T22:34:32.409Z"
   },
   {
    "duration": 320,
    "start_time": "2021-06-17T22:34:40.852Z"
   },
   {
    "duration": 7022,
    "start_time": "2021-06-17T22:41:00.323Z"
   },
   {
    "duration": 37,
    "start_time": "2021-06-17T22:42:07.268Z"
   },
   {
    "duration": 12,
    "start_time": "2021-06-17T22:42:29.025Z"
   },
   {
    "duration": 12,
    "start_time": "2021-06-17T22:42:39.609Z"
   },
   {
    "duration": 1459,
    "start_time": "2021-06-17T22:43:21.632Z"
   },
   {
    "duration": 21,
    "start_time": "2021-06-17T22:43:23.094Z"
   },
   {
    "duration": 17,
    "start_time": "2021-06-17T22:43:23.118Z"
   },
   {
    "duration": 10,
    "start_time": "2021-06-17T22:43:23.138Z"
   },
   {
    "duration": 14,
    "start_time": "2021-06-17T22:43:23.151Z"
   },
   {
    "duration": 50,
    "start_time": "2021-06-17T22:43:23.168Z"
   },
   {
    "duration": 8,
    "start_time": "2021-06-17T22:43:23.220Z"
   },
   {
    "duration": 9,
    "start_time": "2021-06-17T22:43:23.232Z"
   },
   {
    "duration": 8,
    "start_time": "2021-06-17T22:43:23.244Z"
   },
   {
    "duration": 54,
    "start_time": "2021-06-17T22:43:23.255Z"
   },
   {
    "duration": 7,
    "start_time": "2021-06-17T22:43:23.312Z"
   },
   {
    "duration": 492,
    "start_time": "2021-06-17T22:43:23.321Z"
   },
   {
    "duration": 9,
    "start_time": "2021-06-17T22:43:23.816Z"
   },
   {
    "duration": 11,
    "start_time": "2021-06-17T22:43:23.827Z"
   },
   {
    "duration": 70,
    "start_time": "2021-06-17T22:43:23.840Z"
   },
   {
    "duration": 4,
    "start_time": "2021-06-17T22:43:23.913Z"
   },
   {
    "duration": 18,
    "start_time": "2021-06-17T22:43:23.919Z"
   },
   {
    "duration": 9,
    "start_time": "2021-06-17T22:43:23.939Z"
   },
   {
    "duration": 8,
    "start_time": "2021-06-17T22:43:24.001Z"
   },
   {
    "duration": 25,
    "start_time": "2021-06-17T22:43:24.011Z"
   },
   {
    "duration": 61,
    "start_time": "2021-06-17T22:43:24.039Z"
   },
   {
    "duration": 6,
    "start_time": "2021-06-17T22:43:24.103Z"
   },
   {
    "duration": 18,
    "start_time": "2021-06-17T22:43:24.115Z"
   },
   {
    "duration": 65,
    "start_time": "2021-06-17T22:43:24.137Z"
   },
   {
    "duration": 11,
    "start_time": "2021-06-17T22:43:24.204Z"
   },
   {
    "duration": 6,
    "start_time": "2021-06-17T22:43:24.217Z"
   },
   {
    "duration": 8,
    "start_time": "2021-06-17T22:43:24.225Z"
   },
   {
    "duration": 72,
    "start_time": "2021-06-17T22:43:24.236Z"
   },
   {
    "duration": 5,
    "start_time": "2021-06-17T22:43:24.310Z"
   },
   {
    "duration": 23,
    "start_time": "2021-06-17T22:43:24.318Z"
   },
   {
    "duration": 67,
    "start_time": "2021-06-17T22:43:24.344Z"
   },
   {
    "duration": 12,
    "start_time": "2021-06-17T22:43:24.413Z"
   },
   {
    "duration": 634,
    "start_time": "2021-06-17T22:43:24.428Z"
   },
   {
    "duration": 291,
    "start_time": "2021-06-17T22:43:25.064Z"
   },
   {
    "duration": 17,
    "start_time": "2021-06-17T22:43:25.357Z"
   },
   {
    "duration": 397,
    "start_time": "2021-06-17T22:43:25.376Z"
   },
   {
    "duration": 24,
    "start_time": "2021-06-17T22:43:25.776Z"
   },
   {
    "duration": 15,
    "start_time": "2021-06-17T22:43:25.803Z"
   },
   {
    "duration": 474,
    "start_time": "2021-06-17T22:43:25.820Z"
   },
   {
    "duration": 16,
    "start_time": "2021-06-17T22:43:26.301Z"
   },
   {
    "duration": 503,
    "start_time": "2021-06-17T22:43:26.320Z"
   },
   {
    "duration": 877,
    "start_time": "2021-06-17T22:43:26.827Z"
   },
   {
    "duration": 10,
    "start_time": "2021-06-17T22:43:27.707Z"
   },
   {
    "duration": 22,
    "start_time": "2021-06-17T22:43:27.719Z"
   },
   {
    "duration": 773,
    "start_time": "2021-06-17T22:43:27.744Z"
   },
   {
    "duration": 14,
    "start_time": "2021-06-17T22:43:28.520Z"
   },
   {
    "duration": 607,
    "start_time": "2021-06-17T22:43:28.537Z"
   },
   {
    "duration": 757,
    "start_time": "2021-06-17T22:43:29.147Z"
   },
   {
    "duration": 765,
    "start_time": "2021-06-17T22:43:29.908Z"
   },
   {
    "duration": 37,
    "start_time": "2021-06-17T22:43:30.677Z"
   },
   {
    "duration": 322,
    "start_time": "2021-06-17T22:43:30.717Z"
   },
   {
    "duration": 423,
    "start_time": "2021-06-17T22:43:31.042Z"
   },
   {
    "duration": 335,
    "start_time": "2021-06-17T22:43:31.468Z"
   },
   {
    "duration": 297,
    "start_time": "2021-06-17T22:43:31.806Z"
   },
   {
    "duration": 18,
    "start_time": "2021-06-17T22:43:32.107Z"
   },
   {
    "duration": 1458,
    "start_time": "2021-06-17T22:43:32.129Z"
   },
   {
    "duration": 24,
    "start_time": "2021-06-17T22:43:33.590Z"
   },
   {
    "duration": 18,
    "start_time": "2021-06-17T22:43:33.617Z"
   },
   {
    "duration": 15,
    "start_time": "2021-06-17T22:43:33.637Z"
   },
   {
    "duration": 55,
    "start_time": "2021-06-17T22:43:33.655Z"
   },
   {
    "duration": 602,
    "start_time": "2021-06-17T22:43:33.713Z"
   },
   {
    "duration": 446,
    "start_time": "2021-06-17T22:43:34.319Z"
   },
   {
    "duration": 49,
    "start_time": "2021-06-17T22:43:34.769Z"
   },
   {
    "duration": 547,
    "start_time": "2021-06-17T22:43:34.821Z"
   },
   {
    "duration": 39,
    "start_time": "2021-06-17T22:43:35.370Z"
   },
   {
    "duration": 26,
    "start_time": "2021-06-17T22:43:35.411Z"
   },
   {
    "duration": 26,
    "start_time": "2021-06-17T22:43:35.439Z"
   },
   {
    "duration": 25,
    "start_time": "2021-06-17T22:43:35.501Z"
   },
   {
    "duration": 25,
    "start_time": "2021-06-17T22:43:35.529Z"
   },
   {
    "duration": 53,
    "start_time": "2021-06-17T22:43:35.556Z"
   },
   {
    "duration": 12,
    "start_time": "2021-06-17T22:43:35.612Z"
   },
   {
    "duration": 15,
    "start_time": "2021-06-17T22:43:35.626Z"
   },
   {
    "duration": 343,
    "start_time": "2021-06-17T22:43:35.644Z"
   },
   {
    "duration": 15,
    "start_time": "2021-06-17T22:43:35.989Z"
   },
   {
    "duration": 35,
    "start_time": "2021-06-17T22:43:36.006Z"
   },
   {
    "duration": 5,
    "start_time": "2021-06-17T22:43:36.044Z"
   },
   {
    "duration": 53,
    "start_time": "2021-06-17T22:43:36.052Z"
   },
   {
    "duration": 6,
    "start_time": "2021-06-17T22:43:36.108Z"
   },
   {
    "duration": 42,
    "start_time": "2021-06-17T22:43:36.116Z"
   },
   {
    "duration": 16,
    "start_time": "2021-06-17T22:43:36.161Z"
   },
   {
    "duration": 656,
    "start_time": "2021-06-17T22:43:36.179Z"
   },
   {
    "duration": 19,
    "start_time": "2021-06-17T22:43:36.838Z"
   },
   {
    "duration": 637,
    "start_time": "2021-06-17T22:43:36.859Z"
   },
   {
    "duration": 38,
    "start_time": "2021-06-17T22:43:59.074Z"
   },
   {
    "duration": 14,
    "start_time": "2021-06-17T22:44:47.170Z"
   },
   {
    "duration": 1733,
    "start_time": "2021-06-18T11:07:18.484Z"
   },
   {
    "duration": 23,
    "start_time": "2021-06-18T11:07:20.220Z"
   },
   {
    "duration": 17,
    "start_time": "2021-06-18T11:07:20.245Z"
   },
   {
    "duration": 30,
    "start_time": "2021-06-18T11:07:20.265Z"
   },
   {
    "duration": 14,
    "start_time": "2021-06-18T11:07:20.298Z"
   },
   {
    "duration": 22,
    "start_time": "2021-06-18T11:07:20.315Z"
   },
   {
    "duration": 7,
    "start_time": "2021-06-18T11:07:20.340Z"
   },
   {
    "duration": 10,
    "start_time": "2021-06-18T11:07:20.387Z"
   },
   {
    "duration": 10,
    "start_time": "2021-06-18T11:07:20.401Z"
   },
   {
    "duration": 14,
    "start_time": "2021-06-18T11:07:20.414Z"
   },
   {
    "duration": 8,
    "start_time": "2021-06-18T11:07:20.431Z"
   },
   {
    "duration": 532,
    "start_time": "2021-06-18T11:07:20.442Z"
   },
   {
    "duration": 15,
    "start_time": "2021-06-18T11:07:20.976Z"
   },
   {
    "duration": 11,
    "start_time": "2021-06-18T11:07:20.994Z"
   },
   {
    "duration": 16,
    "start_time": "2021-06-18T11:07:21.008Z"
   },
   {
    "duration": 5,
    "start_time": "2021-06-18T11:07:21.027Z"
   },
   {
    "duration": 64,
    "start_time": "2021-06-18T11:07:21.035Z"
   },
   {
    "duration": 11,
    "start_time": "2021-06-18T11:07:21.101Z"
   },
   {
    "duration": 10,
    "start_time": "2021-06-18T11:07:21.114Z"
   },
   {
    "duration": 30,
    "start_time": "2021-06-18T11:07:21.127Z"
   },
   {
    "duration": 10,
    "start_time": "2021-06-18T11:07:21.185Z"
   },
   {
    "duration": 5,
    "start_time": "2021-06-18T11:07:21.198Z"
   },
   {
    "duration": 19,
    "start_time": "2021-06-18T11:07:21.210Z"
   },
   {
    "duration": 16,
    "start_time": "2021-06-18T11:07:21.233Z"
   },
   {
    "duration": 46,
    "start_time": "2021-06-18T11:07:21.251Z"
   },
   {
    "duration": 7,
    "start_time": "2021-06-18T11:07:21.300Z"
   },
   {
    "duration": 15,
    "start_time": "2021-06-18T11:07:21.309Z"
   },
   {
    "duration": 15,
    "start_time": "2021-06-18T11:07:21.327Z"
   },
   {
    "duration": 5,
    "start_time": "2021-06-18T11:07:21.345Z"
   },
   {
    "duration": 21,
    "start_time": "2021-06-18T11:07:21.385Z"
   },
   {
    "duration": 17,
    "start_time": "2021-06-18T11:07:21.409Z"
   },
   {
    "duration": 14,
    "start_time": "2021-06-18T11:07:21.428Z"
   },
   {
    "duration": 22,
    "start_time": "2021-06-18T11:07:21.485Z"
   },
   {
    "duration": 533,
    "start_time": "2021-06-18T11:07:21.509Z"
   },
   {
    "duration": 312,
    "start_time": "2021-06-18T11:07:22.044Z"
   },
   {
    "duration": 29,
    "start_time": "2021-06-18T11:07:22.359Z"
   },
   {
    "duration": 387,
    "start_time": "2021-06-18T11:07:22.390Z"
   },
   {
    "duration": 13,
    "start_time": "2021-06-18T11:07:22.780Z"
   },
   {
    "duration": 14,
    "start_time": "2021-06-18T11:07:22.796Z"
   },
   {
    "duration": 488,
    "start_time": "2021-06-18T11:07:22.813Z"
   },
   {
    "duration": 17,
    "start_time": "2021-06-18T11:07:23.305Z"
   },
   {
    "duration": 525,
    "start_time": "2021-06-18T11:07:23.324Z"
   },
   {
    "duration": 794,
    "start_time": "2021-06-18T11:07:23.851Z"
   },
   {
    "duration": 8,
    "start_time": "2021-06-18T11:07:24.648Z"
   },
   {
    "duration": 40,
    "start_time": "2021-06-18T11:07:24.658Z"
   },
   {
    "duration": 766,
    "start_time": "2021-06-18T11:07:24.701Z"
   },
   {
    "duration": 21,
    "start_time": "2021-06-18T11:07:25.470Z"
   },
   {
    "duration": 604,
    "start_time": "2021-06-18T11:07:25.494Z"
   },
   {
    "duration": 787,
    "start_time": "2021-06-18T11:07:26.100Z"
   },
   {
    "duration": 779,
    "start_time": "2021-06-18T11:07:26.890Z"
   },
   {
    "duration": 29,
    "start_time": "2021-06-18T11:07:27.671Z"
   },
   {
    "duration": 335,
    "start_time": "2021-06-18T11:07:27.703Z"
   },
   {
    "duration": 412,
    "start_time": "2021-06-18T11:07:28.040Z"
   },
   {
    "duration": 335,
    "start_time": "2021-06-18T11:07:28.455Z"
   },
   {
    "duration": 309,
    "start_time": "2021-06-18T11:07:28.793Z"
   },
   {
    "duration": 16,
    "start_time": "2021-06-18T11:07:29.104Z"
   },
   {
    "duration": 1474,
    "start_time": "2021-06-18T11:07:29.122Z"
   },
   {
    "duration": 18,
    "start_time": "2021-06-18T11:07:30.598Z"
   },
   {
    "duration": 25,
    "start_time": "2021-06-18T11:07:30.618Z"
   },
   {
    "duration": 41,
    "start_time": "2021-06-18T11:07:30.646Z"
   },
   {
    "duration": 33,
    "start_time": "2021-06-18T11:07:30.690Z"
   },
   {
    "duration": 8289,
    "start_time": "2021-06-18T11:07:30.726Z"
   },
   {
    "duration": 469,
    "start_time": "2021-06-18T11:07:39.019Z"
   },
   {
    "duration": 33,
    "start_time": "2021-06-18T11:07:39.491Z"
   },
   {
    "duration": 586,
    "start_time": "2021-06-18T11:07:39.527Z"
   },
   {
    "duration": 30,
    "start_time": "2021-06-18T11:07:40.116Z"
   },
   {
    "duration": 56,
    "start_time": "2021-06-18T11:07:40.149Z"
   },
   {
    "duration": 28,
    "start_time": "2021-06-18T11:07:40.215Z"
   },
   {
    "duration": 54,
    "start_time": "2021-06-18T11:07:40.246Z"
   },
   {
    "duration": 27,
    "start_time": "2021-06-18T11:07:40.303Z"
   },
   {
    "duration": 61,
    "start_time": "2021-06-18T11:07:40.333Z"
   },
   {
    "duration": 31,
    "start_time": "2021-06-18T11:07:40.398Z"
   },
   {
    "duration": 25,
    "start_time": "2021-06-18T11:07:40.431Z"
   },
   {
    "duration": 466,
    "start_time": "2021-06-18T11:10:05.544Z"
   },
   {
    "duration": 361,
    "start_time": "2021-06-18T11:10:16.680Z"
   },
   {
    "duration": 26,
    "start_time": "2021-06-18T11:10:25.427Z"
   },
   {
    "duration": 325,
    "start_time": "2021-06-18T11:11:21.247Z"
   },
   {
    "duration": 250,
    "start_time": "2021-06-18T11:11:30.723Z"
   },
   {
    "duration": 14,
    "start_time": "2021-06-18T11:11:35.102Z"
   },
   {
    "duration": 308,
    "start_time": "2021-06-18T11:12:34.540Z"
   },
   {
    "duration": 70,
    "start_time": "2021-06-18T11:12:43.301Z"
   },
   {
    "duration": 7,
    "start_time": "2021-06-18T11:13:33.433Z"
   },
   {
    "duration": 8,
    "start_time": "2021-06-18T11:13:44.404Z"
   },
   {
    "duration": 16,
    "start_time": "2021-06-18T11:13:47.963Z"
   },
   {
    "duration": 16,
    "start_time": "2021-06-18T11:14:04.541Z"
   },
   {
    "duration": 16,
    "start_time": "2021-06-18T11:14:08.094Z"
   },
   {
    "duration": 19,
    "start_time": "2021-06-18T11:14:17.370Z"
   },
   {
    "duration": 320,
    "start_time": "2021-06-18T11:14:23.576Z"
   },
   {
    "duration": 552,
    "start_time": "2021-06-18T11:15:08.214Z"
   },
   {
    "duration": 406,
    "start_time": "2021-06-18T11:15:26.869Z"
   },
   {
    "duration": 421,
    "start_time": "2021-06-18T11:15:40.854Z"
   },
   {
    "duration": 118,
    "start_time": "2021-06-18T11:16:08.370Z"
   },
   {
    "duration": 471,
    "start_time": "2021-06-18T11:16:10.573Z"
   },
   {
    "duration": 450,
    "start_time": "2021-06-18T11:16:53.091Z"
   },
   {
    "duration": 963,
    "start_time": "2021-06-18T11:17:31.311Z"
   },
   {
    "duration": 1016,
    "start_time": "2021-06-18T11:19:59.634Z"
   },
   {
    "duration": 439,
    "start_time": "2021-06-18T11:20:21.205Z"
   },
   {
    "duration": 804,
    "start_time": "2021-06-18T11:22:44.222Z"
   },
   {
    "duration": 780,
    "start_time": "2021-06-18T11:22:52.280Z"
   },
   {
    "duration": 746,
    "start_time": "2021-06-18T11:23:06.134Z"
   },
   {
    "duration": 708,
    "start_time": "2021-06-18T11:24:28.913Z"
   },
   {
    "duration": 977,
    "start_time": "2021-06-18T11:24:36.794Z"
   },
   {
    "duration": 817,
    "start_time": "2021-06-18T11:25:44.029Z"
   },
   {
    "duration": 421,
    "start_time": "2021-06-18T11:25:48.732Z"
   },
   {
    "duration": 708,
    "start_time": "2021-06-18T11:25:57.146Z"
   },
   {
    "duration": 703,
    "start_time": "2021-06-18T11:26:06.467Z"
   },
   {
    "duration": 671,
    "start_time": "2021-06-18T11:26:41.591Z"
   },
   {
    "duration": 692,
    "start_time": "2021-06-18T11:26:49.470Z"
   },
   {
    "duration": 438,
    "start_time": "2021-06-18T11:26:57.712Z"
   },
   {
    "duration": 575,
    "start_time": "2021-06-18T11:27:08.187Z"
   },
   {
    "duration": 641,
    "start_time": "2021-06-18T11:27:36.922Z"
   },
   {
    "duration": 669,
    "start_time": "2021-06-18T11:27:45.322Z"
   },
   {
    "duration": 428,
    "start_time": "2021-06-18T11:28:21.666Z"
   },
   {
    "duration": 417,
    "start_time": "2021-06-18T11:28:31.460Z"
   },
   {
    "duration": 1618,
    "start_time": "2021-06-18T11:28:58.647Z"
   },
   {
    "duration": 23,
    "start_time": "2021-06-18T11:29:00.268Z"
   },
   {
    "duration": 25,
    "start_time": "2021-06-18T11:29:00.294Z"
   },
   {
    "duration": 14,
    "start_time": "2021-06-18T11:29:00.322Z"
   },
   {
    "duration": 18,
    "start_time": "2021-06-18T11:29:00.339Z"
   },
   {
    "duration": 46,
    "start_time": "2021-06-18T11:29:00.359Z"
   },
   {
    "duration": 8,
    "start_time": "2021-06-18T11:29:00.407Z"
   },
   {
    "duration": 15,
    "start_time": "2021-06-18T11:29:00.418Z"
   },
   {
    "duration": 14,
    "start_time": "2021-06-18T11:29:00.436Z"
   },
   {
    "duration": 42,
    "start_time": "2021-06-18T11:29:00.452Z"
   },
   {
    "duration": 16,
    "start_time": "2021-06-18T11:29:00.496Z"
   },
   {
    "duration": 492,
    "start_time": "2021-06-18T11:29:00.515Z"
   },
   {
    "duration": 10,
    "start_time": "2021-06-18T11:29:01.009Z"
   },
   {
    "duration": 21,
    "start_time": "2021-06-18T11:29:01.022Z"
   },
   {
    "duration": 29,
    "start_time": "2021-06-18T11:29:01.045Z"
   },
   {
    "duration": 10,
    "start_time": "2021-06-18T11:29:01.077Z"
   },
   {
    "duration": 29,
    "start_time": "2021-06-18T11:29:01.089Z"
   },
   {
    "duration": 40,
    "start_time": "2021-06-18T11:29:01.120Z"
   },
   {
    "duration": 38,
    "start_time": "2021-06-18T11:29:01.163Z"
   },
   {
    "duration": 39,
    "start_time": "2021-06-18T11:29:01.204Z"
   },
   {
    "duration": 10,
    "start_time": "2021-06-18T11:29:01.246Z"
   },
   {
    "duration": 27,
    "start_time": "2021-06-18T11:29:01.258Z"
   },
   {
    "duration": 55,
    "start_time": "2021-06-18T11:29:01.291Z"
   },
   {
    "duration": 62,
    "start_time": "2021-06-18T11:29:01.350Z"
   },
   {
    "duration": 30,
    "start_time": "2021-06-18T11:29:01.414Z"
   },
   {
    "duration": 68,
    "start_time": "2021-06-18T11:29:01.446Z"
   },
   {
    "duration": 32,
    "start_time": "2021-06-18T11:29:01.516Z"
   },
   {
    "duration": 59,
    "start_time": "2021-06-18T11:29:01.550Z"
   },
   {
    "duration": 40,
    "start_time": "2021-06-18T11:29:01.612Z"
   },
   {
    "duration": 60,
    "start_time": "2021-06-18T11:29:01.655Z"
   },
   {
    "duration": 52,
    "start_time": "2021-06-18T11:29:01.717Z"
   },
   {
    "duration": 43,
    "start_time": "2021-06-18T11:29:01.772Z"
   },
   {
    "duration": 44,
    "start_time": "2021-06-18T11:29:01.818Z"
   },
   {
    "duration": 471,
    "start_time": "2021-06-18T11:29:01.864Z"
   },
   {
    "duration": 310,
    "start_time": "2021-06-18T11:29:02.338Z"
   },
   {
    "duration": 34,
    "start_time": "2021-06-18T11:29:02.651Z"
   },
   {
    "duration": 389,
    "start_time": "2021-06-18T11:29:02.688Z"
   },
   {
    "duration": 14,
    "start_time": "2021-06-18T11:29:03.080Z"
   },
   {
    "duration": 27,
    "start_time": "2021-06-18T11:29:03.096Z"
   },
   {
    "duration": 500,
    "start_time": "2021-06-18T11:29:03.125Z"
   },
   {
    "duration": 21,
    "start_time": "2021-06-18T11:29:03.628Z"
   },
   {
    "duration": 536,
    "start_time": "2021-06-18T11:29:03.652Z"
   },
   {
    "duration": 812,
    "start_time": "2021-06-18T11:29:04.191Z"
   },
   {
    "duration": 8,
    "start_time": "2021-06-18T11:29:05.005Z"
   },
   {
    "duration": 36,
    "start_time": "2021-06-18T11:29:05.015Z"
   },
   {
    "duration": 766,
    "start_time": "2021-06-18T11:29:05.054Z"
   },
   {
    "duration": 14,
    "start_time": "2021-06-18T11:29:05.823Z"
   },
   {
    "duration": 616,
    "start_time": "2021-06-18T11:29:05.839Z"
   },
   {
    "duration": 786,
    "start_time": "2021-06-18T11:29:06.457Z"
   },
   {
    "duration": 1466,
    "start_time": "2021-06-18T11:29:07.245Z"
   },
   {
    "duration": 26,
    "start_time": "2021-06-18T11:29:08.714Z"
   },
   {
    "duration": 358,
    "start_time": "2021-06-18T11:29:08.743Z"
   },
   {
    "duration": 531,
    "start_time": "2021-06-18T11:29:09.105Z"
   },
   {
    "duration": 346,
    "start_time": "2021-06-18T11:29:09.639Z"
   },
   {
    "duration": 318,
    "start_time": "2021-06-18T11:29:09.987Z"
   },
   {
    "duration": 18,
    "start_time": "2021-06-18T11:29:10.308Z"
   },
   {
    "duration": 1474,
    "start_time": "2021-06-18T11:29:10.329Z"
   },
   {
    "duration": 18,
    "start_time": "2021-06-18T11:29:11.806Z"
   },
   {
    "duration": 18,
    "start_time": "2021-06-18T11:29:11.827Z"
   },
   {
    "duration": 49,
    "start_time": "2021-06-18T11:29:11.847Z"
   },
   {
    "duration": 18,
    "start_time": "2021-06-18T11:29:11.898Z"
   },
   {
    "duration": 1028,
    "start_time": "2021-06-18T11:29:11.919Z"
   },
   {
    "duration": 474,
    "start_time": "2021-06-18T11:29:12.950Z"
   },
   {
    "duration": 33,
    "start_time": "2021-06-18T11:29:13.427Z"
   },
   {
    "duration": 679,
    "start_time": "2021-06-18T11:29:13.463Z"
   },
   {
    "duration": 43,
    "start_time": "2021-06-18T11:29:14.144Z"
   },
   {
    "duration": 26,
    "start_time": "2021-06-18T11:29:14.189Z"
   },
   {
    "duration": 26,
    "start_time": "2021-06-18T11:29:14.223Z"
   },
   {
    "duration": 26,
    "start_time": "2021-06-18T11:29:14.285Z"
   },
   {
    "duration": 25,
    "start_time": "2021-06-18T11:29:14.314Z"
   },
   {
    "duration": 47,
    "start_time": "2021-06-18T11:29:14.342Z"
   },
   {
    "duration": 19,
    "start_time": "2021-06-18T11:29:14.392Z"
   },
   {
    "duration": 16,
    "start_time": "2021-06-18T11:29:14.414Z"
   },
   {
    "duration": 35,
    "start_time": "2021-06-18T11:29:14.432Z"
   },
   {
    "duration": 429,
    "start_time": "2021-06-18T11:29:14.470Z"
   },
   {
    "duration": 352,
    "start_time": "2021-06-18T11:29:14.902Z"
   },
   {
    "duration": 7,
    "start_time": "2021-06-18T11:29:15.257Z"
   },
   {
    "duration": 54,
    "start_time": "2021-06-18T11:29:15.266Z"
   },
   {
    "duration": 15,
    "start_time": "2021-06-18T11:29:15.322Z"
   },
   {
    "duration": 44,
    "start_time": "2021-06-18T11:29:15.339Z"
   },
   {
    "duration": 9,
    "start_time": "2021-06-18T11:29:15.386Z"
   },
   {
    "duration": 35,
    "start_time": "2021-06-18T11:29:15.397Z"
   },
   {
    "duration": 16,
    "start_time": "2021-06-18T11:29:15.434Z"
   },
   {
    "duration": 612,
    "start_time": "2021-06-18T11:29:15.452Z"
   },
   {
    "duration": 27,
    "start_time": "2021-06-18T11:29:16.067Z"
   },
   {
    "duration": 591,
    "start_time": "2021-06-18T11:29:16.097Z"
   },
   {
    "duration": 1534,
    "start_time": "2021-06-18T11:29:38.763Z"
   },
   {
    "duration": 24,
    "start_time": "2021-06-18T11:29:40.300Z"
   },
   {
    "duration": 16,
    "start_time": "2021-06-18T11:29:40.329Z"
   },
   {
    "duration": 45,
    "start_time": "2021-06-18T11:29:40.348Z"
   },
   {
    "duration": 17,
    "start_time": "2021-06-18T11:29:40.396Z"
   },
   {
    "duration": 21,
    "start_time": "2021-06-18T11:29:40.416Z"
   },
   {
    "duration": 7,
    "start_time": "2021-06-18T11:29:40.439Z"
   },
   {
    "duration": 41,
    "start_time": "2021-06-18T11:29:40.450Z"
   },
   {
    "duration": 11,
    "start_time": "2021-06-18T11:29:40.495Z"
   },
   {
    "duration": 15,
    "start_time": "2021-06-18T11:29:40.508Z"
   },
   {
    "duration": 7,
    "start_time": "2021-06-18T11:29:40.525Z"
   },
   {
    "duration": 506,
    "start_time": "2021-06-18T11:29:40.534Z"
   },
   {
    "duration": 10,
    "start_time": "2021-06-18T11:29:41.043Z"
   },
   {
    "duration": 32,
    "start_time": "2021-06-18T11:29:41.056Z"
   },
   {
    "duration": 15,
    "start_time": "2021-06-18T11:29:41.090Z"
   },
   {
    "duration": 5,
    "start_time": "2021-06-18T11:29:41.108Z"
   },
   {
    "duration": 18,
    "start_time": "2021-06-18T11:29:41.115Z"
   },
   {
    "duration": 11,
    "start_time": "2021-06-18T11:29:41.136Z"
   },
   {
    "duration": 41,
    "start_time": "2021-06-18T11:29:41.150Z"
   },
   {
    "duration": 26,
    "start_time": "2021-06-18T11:29:41.193Z"
   },
   {
    "duration": 9,
    "start_time": "2021-06-18T11:29:41.222Z"
   },
   {
    "duration": 7,
    "start_time": "2021-06-18T11:29:41.233Z"
   },
   {
    "duration": 55,
    "start_time": "2021-06-18T11:29:41.246Z"
   },
   {
    "duration": 15,
    "start_time": "2021-06-18T11:29:41.305Z"
   },
   {
    "duration": 12,
    "start_time": "2021-06-18T11:29:41.323Z"
   },
   {
    "duration": 7,
    "start_time": "2021-06-18T11:29:41.337Z"
   },
   {
    "duration": 39,
    "start_time": "2021-06-18T11:29:41.346Z"
   },
   {
    "duration": 18,
    "start_time": "2021-06-18T11:29:41.388Z"
   },
   {
    "duration": 5,
    "start_time": "2021-06-18T11:29:41.409Z"
   },
   {
    "duration": 22,
    "start_time": "2021-06-18T11:29:41.417Z"
   },
   {
    "duration": 47,
    "start_time": "2021-06-18T11:29:41.442Z"
   },
   {
    "duration": 14,
    "start_time": "2021-06-18T11:29:41.491Z"
   },
   {
    "duration": 16,
    "start_time": "2021-06-18T11:29:41.508Z"
   },
   {
    "duration": 503,
    "start_time": "2021-06-18T11:29:41.526Z"
   },
   {
    "duration": 301,
    "start_time": "2021-06-18T11:29:42.031Z"
   },
   {
    "duration": 17,
    "start_time": "2021-06-18T11:29:42.335Z"
   },
   {
    "duration": 382,
    "start_time": "2021-06-18T11:29:42.354Z"
   },
   {
    "duration": 9,
    "start_time": "2021-06-18T11:29:42.738Z"
   },
   {
    "duration": 35,
    "start_time": "2021-06-18T11:29:42.750Z"
   },
   {
    "duration": 508,
    "start_time": "2021-06-18T11:29:42.788Z"
   },
   {
    "duration": 16,
    "start_time": "2021-06-18T11:29:43.298Z"
   },
   {
    "duration": 573,
    "start_time": "2021-06-18T11:29:43.317Z"
   },
   {
    "duration": 921,
    "start_time": "2021-06-18T11:29:43.893Z"
   },
   {
    "duration": 8,
    "start_time": "2021-06-18T11:29:44.817Z"
   },
   {
    "duration": 21,
    "start_time": "2021-06-18T11:29:44.827Z"
   },
   {
    "duration": 752,
    "start_time": "2021-06-18T11:29:44.850Z"
   },
   {
    "duration": 10,
    "start_time": "2021-06-18T11:29:45.605Z"
   },
   {
    "duration": 810,
    "start_time": "2021-06-18T11:29:45.617Z"
   },
   {
    "duration": 856,
    "start_time": "2021-06-18T11:29:46.429Z"
   },
   {
    "duration": 759,
    "start_time": "2021-06-18T11:29:47.288Z"
   },
   {
    "duration": 36,
    "start_time": "2021-06-18T11:29:48.049Z"
   },
   {
    "duration": 334,
    "start_time": "2021-06-18T11:29:48.087Z"
   },
   {
    "duration": 412,
    "start_time": "2021-06-18T11:29:48.423Z"
   },
   {
    "duration": 343,
    "start_time": "2021-06-18T11:29:48.838Z"
   },
   {
    "duration": 302,
    "start_time": "2021-06-18T11:29:49.186Z"
   },
   {
    "duration": 18,
    "start_time": "2021-06-18T11:29:49.492Z"
   },
   {
    "duration": 1351,
    "start_time": "2021-06-18T11:29:49.513Z"
   },
   {
    "duration": 25,
    "start_time": "2021-06-18T11:29:50.866Z"
   },
   {
    "duration": 31,
    "start_time": "2021-06-18T11:29:50.893Z"
   },
   {
    "duration": 16,
    "start_time": "2021-06-18T11:29:50.927Z"
   },
   {
    "duration": 40,
    "start_time": "2021-06-18T11:29:50.946Z"
   },
   {
    "duration": 963,
    "start_time": "2021-06-18T11:29:50.989Z"
   },
   {
    "duration": 458,
    "start_time": "2021-06-18T11:29:51.956Z"
   },
   {
    "duration": 34,
    "start_time": "2021-06-18T11:29:52.417Z"
   },
   {
    "duration": 598,
    "start_time": "2021-06-18T11:29:52.454Z"
   },
   {
    "duration": 43,
    "start_time": "2021-06-18T11:29:53.054Z"
   },
   {
    "duration": 26,
    "start_time": "2021-06-18T11:29:53.099Z"
   },
   {
    "duration": 25,
    "start_time": "2021-06-18T11:29:53.133Z"
   },
   {
    "duration": 28,
    "start_time": "2021-06-18T11:29:53.186Z"
   },
   {
    "duration": 39,
    "start_time": "2021-06-18T11:29:53.216Z"
   },
   {
    "duration": 48,
    "start_time": "2021-06-18T11:29:53.257Z"
   },
   {
    "duration": 9,
    "start_time": "2021-06-18T11:29:53.308Z"
   },
   {
    "duration": 18,
    "start_time": "2021-06-18T11:29:53.320Z"
   },
   {
    "duration": 332,
    "start_time": "2021-06-18T11:29:59.330Z"
   },
   {
    "duration": 7,
    "start_time": "2021-06-18T11:29:59.665Z"
   },
   {
    "duration": 30,
    "start_time": "2021-06-18T11:29:59.687Z"
   },
   {
    "duration": 6,
    "start_time": "2021-06-18T11:29:59.719Z"
   },
   {
    "duration": 60,
    "start_time": "2021-06-18T11:29:59.727Z"
   },
   {
    "duration": 6,
    "start_time": "2021-06-18T11:29:59.789Z"
   },
   {
    "duration": 31,
    "start_time": "2021-06-18T11:29:59.798Z"
   },
   {
    "duration": 15,
    "start_time": "2021-06-18T11:29:59.833Z"
   },
   {
    "duration": 779,
    "start_time": "2021-06-18T11:29:59.850Z"
   },
   {
    "duration": 25,
    "start_time": "2021-06-18T11:30:00.687Z"
   },
   {
    "duration": 1223,
    "start_time": "2021-06-18T11:30:00.715Z"
   },
   {
    "duration": 465,
    "start_time": "2021-06-18T11:30:34.668Z"
   },
   {
    "duration": 19,
    "start_time": "2021-06-18T11:30:37.903Z"
   },
   {
    "duration": 422,
    "start_time": "2021-06-18T11:30:39.620Z"
   },
   {
    "duration": 426,
    "start_time": "2021-06-18T11:30:46.243Z"
   },
   {
    "duration": 536,
    "start_time": "2021-06-18T11:30:53.071Z"
   },
   {
    "duration": 447,
    "start_time": "2021-06-18T11:30:57.356Z"
   },
   {
    "duration": 452,
    "start_time": "2021-06-18T11:31:03.000Z"
   },
   {
    "duration": 574,
    "start_time": "2021-06-18T11:31:06.982Z"
   },
   {
    "duration": 681,
    "start_time": "2021-06-18T11:32:42.533Z"
   },
   {
    "duration": 661,
    "start_time": "2021-06-18T11:32:57.567Z"
   },
   {
    "duration": 556,
    "start_time": "2021-06-18T11:33:12.326Z"
   },
   {
    "duration": 696,
    "start_time": "2021-06-18T11:33:18.057Z"
   },
   {
    "duration": 535,
    "start_time": "2021-06-18T11:33:22.888Z"
   },
   {
    "duration": 444,
    "start_time": "2021-06-18T11:33:27.656Z"
   },
   {
    "duration": 759,
    "start_time": "2021-06-18T11:33:46.870Z"
   },
   {
    "duration": 448,
    "start_time": "2021-06-18T11:34:42.161Z"
   },
   {
    "duration": 449,
    "start_time": "2021-06-18T11:35:05.964Z"
   },
   {
    "duration": 19,
    "start_time": "2021-06-18T11:35:28.779Z"
   },
   {
    "duration": 586,
    "start_time": "2021-06-18T11:35:30.447Z"
   },
   {
    "duration": 1524,
    "start_time": "2021-08-12T20:51:51.577Z"
   },
   {
    "duration": 23,
    "start_time": "2021-08-12T20:51:53.104Z"
   },
   {
    "duration": 35,
    "start_time": "2021-08-12T20:51:53.132Z"
   },
   {
    "duration": 11,
    "start_time": "2021-08-12T20:51:53.169Z"
   },
   {
    "duration": 13,
    "start_time": "2021-08-12T20:51:53.183Z"
   },
   {
    "duration": 23,
    "start_time": "2021-08-12T20:51:53.198Z"
   },
   {
    "duration": 8,
    "start_time": "2021-08-12T20:51:53.223Z"
   },
   {
    "duration": 10,
    "start_time": "2021-08-12T20:51:53.271Z"
   },
   {
    "duration": 8,
    "start_time": "2021-08-12T20:51:53.284Z"
   },
   {
    "duration": 16,
    "start_time": "2021-08-12T20:51:53.294Z"
   },
   {
    "duration": 7,
    "start_time": "2021-08-12T20:51:53.312Z"
   },
   {
    "duration": 526,
    "start_time": "2021-08-12T20:51:53.321Z"
   },
   {
    "duration": 18,
    "start_time": "2021-08-12T20:51:53.849Z"
   },
   {
    "duration": 9,
    "start_time": "2021-08-12T20:51:53.870Z"
   },
   {
    "duration": 15,
    "start_time": "2021-08-12T20:51:53.881Z"
   },
   {
    "duration": 4,
    "start_time": "2021-08-12T20:51:53.899Z"
   },
   {
    "duration": 21,
    "start_time": "2021-08-12T20:51:53.906Z"
   },
   {
    "duration": 10,
    "start_time": "2021-08-12T20:51:53.967Z"
   },
   {
    "duration": 11,
    "start_time": "2021-08-12T20:51:53.980Z"
   },
   {
    "duration": 28,
    "start_time": "2021-08-12T20:51:53.993Z"
   },
   {
    "duration": 10,
    "start_time": "2021-08-12T20:51:54.023Z"
   },
   {
    "duration": 36,
    "start_time": "2021-08-12T20:51:54.035Z"
   },
   {
    "duration": 20,
    "start_time": "2021-08-12T20:51:54.080Z"
   },
   {
    "duration": 33,
    "start_time": "2021-08-12T20:51:54.104Z"
   },
   {
    "duration": 28,
    "start_time": "2021-08-12T20:51:54.139Z"
   },
   {
    "duration": 7,
    "start_time": "2021-08-12T20:51:54.169Z"
   },
   {
    "duration": 10,
    "start_time": "2021-08-12T20:51:54.178Z"
   },
   {
    "duration": 14,
    "start_time": "2021-08-12T20:51:54.190Z"
   },
   {
    "duration": 6,
    "start_time": "2021-08-12T20:51:54.206Z"
   },
   {
    "duration": 54,
    "start_time": "2021-08-12T20:51:54.214Z"
   },
   {
    "duration": 15,
    "start_time": "2021-08-12T20:51:54.271Z"
   },
   {
    "duration": 12,
    "start_time": "2021-08-12T20:51:54.288Z"
   },
   {
    "duration": 16,
    "start_time": "2021-08-12T20:51:54.303Z"
   },
   {
    "duration": 509,
    "start_time": "2021-08-12T20:51:54.322Z"
   },
   {
    "duration": 318,
    "start_time": "2021-08-12T20:51:54.833Z"
   },
   {
    "duration": 26,
    "start_time": "2021-08-12T20:51:55.154Z"
   },
   {
    "duration": 401,
    "start_time": "2021-08-12T20:51:55.183Z"
   },
   {
    "duration": 9,
    "start_time": "2021-08-12T20:51:55.586Z"
   },
   {
    "duration": 18,
    "start_time": "2021-08-12T20:51:55.597Z"
   },
   {
    "duration": 650,
    "start_time": "2021-08-12T20:51:55.617Z"
   },
   {
    "duration": 17,
    "start_time": "2021-08-12T20:51:56.269Z"
   },
   {
    "duration": 769,
    "start_time": "2021-08-12T20:51:56.288Z"
   },
   {
    "duration": 801,
    "start_time": "2021-08-12T20:51:57.066Z"
   },
   {
    "duration": 8,
    "start_time": "2021-08-12T20:51:57.869Z"
   },
   {
    "duration": 23,
    "start_time": "2021-08-12T20:51:57.879Z"
   },
   {
    "duration": 773,
    "start_time": "2021-08-12T20:51:57.904Z"
   },
   {
    "duration": 10,
    "start_time": "2021-08-12T20:51:58.679Z"
   },
   {
    "duration": 639,
    "start_time": "2021-08-12T20:51:58.691Z"
   },
   {
    "duration": 798,
    "start_time": "2021-08-12T20:51:59.333Z"
   },
   {
    "duration": 827,
    "start_time": "2021-08-12T20:52:00.133Z"
   },
   {
    "duration": 28,
    "start_time": "2021-08-12T20:52:00.962Z"
   },
   {
    "duration": 357,
    "start_time": "2021-08-12T20:52:00.992Z"
   },
   {
    "duration": 440,
    "start_time": "2021-08-12T20:52:01.351Z"
   },
   {
    "duration": 352,
    "start_time": "2021-08-12T20:52:01.793Z"
   },
   {
    "duration": 333,
    "start_time": "2021-08-12T20:52:02.148Z"
   },
   {
    "duration": 17,
    "start_time": "2021-08-12T20:52:02.484Z"
   },
   {
    "duration": 1382,
    "start_time": "2021-08-12T20:52:02.503Z"
   },
   {
    "duration": 16,
    "start_time": "2021-08-12T20:52:03.887Z"
   },
   {
    "duration": 16,
    "start_time": "2021-08-12T20:52:03.906Z"
   },
   {
    "duration": 46,
    "start_time": "2021-08-12T20:52:03.925Z"
   },
   {
    "duration": 14,
    "start_time": "2021-08-12T20:52:03.974Z"
   },
   {
    "duration": 558,
    "start_time": "2021-08-12T20:52:03.990Z"
   },
   {
    "duration": 476,
    "start_time": "2021-08-12T20:52:04.551Z"
   },
   {
    "duration": 43,
    "start_time": "2021-08-12T20:52:05.029Z"
   },
   {
    "duration": 570,
    "start_time": "2021-08-12T20:52:05.074Z"
   },
   {
    "duration": 40,
    "start_time": "2021-08-12T20:52:05.647Z"
   },
   {
    "duration": 28,
    "start_time": "2021-08-12T20:52:05.690Z"
   },
   {
    "duration": 51,
    "start_time": "2021-08-12T20:52:05.726Z"
   },
   {
    "duration": 29,
    "start_time": "2021-08-12T20:52:05.780Z"
   },
   {
    "duration": 27,
    "start_time": "2021-08-12T20:52:05.811Z"
   },
   {
    "duration": 27,
    "start_time": "2021-08-12T20:52:05.868Z"
   },
   {
    "duration": 11,
    "start_time": "2021-08-12T20:52:05.898Z"
   },
   {
    "duration": 14,
    "start_time": "2021-08-12T20:52:05.911Z"
   },
   {
    "duration": 53,
    "start_time": "2021-08-12T20:52:05.927Z"
   },
   {
    "duration": 467,
    "start_time": "2021-08-12T20:52:05.982Z"
   },
   {
    "duration": 361,
    "start_time": "2021-08-12T20:52:06.451Z"
   },
   {
    "duration": 7,
    "start_time": "2021-08-12T20:52:06.814Z"
   },
   {
    "duration": 47,
    "start_time": "2021-08-12T20:52:06.824Z"
   },
   {
    "duration": 6,
    "start_time": "2021-08-12T20:52:06.874Z"
   },
   {
    "duration": 30,
    "start_time": "2021-08-12T20:52:06.882Z"
   },
   {
    "duration": 8,
    "start_time": "2021-08-12T20:52:06.914Z"
   },
   {
    "duration": 66,
    "start_time": "2021-08-12T20:52:06.924Z"
   },
   {
    "duration": 17,
    "start_time": "2021-08-12T20:52:06.992Z"
   },
   {
    "duration": 761,
    "start_time": "2021-08-12T20:52:07.011Z"
   },
   {
    "duration": 16,
    "start_time": "2021-08-12T20:52:07.775Z"
   },
   {
    "duration": 621,
    "start_time": "2021-08-12T20:52:07.793Z"
   },
   {
    "duration": 390,
    "start_time": "2021-08-12T22:32:37.717Z"
   },
   {
    "duration": 14,
    "start_time": "2021-08-12T22:32:48.687Z"
   },
   {
    "duration": 16,
    "start_time": "2021-08-12T22:38:55.054Z"
   }
  ],
  "kernelspec": {
   "display_name": "Python 3",
   "language": "python",
   "name": "python3"
  },
  "language_info": {
   "codemirror_mode": {
    "name": "ipython",
    "version": 3
   },
   "file_extension": ".py",
   "mimetype": "text/x-python",
   "name": "python",
   "nbconvert_exporter": "python",
   "pygments_lexer": "ipython3",
   "version": "3.8.5"
  },
  "toc": {
   "base_numbering": 1,
   "nav_menu": {
    "height": "218px",
    "width": "178px"
   },
   "number_sections": true,
   "sideBar": true,
   "skip_h1_title": true,
   "title_cell": "Table of Contents",
   "title_sidebar": "Contents",
   "toc_cell": false,
   "toc_position": {
    "height": "calc(100% - 180px)",
    "left": "10px",
    "top": "150px",
    "width": "255.594px"
   },
   "toc_section_display": true,
   "toc_window_display": true
  }
 },
 "nbformat": 4,
 "nbformat_minor": 4
}
